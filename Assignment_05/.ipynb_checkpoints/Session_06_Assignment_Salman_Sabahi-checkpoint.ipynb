{
 "cells": [
  {
   "cell_type": "markdown",
   "metadata": {},
   "source": [
    "## Salman Sabahi\n",
    "## Date Created: Nov 21, 2018"
   ]
  },
  {
   "cell_type": "markdown",
   "metadata": {},
   "source": [
    "# Sleep data :\n",
    "\n",
    "## Part 1: warm up !"
   ]
  },
  {
   "cell_type": "markdown",
   "metadata": {},
   "source": [
    "### Download and import data from: \n",
    "\n",
    "    https://www.dropbox.com/s/mtwl4nyo3lp00gy/sleepdata.csv?dl=0\n"
   ]
  },
  {
   "cell_type": "code",
   "execution_count": 1,
   "metadata": {
    "collapsed": true
   },
   "outputs": [],
   "source": [
    "import pandas as pd\n",
    "import matplotlib.pyplot as plt\n",
    "%matplotlib inline\n",
    "import seaborn as sns\n",
    "import numpy as np"
   ]
  },
  {
   "cell_type": "code",
   "execution_count": 104,
   "metadata": {
    "collapsed": true
   },
   "outputs": [],
   "source": [
    "df = pd.read_csv('./data/sleepdata.csv',sep=';')"
   ]
  },
  {
   "cell_type": "code",
   "execution_count": 105,
   "metadata": {},
   "outputs": [
    {
     "data": {
      "text/plain": [
       "Index(['Start', 'End', 'Sleep quality', 'Time in bed', 'Wake up',\n",
       "       'Sleep Notes', 'Heart rate', 'Activity (steps)'],\n",
       "      dtype='object')"
      ]
     },
     "execution_count": 105,
     "metadata": {},
     "output_type": "execute_result"
    }
   ],
   "source": [
    "df.columns"
   ]
  },
  {
   "cell_type": "code",
   "execution_count": 106,
   "metadata": {},
   "outputs": [
    {
     "data": {
      "text/plain": [
       "array(['51%', '57%', '34%', '73%', '63%', '32%', '60%', '67%', '70%',\n",
       "       '44%', '46%', '40%', '48%', '69%', '41%', '28%', '42%', '43%',\n",
       "       '29%', '35%', '38%', '52%', '31%', '22%', '20%', '49%', '54%',\n",
       "       '65%', '58%', '56%', '53%', '68%', '88%', '76%', '78%', '55%',\n",
       "       '64%', '72%', '90%', '71%', '62%', '25%', '74%', '61%', '80%',\n",
       "       '66%', '85%', '45%', '33%', '79%', '77%', '36%', '83%', '47%',\n",
       "       '82%', '59%', '50%', '84%', '75%', '86%', '39%', '81%', '37%',\n",
       "       '89%', '87%', '24%', '95%', '91%'], dtype=object)"
      ]
     },
     "execution_count": 106,
     "metadata": {},
     "output_type": "execute_result"
    }
   ],
   "source": [
    "df['Sleep quality'].unique()"
   ]
  },
  {
   "cell_type": "code",
   "execution_count": 107,
   "metadata": {
    "collapsed": true
   },
   "outputs": [],
   "source": [
    "def time_con(t):\n",
    "    (h, m) = t.split(':')\n",
    "    result = int(h) * 60 + int(m) * 1\n",
    "    return(result)"
   ]
  },
  {
   "cell_type": "code",
   "execution_count": 108,
   "metadata": {
    "collapsed": true
   },
   "outputs": [],
   "source": [
    "df['Time in bed_min'] = df.apply(lambda i: time_con(i['Time in bed']), axis=1)\n",
    "df['Start'] = pd.to_datetime(df['Start'])\n",
    "df['End'] = pd.to_datetime(df['End'])\n",
    "\n",
    "s = df['Sleep quality'].apply(lambda x: x.split('%')[0])\n",
    "df['Sleep quality'] = pd.to_numeric(s)/100\n",
    "# df['Start_d'] = df['Start'].str.split()[0][0]\n",
    "# df['Start_t'] = df['Start'].str.split()[0][1]\n",
    "\n",
    "# df['End_d'] = df['End'].str.split()[0][0]\n",
    "# df['End_t'] = df['End'].str.split()[0][1]"
   ]
  },
  {
   "cell_type": "code",
   "execution_count": 109,
   "metadata": {},
   "outputs": [
    {
     "data": {
      "text/html": [
       "<div>\n",
       "<style>\n",
       "    .dataframe thead tr:only-child th {\n",
       "        text-align: right;\n",
       "    }\n",
       "\n",
       "    .dataframe thead th {\n",
       "        text-align: left;\n",
       "    }\n",
       "\n",
       "    .dataframe tbody tr th {\n",
       "        vertical-align: top;\n",
       "    }\n",
       "</style>\n",
       "<table border=\"1\" class=\"dataframe\">\n",
       "  <thead>\n",
       "    <tr style=\"text-align: right;\">\n",
       "      <th></th>\n",
       "      <th>Start</th>\n",
       "      <th>End</th>\n",
       "      <th>Sleep quality</th>\n",
       "      <th>Time in bed</th>\n",
       "      <th>Wake up</th>\n",
       "      <th>Sleep Notes</th>\n",
       "      <th>Heart rate</th>\n",
       "      <th>Activity (steps)</th>\n",
       "      <th>Time in bed_min</th>\n",
       "    </tr>\n",
       "  </thead>\n",
       "  <tbody>\n",
       "    <tr>\n",
       "      <th>0</th>\n",
       "      <td>2011-06-19 08:42:08</td>\n",
       "      <td>2011-06-19 13:22:13</td>\n",
       "      <td>0.51</td>\n",
       "      <td>4:40</td>\n",
       "      <td>NaN</td>\n",
       "      <td>NaN</td>\n",
       "      <td>NaN</td>\n",
       "      <td>0</td>\n",
       "      <td>280</td>\n",
       "    </tr>\n",
       "    <tr>\n",
       "      <th>1</th>\n",
       "      <td>2011-06-29 07:27:53</td>\n",
       "      <td>2011-06-29 12:39:43</td>\n",
       "      <td>0.57</td>\n",
       "      <td>5:11</td>\n",
       "      <td>NaN</td>\n",
       "      <td>NaN</td>\n",
       "      <td>NaN</td>\n",
       "      <td>0</td>\n",
       "      <td>311</td>\n",
       "    </tr>\n",
       "    <tr>\n",
       "      <th>2</th>\n",
       "      <td>2011-06-30 08:04:06</td>\n",
       "      <td>2011-06-30 10:51:15</td>\n",
       "      <td>0.34</td>\n",
       "      <td>2:47</td>\n",
       "      <td>NaN</td>\n",
       "      <td>NaN</td>\n",
       "      <td>NaN</td>\n",
       "      <td>0</td>\n",
       "      <td>167</td>\n",
       "    </tr>\n",
       "    <tr>\n",
       "      <th>3</th>\n",
       "      <td>2011-07-04 05:48:35</td>\n",
       "      <td>2011-07-04 12:27:00</td>\n",
       "      <td>0.73</td>\n",
       "      <td>6:38</td>\n",
       "      <td>NaN</td>\n",
       "      <td>NaN</td>\n",
       "      <td>NaN</td>\n",
       "      <td>0</td>\n",
       "      <td>398</td>\n",
       "    </tr>\n",
       "    <tr>\n",
       "      <th>4</th>\n",
       "      <td>2011-07-05 05:46:29</td>\n",
       "      <td>2011-07-05 10:42:00</td>\n",
       "      <td>0.51</td>\n",
       "      <td>4:55</td>\n",
       "      <td>NaN</td>\n",
       "      <td>NaN</td>\n",
       "      <td>NaN</td>\n",
       "      <td>0</td>\n",
       "      <td>295</td>\n",
       "    </tr>\n",
       "  </tbody>\n",
       "</table>\n",
       "</div>"
      ],
      "text/plain": [
       "                Start                 End  Sleep quality Time in bed  Wake up  \\\n",
       "0 2011-06-19 08:42:08 2011-06-19 13:22:13           0.51        4:40      NaN   \n",
       "1 2011-06-29 07:27:53 2011-06-29 12:39:43           0.57        5:11      NaN   \n",
       "2 2011-06-30 08:04:06 2011-06-30 10:51:15           0.34        2:47      NaN   \n",
       "3 2011-07-04 05:48:35 2011-07-04 12:27:00           0.73        6:38      NaN   \n",
       "4 2011-07-05 05:46:29 2011-07-05 10:42:00           0.51        4:55      NaN   \n",
       "\n",
       "   Sleep Notes  Heart rate  Activity (steps)  Time in bed_min  \n",
       "0          NaN         NaN                 0              280  \n",
       "1          NaN         NaN                 0              311  \n",
       "2          NaN         NaN                 0              167  \n",
       "3          NaN         NaN                 0              398  \n",
       "4          NaN         NaN                 0              295  "
      ]
     },
     "execution_count": 109,
     "metadata": {},
     "output_type": "execute_result"
    }
   ],
   "source": [
    "df.head()"
   ]
  },
  {
   "cell_type": "code",
   "execution_count": 110,
   "metadata": {},
   "outputs": [
    {
     "name": "stdout",
     "output_type": "stream",
     "text": [
      "<class 'pandas.core.frame.DataFrame'>\n",
      "RangeIndex: 538 entries, 0 to 537\n",
      "Data columns (total 9 columns):\n",
      "Start               538 non-null datetime64[ns]\n",
      "End                 538 non-null datetime64[ns]\n",
      "Sleep quality       538 non-null float64\n",
      "Time in bed         538 non-null object\n",
      "Wake up             0 non-null float64\n",
      "Sleep Notes         0 non-null float64\n",
      "Heart rate          5 non-null float64\n",
      "Activity (steps)    538 non-null int64\n",
      "Time in bed_min     538 non-null int64\n",
      "dtypes: datetime64[ns](2), float64(4), int64(2), object(1)\n",
      "memory usage: 37.9+ KB\n"
     ]
    }
   ],
   "source": [
    "df.info()"
   ]
  },
  {
   "cell_type": "code",
   "execution_count": 111,
   "metadata": {},
   "outputs": [
    {
     "data": {
      "text/plain": [
       "Start               datetime64[ns]\n",
       "End                 datetime64[ns]\n",
       "Sleep quality              float64\n",
       "Time in bed                 object\n",
       "Wake up                    float64\n",
       "Sleep Notes                float64\n",
       "Heart rate                 float64\n",
       "Activity (steps)             int64\n",
       "Time in bed_min              int64\n",
       "dtype: object"
      ]
     },
     "execution_count": 111,
     "metadata": {},
     "output_type": "execute_result"
    }
   ],
   "source": [
    "df.dtypes"
   ]
  },
  {
   "cell_type": "markdown",
   "metadata": {},
   "source": [
    "### Bedtime Hours:\n",
    "\n",
    "What is  most common hours? You can make a histogram of bedtime hour !\n"
   ]
  },
  {
   "cell_type": "code",
   "execution_count": 112,
   "metadata": {},
   "outputs": [
    {
     "data": {
      "text/plain": [
       "Text(0.5,0,'Starting Time')"
      ]
     },
     "execution_count": 112,
     "metadata": {},
     "output_type": "execute_result"
    },
    {
     "data": {
      "image/png": "[encoded data removed]",
      "text/plain": [
       "<matplotlib.figure.Figure at 0x1a163ed898>"
      ]
     },
     "metadata": {},
     "output_type": "display_data"
    }
   ],
   "source": [
    "g = (df.groupby(df['Start'].dt.hour)['Time in bed_min'].count()).plot(kind='bar')\n",
    "\n",
    "g.set_ylabel('Frequency')\n",
    "g.set_xlabel('Starting Time')"
   ]
  },
  {
   "cell_type": "markdown",
   "metadata": {},
   "source": [
    "### Conclusion ?\n",
    "\n",
    "What does the plot show about the sleep pattern ?\n",
    "\n",
    "Clearly, I should be sleeping earlier. According to this graph, the most common hour I fall asleep is 2 in the morning. However, I should be mindful of bias since I am less likely to initialize the Sleep Cycle app when I’m super tired - as is often the case when I fall asleep before midnight."
   ]
  },
  {
   "cell_type": "markdown",
   "metadata": {},
   "source": [
    "### Sleep Duration:\n",
    "\n",
    "How long slept for when fell asleep. \n",
    "\n",
    "Can plot a histogram based on minutes of sleep"
   ]
  },
  {
   "cell_type": "code",
   "execution_count": 113,
   "metadata": {},
   "outputs": [
    {
     "data": {
      "text/plain": [
       "Text(0.5,0,'Time-hr')"
      ]
     },
     "execution_count": 113,
     "metadata": {},
     "output_type": "execute_result"
    },
    {
     "data": {
      "image/png": "[encoded data removed]",
      "text/plain": [
       "<matplotlib.figure.Figure at 0x1a16633160>"
      ]
     },
     "metadata": {},
     "output_type": "display_data"
    }
   ],
   "source": [
    "g = (df['Time in bed_min']/60).plot(kind = 'hist',bins=30)\n",
    "g.set_xlabel('Time-hr')"
   ]
  },
  {
   "cell_type": "markdown",
   "metadata": {},
   "source": [
    "### Conclusion ?\n",
    "\n",
    "An approximately normal distribution as expected with the large sample size. On average, I slept about 355 minutes, or 5 hours and 55 minutes per night. Take note that the mean is pulled up by an outlier, the result of a 12 hour hibernation on a warm summer night last year."
   ]
  },
  {
   "cell_type": "markdown",
   "metadata": {},
   "source": [
    "### Sleep Duration Over Time:\n",
    "\n",
    "How has the duration of sleep changed over time ?\n",
    "\n",
    "__Note that you might want to fit a regression curve to the scatter plot you make !__"
   ]
  },
  {
   "cell_type": "markdown",
   "metadata": {},
   "source": [
    "__Now modify your plot to include sleep quality as a new dimension !__"
   ]
  },
  {
   "cell_type": "code",
   "execution_count": 114,
   "metadata": {},
   "outputs": [
    {
     "data": {
      "text/plain": [
       "Text(0,0.5,'Hours of Sleep')"
      ]
     },
     "execution_count": 114,
     "metadata": {},
     "output_type": "execute_result"
    },
    {
     "data": {
      "image/png": "[encoded data removed]",
      "text/plain": [
       "<matplotlib.figure.Figure at 0x1a16901a58>"
      ]
     },
     "metadata": {},
     "output_type": "display_data"
    }
   ],
   "source": [
    "fig = plt.figure(figsize = (15,10))\n",
    "ax = fig.add_subplot(111)\n",
    "\n",
    "x = df['Start'].dt.date\n",
    "y = df['Time in bed_min']/60\n",
    "ax.plot_date(x, y, xdate=True, ydate=False, color='skyblue')\n",
    "ax.set_xlabel('Year')\n",
    "ax.set_ylabel('Hours of Sleep')"
   ]
  },
  {
   "cell_type": "markdown",
   "metadata": {},
   "source": [
    "### Conclusion ?\n",
    "\n",
    "Can you notice any change around August 2013 ?\n"
   ]
  },
  {
   "cell_type": "markdown",
   "metadata": {},
   "source": [
    "### Sleep Quality Over Time:\n",
    "\n",
    "Sleep Quality is affected by two factors:\n",
    "\n",
    "    - Total time asleep\n",
    "    - Amount of movement\n",
    "\n",
    "\n",
    "Since we don’t have access to the movement data, we can’t verify the relationship between movement and sleep quality. \n",
    "\n",
    "However, we can check the relationship between sleep duration and sleep quality. Create a visualization of that !"
   ]
  },
  {
   "cell_type": "code",
   "execution_count": 116,
   "metadata": {},
   "outputs": [
    {
     "data": {
      "text/plain": [
       "[<matplotlib.lines.Line2D at 0x1a26d269b0>]"
      ]
     },
     "execution_count": 116,
     "metadata": {},
     "output_type": "execute_result"
    },
    {
     "data": {
      "image/png": "[encoded data removed]",
      "text/plain": [
       "<matplotlib.figure.Figure at 0x1a26b43c88>"
      ]
     },
     "metadata": {},
     "output_type": "display_data"
    }
   ],
   "source": [
    "#import matplotlib.ticker as ticker\n",
    "\n",
    "fig = plt.figure(figsize = (10,10))\n",
    "ax = fig.add_subplot(111)\n",
    "\n",
    "y = df['Sleep quality']\n",
    "x = df['Time in bed_min']/60\n",
    "ax.set_xlabel('Time-hr')\n",
    "ax.set_ylabel('Sleep Quality %')\n",
    "\n",
    "\n",
    "ax.set_xticks(range(0,13))\n",
    "\n",
    "ax.set_yticks(np.linspace(0,1,21))\n",
    "\n",
    "ax.plot_date(x, y, xdate=False, ydate=False, color='skyblue')"
   ]
  },
  {
   "cell_type": "markdown",
   "metadata": {},
   "source": [
    "### Does duration mean quality ?\n",
    "\n",
    "Given this information, it is possible for sleep quality to increase even when sleep duration decreases, especially if there is less movement in bed ! S\n",
    "\n",
    "\n",
    " plot sleep quality over time to find out if this is true !"
   ]
  },
  {
   "cell_type": "markdown",
   "metadata": {},
   "source": [
    "## Part 2: A similar realistic situation:\n",
    "\n",
    "- Lets conisder a similar where we have got sleep data from a devices. Expand on what you did above and come with extra analysis of yours. Make conclusions based on your observations\n",
    "\n",
    "- Download the data: https://www.dropbox.com/s/7fdmc0l3410g8hu/sleep-export2.csv?dl=0\n",
    "\n",
    "- Here are some extra info you might need:\n",
    "     - http://developer.samsung.com/health/server/api/data-types/sleep\n",
    "     - http://developer.samsung.com/onlinedocs/health/index.html?com/samsung/android/sdk/healthdata/HealthConstants.Sleep.html\n",
    "\n",
    "    - https://currentmillis.com/tutorials/system-currentTimeMillis.html#utc"
   ]
  },
  {
   "cell_type": "markdown",
   "metadata": {},
   "source": [
    "## Part 3 (optional ... I wouldn't do that if I were you !) : A messy realistic situation:\n",
    "\n",
    "- Lets conisder a more realistic situation where we have got sleep data from two different devices but off the same source !\n",
    "\n",
    "- The data is not clean. It has missing records; The format is different;\n",
    "\n",
    "- The goal here is to develop a script that cleans up and puts the data in a format we can easily use. So, we need to make sense of the data and also clean it up for analysis...\n",
    "\n",
    "- Download the data here : https://www.dropbox.com/s/o6mbznc047z1pxs/sleep-export.csv?dl=0"
   ]
  },
  {
   "cell_type": "code",
   "execution_count": 40,
   "metadata": {
    "collapsed": true
   },
   "outputs": [],
   "source": [
    "from datetime import datetime, timedelta"
   ]
  },
  {
   "cell_type": "code",
   "execution_count": 125,
   "metadata": {},
   "outputs": [
    {
     "data": {
      "text/html": [
       "<div>\n",
       "<style>\n",
       "    .dataframe thead tr:only-child th {\n",
       "        text-align: right;\n",
       "    }\n",
       "\n",
       "    .dataframe thead th {\n",
       "        text-align: left;\n",
       "    }\n",
       "\n",
       "    .dataframe tbody tr th {\n",
       "        vertical-align: top;\n",
       "    }\n",
       "</style>\n",
       "<table border=\"1\" class=\"dataframe\">\n",
       "  <thead>\n",
       "    <tr style=\"text-align: right;\">\n",
       "      <th></th>\n",
       "      <th>Unnamed: 0</th>\n",
       "      <th>efficiency</th>\n",
       "      <th>has_sleep_data</th>\n",
       "      <th>com.samsung.health.sleep.datauuid</th>\n",
       "      <th>quality</th>\n",
       "      <th>com.samsung.health.sleep.custom</th>\n",
       "      <th>com.samsung.health.sleep.end_time</th>\n",
       "      <th>original_wake_up_time</th>\n",
       "      <th>com.samsung.health.sleep.start_time</th>\n",
       "      <th>com.samsung.health.sleep.time_offset</th>\n",
       "      <th>com.samsung.health.sleep.update_time</th>\n",
       "      <th>original_bed_time</th>\n",
       "      <th>com.samsung.health.sleep.create_time</th>\n",
       "      <th>original_efficiency</th>\n",
       "      <th>sleep_start_time</th>\n",
       "      <th>sleep_end_time</th>\n",
       "      <th>sleep_wakeup_time</th>\n",
       "      <th>sleep_update_time</th>\n",
       "      <th>sleep_create_time</th>\n",
       "    </tr>\n",
       "  </thead>\n",
       "  <tbody>\n",
       "    <tr>\n",
       "      <th>0</th>\n",
       "      <td>0</td>\n",
       "      <td>92.663040</td>\n",
       "      <td>1.0</td>\n",
       "      <td>03f12ce0-9ade-5c74-9d57-686fd3966f2a</td>\n",
       "      <td>50003.0</td>\n",
       "      <td>NaN</td>\n",
       "      <td>1520501400000</td>\n",
       "      <td>1.520501e+12</td>\n",
       "      <td>1520479380000</td>\n",
       "      <td>UTC-0400</td>\n",
       "      <td>1520516398387</td>\n",
       "      <td>1.520479e+12</td>\n",
       "      <td>1520501522181</td>\n",
       "      <td>92.66304</td>\n",
       "      <td>2018-03-08 03:23:00</td>\n",
       "      <td>2018-03-08 09:30:00</td>\n",
       "      <td>2018-03-08 09:30:00</td>\n",
       "      <td>2018-03-08 13:39:58</td>\n",
       "      <td>2018-03-08 09:32:02</td>\n",
       "    </tr>\n",
       "    <tr>\n",
       "      <th>1</th>\n",
       "      <td>1</td>\n",
       "      <td>87.788020</td>\n",
       "      <td>1.0</td>\n",
       "      <td>0419de25-ff8a-e425-0864-7e83b7f5d991</td>\n",
       "      <td>NaN</td>\n",
       "      <td>NaN</td>\n",
       "      <td>1519565280000</td>\n",
       "      <td>NaN</td>\n",
       "      <td>1519539300000</td>\n",
       "      <td>UTC-0400</td>\n",
       "      <td>1519565416332</td>\n",
       "      <td>NaN</td>\n",
       "      <td>1519565416332</td>\n",
       "      <td>NaN</td>\n",
       "      <td>2018-02-25 06:15:00</td>\n",
       "      <td>2018-02-25 13:28:00</td>\n",
       "      <td>NaT</td>\n",
       "      <td>2018-02-25 13:30:16</td>\n",
       "      <td>2018-02-25 13:30:16</td>\n",
       "    </tr>\n",
       "    <tr>\n",
       "      <th>2</th>\n",
       "      <td>2</td>\n",
       "      <td>90.026955</td>\n",
       "      <td>1.0</td>\n",
       "      <td>048b90e0-1e31-7875-337c-e9d8c24bea59</td>\n",
       "      <td>NaN</td>\n",
       "      <td>NaN</td>\n",
       "      <td>1527932940000</td>\n",
       "      <td>NaN</td>\n",
       "      <td>1527910620000</td>\n",
       "      <td>UTC-0300</td>\n",
       "      <td>1527932972094</td>\n",
       "      <td>NaN</td>\n",
       "      <td>1527932972094</td>\n",
       "      <td>NaN</td>\n",
       "      <td>2018-06-02 03:37:00</td>\n",
       "      <td>2018-06-02 09:49:00</td>\n",
       "      <td>NaT</td>\n",
       "      <td>2018-06-02 09:49:32</td>\n",
       "      <td>2018-06-02 09:49:32</td>\n",
       "    </tr>\n",
       "    <tr>\n",
       "      <th>3</th>\n",
       "      <td>3</td>\n",
       "      <td>93.162390</td>\n",
       "      <td>1.0</td>\n",
       "      <td>058e45d4-2bda-fc5f-6545-c965c65fea43</td>\n",
       "      <td>NaN</td>\n",
       "      <td>NaN</td>\n",
       "      <td>1529749920000</td>\n",
       "      <td>NaN</td>\n",
       "      <td>1529735940000</td>\n",
       "      <td>UTC-0300</td>\n",
       "      <td>1529750846337</td>\n",
       "      <td>NaN</td>\n",
       "      <td>1529750846337</td>\n",
       "      <td>NaN</td>\n",
       "      <td>2018-06-23 06:39:00</td>\n",
       "      <td>2018-06-23 10:32:00</td>\n",
       "      <td>NaT</td>\n",
       "      <td>2018-06-23 10:47:26</td>\n",
       "      <td>2018-06-23 10:47:26</td>\n",
       "    </tr>\n",
       "    <tr>\n",
       "      <th>4</th>\n",
       "      <td>4</td>\n",
       "      <td>93.750000</td>\n",
       "      <td>1.0</td>\n",
       "      <td>059021fb-39a7-ab8c-e488-662743e11821</td>\n",
       "      <td>NaN</td>\n",
       "      <td>NaN</td>\n",
       "      <td>1515159660000</td>\n",
       "      <td>NaN</td>\n",
       "      <td>1515128040000</td>\n",
       "      <td>UTC-0400</td>\n",
       "      <td>1515159899850</td>\n",
       "      <td>NaN</td>\n",
       "      <td>1515159899850</td>\n",
       "      <td>NaN</td>\n",
       "      <td>2018-01-05 04:54:00</td>\n",
       "      <td>2018-01-05 13:41:00</td>\n",
       "      <td>NaT</td>\n",
       "      <td>2018-01-05 13:44:59</td>\n",
       "      <td>2018-01-05 13:44:59</td>\n",
       "    </tr>\n",
       "  </tbody>\n",
       "</table>\n",
       "</div>"
      ],
      "text/plain": [
       "   Unnamed: 0  efficiency  has_sleep_data  \\\n",
       "0           0   92.663040             1.0   \n",
       "1           1   87.788020             1.0   \n",
       "2           2   90.026955             1.0   \n",
       "3           3   93.162390             1.0   \n",
       "4           4   93.750000             1.0   \n",
       "\n",
       "      com.samsung.health.sleep.datauuid  quality  \\\n",
       "0  03f12ce0-9ade-5c74-9d57-686fd3966f2a  50003.0   \n",
       "1  0419de25-ff8a-e425-0864-7e83b7f5d991      NaN   \n",
       "2  048b90e0-1e31-7875-337c-e9d8c24bea59      NaN   \n",
       "3  058e45d4-2bda-fc5f-6545-c965c65fea43      NaN   \n",
       "4  059021fb-39a7-ab8c-e488-662743e11821      NaN   \n",
       "\n",
       "   com.samsung.health.sleep.custom  com.samsung.health.sleep.end_time  \\\n",
       "0                              NaN                      1520501400000   \n",
       "1                              NaN                      1519565280000   \n",
       "2                              NaN                      1527932940000   \n",
       "3                              NaN                      1529749920000   \n",
       "4                              NaN                      1515159660000   \n",
       "\n",
       "   original_wake_up_time  com.samsung.health.sleep.start_time  \\\n",
       "0           1.520501e+12                        1520479380000   \n",
       "1                    NaN                        1519539300000   \n",
       "2                    NaN                        1527910620000   \n",
       "3                    NaN                        1529735940000   \n",
       "4                    NaN                        1515128040000   \n",
       "\n",
       "  com.samsung.health.sleep.time_offset  com.samsung.health.sleep.update_time  \\\n",
       "0                             UTC-0400                         1520516398387   \n",
       "1                             UTC-0400                         1519565416332   \n",
       "2                             UTC-0300                         1527932972094   \n",
       "3                             UTC-0300                         1529750846337   \n",
       "4                             UTC-0400                         1515159899850   \n",
       "\n",
       "   original_bed_time  com.samsung.health.sleep.create_time  \\\n",
       "0       1.520479e+12                         1520501522181   \n",
       "1                NaN                         1519565416332   \n",
       "2                NaN                         1527932972094   \n",
       "3                NaN                         1529750846337   \n",
       "4                NaN                         1515159899850   \n",
       "\n",
       "   original_efficiency     sleep_start_time       sleep_end_time  \\\n",
       "0             92.66304  2018-03-08 03:23:00  2018-03-08 09:30:00   \n",
       "1                  NaN  2018-02-25 06:15:00  2018-02-25 13:28:00   \n",
       "2                  NaN  2018-06-02 03:37:00  2018-06-02 09:49:00   \n",
       "3                  NaN  2018-06-23 06:39:00  2018-06-23 10:32:00   \n",
       "4                  NaN  2018-01-05 04:54:00  2018-01-05 13:41:00   \n",
       "\n",
       "     sleep_wakeup_time    sleep_update_time    sleep_create_time  \n",
       "0  2018-03-08 09:30:00  2018-03-08 13:39:58  2018-03-08 09:32:02  \n",
       "1                  NaT  2018-02-25 13:30:16  2018-02-25 13:30:16  \n",
       "2                  NaT  2018-06-02 09:49:32  2018-06-02 09:49:32  \n",
       "3                  NaT  2018-06-23 10:47:26  2018-06-23 10:47:26  \n",
       "4                  NaT  2018-01-05 13:44:59  2018-01-05 13:44:59  "
      ]
     },
     "execution_count": 125,
     "metadata": {},
     "output_type": "execute_result"
    }
   ],
   "source": [
    "sleep_df = pd.read_csv('./data/sleep-export2.csv')\n",
    "\n",
    "sleep_df['sleep_start_time'] =  pd.to_datetime(sleep_df['com.samsung.health.sleep.start_time'], unit='ms')\\\n",
    "               .dt.strftime('%Y-%m-%d %H:%M:%S')\n",
    "sleep_df['sleep_end_time'] =  pd.to_datetime(sleep_df['com.samsung.health.sleep.end_time'], unit='ms')\\\n",
    "               .dt.strftime('%Y-%m-%d %H:%M:%S')\n",
    "sleep_df['sleep_wakeup_time'] =  pd.to_datetime(sleep_df['original_wake_up_time'], unit='ms')\\\n",
    "               .dt.strftime('%Y-%m-%d %H:%M:%S')\n",
    "sleep_df['sleep_update_time'] =  pd.to_datetime(sleep_df['com.samsung.health.sleep.update_time'], unit='ms')\\\n",
    "               .dt.strftime('%Y-%m-%d %H:%M:%S')\n",
    "sleep_df['sleep_create_time'] =  pd.to_datetime(sleep_df['com.samsung.health.sleep.create_time'], unit='ms')\\\n",
    "               .dt.strftime('%Y-%m-%d %H:%M:%S')\n",
    "    \n",
    "sleep_df.head()"
   ]
  },
  {
   "cell_type": "code",
   "execution_count": 146,
   "metadata": {},
   "outputs": [
    {
     "data": {
      "text/plain": [
       "datetime.date(2017, 12, 16)"
      ]
     },
     "execution_count": 146,
     "metadata": {},
     "output_type": "execute_result"
    }
   ],
   "source": [
    "sleep_start_date = (pd.to_datetime(sleep_df['sleep_start_time'])).dt.date\n",
    "sleep_create_date = (pd.to_datetime(sleep_df['sleep_create_time'])).dt.date\n",
    "\n",
    "\n",
    "#range(sleep_start_date)\n",
    "min(sleep_create_date)"
   ]
  },
  {
   "cell_type": "code",
   "execution_count": 147,
   "metadata": {},
   "outputs": [
    {
     "data": {
      "text/plain": [
       "datetime.date(2018, 7, 29)"
      ]
     },
     "execution_count": 147,
     "metadata": {},
     "output_type": "execute_result"
    }
   ],
   "source": [
    "max(sleep_start_date)"
   ]
  },
  {
   "cell_type": "code",
   "execution_count": 156,
   "metadata": {},
   "outputs": [
    {
     "data": {
      "text/plain": [
       "array([ 50003.,     nan,  50004.,  50005.,  50002.,  50001.])"
      ]
     },
     "execution_count": 156,
     "metadata": {},
     "output_type": "execute_result"
    }
   ],
   "source": [
    "sleep_df['quality'].unique()"
   ]
  },
  {
   "cell_type": "code",
   "execution_count": 126,
   "metadata": {
    "scrolled": true
   },
   "outputs": [
    {
     "data": {
      "text/plain": [
       "'2018-03-08 09:30:00'"
      ]
     },
     "execution_count": 126,
     "metadata": {},
     "output_type": "execute_result"
    }
   ],
   "source": [
    "sleep_df['sleep_wakeup_time'][0]"
   ]
  },
  {
   "cell_type": "code",
   "execution_count": 127,
   "metadata": {},
   "outputs": [],
   "source": [
    "sleep_df['sleep_wakeup_time'] = (pd.to_datetime(sleep_df['sleep_wakeup_time'])).dt.time"
   ]
  },
  {
   "cell_type": "code",
   "execution_count": 128,
   "metadata": {},
   "outputs": [
    {
     "data": {
      "text/plain": [
       "datetime.time(9, 30)"
      ]
     },
     "execution_count": 128,
     "metadata": {},
     "output_type": "execute_result"
    }
   ],
   "source": [
    "sleep_df['sleep_wakeup_time'][0]"
   ]
  },
  {
   "cell_type": "code",
   "execution_count": 65,
   "metadata": {},
   "outputs": [
    {
     "data": {
      "text/plain": [
       "Index(['Unnamed: 0', 'efficiency', 'has_sleep_data',\n",
       "       'com.samsung.health.sleep.datauuid', 'quality',\n",
       "       'com.samsung.health.sleep.custom', 'com.samsung.health.sleep.end_time',\n",
       "       'original_wake_up_time', 'com.samsung.health.sleep.start_time',\n",
       "       'com.samsung.health.sleep.time_offset',\n",
       "       'com.samsung.health.sleep.update_time', 'original_bed_time',\n",
       "       'com.samsung.health.sleep.create_time', 'original_efficiency',\n",
       "       'sleep_start_time', 'sleep_end_time', 'sleep_wakeup_time',\n",
       "       'sleep_update_time', 'sleep_create_time'],\n",
       "      dtype='object')"
      ]
     },
     "execution_count": 65,
     "metadata": {},
     "output_type": "execute_result"
    }
   ],
   "source": [
    "sleep_df.columns"
   ]
  },
  {
   "cell_type": "code",
   "execution_count": 13,
   "metadata": {},
   "outputs": [
    {
     "data": {
      "text/plain": [
       "array(['UTC-0400', 'UTC-0300', 'UTC-0700'], dtype=object)"
      ]
     },
     "execution_count": 13,
     "metadata": {},
     "output_type": "execute_result"
    }
   ],
   "source": [
    "sleep_df['com.samsung.health.sleep.time_offset'].unique()"
   ]
  },
  {
   "cell_type": "code",
   "execution_count": 31,
   "metadata": {},
   "outputs": [
    {
     "data": {
      "text/plain": [
       "(279, 14)"
      ]
     },
     "execution_count": 31,
     "metadata": {},
     "output_type": "execute_result"
    }
   ],
   "source": [
    "sleep_df.shape"
   ]
  },
  {
   "cell_type": "code",
   "execution_count": 11,
   "metadata": {},
   "outputs": [
    {
     "data": {
      "text/html": [
       "<div>\n",
       "<style>\n",
       "    .dataframe thead tr:only-child th {\n",
       "        text-align: right;\n",
       "    }\n",
       "\n",
       "    .dataframe thead th {\n",
       "        text-align: left;\n",
       "    }\n",
       "\n",
       "    .dataframe tbody tr th {\n",
       "        vertical-align: top;\n",
       "    }\n",
       "</style>\n",
       "<table border=\"1\" class=\"dataframe\">\n",
       "  <thead>\n",
       "    <tr style=\"text-align: right;\">\n",
       "      <th></th>\n",
       "      <th>Unnamed: 0</th>\n",
       "      <th>end_time</th>\n",
       "      <th>pkg_name</th>\n",
       "      <th>time_offset</th>\n",
       "      <th>start_time</th>\n",
       "      <th>floor</th>\n",
       "      <th>datauuid</th>\n",
       "      <th>update_time</th>\n",
       "      <th>create_time</th>\n",
       "    </tr>\n",
       "  </thead>\n",
       "  <tbody>\n",
       "    <tr>\n",
       "      <th>0</th>\n",
       "      <td>0</td>\n",
       "      <td>2018-01-24 21:30:56.000</td>\n",
       "      <td>com.sec.android.app.shealth</td>\n",
       "      <td>UTC-0400</td>\n",
       "      <td>2018-01-24 21:29:51.000</td>\n",
       "      <td>2.0</td>\n",
       "      <td>00443274-6e30-97f9-3eb2-75d17f3e766f</td>\n",
       "      <td>2018-01-24 21:34:47.756</td>\n",
       "      <td>2018-01-24 21:34:47.720</td>\n",
       "    </tr>\n",
       "    <tr>\n",
       "      <th>1</th>\n",
       "      <td>1</td>\n",
       "      <td>2018-03-27 21:04:27.000</td>\n",
       "      <td>com.sec.android.app.shealth</td>\n",
       "      <td>UTC-0300</td>\n",
       "      <td>2018-03-27 21:04:01.000</td>\n",
       "      <td>1.0</td>\n",
       "      <td>00ed787d-a38b-8fcf-886d-b15a30e02ff6</td>\n",
       "      <td>2018-03-27 21:11:51.606</td>\n",
       "      <td>2018-03-27 21:11:51.606</td>\n",
       "    </tr>\n",
       "    <tr>\n",
       "      <th>2</th>\n",
       "      <td>2</td>\n",
       "      <td>2018-02-12 07:40:16.000</td>\n",
       "      <td>com.sec.android.app.shealth</td>\n",
       "      <td>UTC-0400</td>\n",
       "      <td>2018-02-12 07:38:21.000</td>\n",
       "      <td>2.0</td>\n",
       "      <td>012ee314-b5de-8ac7-0421-c634e858ebc4</td>\n",
       "      <td>2018-02-12 07:41:27.854</td>\n",
       "      <td>2018-02-12 07:41:27.802</td>\n",
       "    </tr>\n",
       "    <tr>\n",
       "      <th>3</th>\n",
       "      <td>3</td>\n",
       "      <td>2018-03-16 17:17:22.000</td>\n",
       "      <td>com.sec.android.app.shealth</td>\n",
       "      <td>UTC-0300</td>\n",
       "      <td>2018-03-16 17:17:05.000</td>\n",
       "      <td>1.0</td>\n",
       "      <td>016876d6-2d1f-5514-a6c2-12b580e0654c</td>\n",
       "      <td>2018-03-16 17:22:41.066</td>\n",
       "      <td>2018-03-16 17:22:41.044</td>\n",
       "    </tr>\n",
       "    <tr>\n",
       "      <th>4</th>\n",
       "      <td>4</td>\n",
       "      <td>2018-01-22 15:50:38.000</td>\n",
       "      <td>com.sec.android.app.shealth</td>\n",
       "      <td>UTC-0400</td>\n",
       "      <td>2018-01-22 15:50:22.000</td>\n",
       "      <td>1.0</td>\n",
       "      <td>01c24d32-905b-9f65-732e-3c13faf2a1c4</td>\n",
       "      <td>2018-01-22 15:52:59.388</td>\n",
       "      <td>2018-01-22 15:52:59.367</td>\n",
       "    </tr>\n",
       "  </tbody>\n",
       "</table>\n",
       "</div>"
      ],
      "text/plain": [
       "   Unnamed: 0                 end_time                     pkg_name  \\\n",
       "0           0  2018-01-24 21:30:56.000  com.sec.android.app.shealth   \n",
       "1           1  2018-03-27 21:04:27.000  com.sec.android.app.shealth   \n",
       "2           2  2018-02-12 07:40:16.000  com.sec.android.app.shealth   \n",
       "3           3  2018-03-16 17:17:22.000  com.sec.android.app.shealth   \n",
       "4           4  2018-01-22 15:50:38.000  com.sec.android.app.shealth   \n",
       "\n",
       "  time_offset               start_time  floor  \\\n",
       "0    UTC-0400  2018-01-24 21:29:51.000    2.0   \n",
       "1    UTC-0300  2018-03-27 21:04:01.000    1.0   \n",
       "2    UTC-0400  2018-02-12 07:38:21.000    2.0   \n",
       "3    UTC-0300  2018-03-16 17:17:05.000    1.0   \n",
       "4    UTC-0400  2018-01-22 15:50:22.000    1.0   \n",
       "\n",
       "                               datauuid              update_time  \\\n",
       "0  00443274-6e30-97f9-3eb2-75d17f3e766f  2018-01-24 21:34:47.756   \n",
       "1  00ed787d-a38b-8fcf-886d-b15a30e02ff6  2018-03-27 21:11:51.606   \n",
       "2  012ee314-b5de-8ac7-0421-c634e858ebc4  2018-02-12 07:41:27.854   \n",
       "3  016876d6-2d1f-5514-a6c2-12b580e0654c  2018-03-16 17:22:41.066   \n",
       "4  01c24d32-905b-9f65-732e-3c13faf2a1c4  2018-01-22 15:52:59.388   \n",
       "\n",
       "               create_time  \n",
       "0  2018-01-24 21:34:47.720  \n",
       "1  2018-03-27 21:11:51.606  \n",
       "2  2018-02-12 07:41:27.802  \n",
       "3  2018-03-16 17:22:41.044  \n",
       "4  2018-01-22 15:52:59.367  "
      ]
     },
     "execution_count": 11,
     "metadata": {},
     "output_type": "execute_result"
    }
   ],
   "source": [
    "floor_df = pd.read_csv('./data/floors_climbed.csv')\n",
    "floor_df.head()"
   ]
  },
  {
   "cell_type": "code",
   "execution_count": 148,
   "metadata": {},
   "outputs": [
    {
     "data": {
      "text/plain": [
       "datetime.date(2017, 12, 16)"
      ]
     },
     "execution_count": 148,
     "metadata": {},
     "output_type": "execute_result"
    }
   ],
   "source": [
    "floor_create_date = (pd.to_datetime(floor_df['create_time'])).dt.date\n",
    "\n",
    "min(floor_create_date )"
   ]
  },
  {
   "cell_type": "code",
   "execution_count": 149,
   "metadata": {},
   "outputs": [
    {
     "data": {
      "text/plain": [
       "datetime.date(2018, 5, 3)"
      ]
     },
     "execution_count": 149,
     "metadata": {},
     "output_type": "execute_result"
    }
   ],
   "source": [
    "max(floor_create_date )"
   ]
  },
  {
   "cell_type": "code",
   "execution_count": 12,
   "metadata": {},
   "outputs": [
    {
     "data": {
      "text/plain": [
       "Index(['Unnamed: 0', 'end_time', 'pkg_name', 'time_offset', 'start_time',\n",
       "       'floor', 'datauuid', 'update_time', 'create_time'],\n",
       "      dtype='object')"
      ]
     },
     "execution_count": 12,
     "metadata": {},
     "output_type": "execute_result"
    }
   ],
   "source": [
    "floor_df.columns"
   ]
  },
  {
   "cell_type": "code",
   "execution_count": 30,
   "metadata": {},
   "outputs": [
    {
     "data": {
      "text/plain": [
       "(541, 9)"
      ]
     },
     "execution_count": 30,
     "metadata": {},
     "output_type": "execute_result"
    }
   ],
   "source": [
    "floor_df.shape"
   ]
  },
  {
   "cell_type": "code",
   "execution_count": 13,
   "metadata": {},
   "outputs": [
    {
     "data": {
      "text/html": [
       "<div>\n",
       "<style>\n",
       "    .dataframe thead tr:only-child th {\n",
       "        text-align: right;\n",
       "    }\n",
       "\n",
       "    .dataframe thead th {\n",
       "        text-align: left;\n",
       "    }\n",
       "\n",
       "    .dataframe tbody tr th {\n",
       "        vertical-align: top;\n",
       "    }\n",
       "</style>\n",
       "<table border=\"1\" class=\"dataframe\">\n",
       "  <thead>\n",
       "    <tr style=\"text-align: right;\">\n",
       "      <th></th>\n",
       "      <th>Unnamed: 0</th>\n",
       "      <th>end_time</th>\n",
       "      <th>heart_rate</th>\n",
       "      <th>binning_data</th>\n",
       "      <th>start_time</th>\n",
       "      <th>heart_beat_count</th>\n",
       "      <th>update_time</th>\n",
       "      <th>max</th>\n",
       "      <th>min</th>\n",
       "      <th>pkg_name</th>\n",
       "      <th>time_offset</th>\n",
       "      <th>datauuid</th>\n",
       "      <th>create_time</th>\n",
       "    </tr>\n",
       "  </thead>\n",
       "  <tbody>\n",
       "    <tr>\n",
       "      <th>0</th>\n",
       "      <td>0</td>\n",
       "      <td>2017-12-16 04:30:29.450</td>\n",
       "      <td>60.0</td>\n",
       "      <td>NaN</td>\n",
       "      <td>2017-12-16 04:30:29.450</td>\n",
       "      <td>1</td>\n",
       "      <td>2017-12-16 04:35:00.341</td>\n",
       "      <td>0.0</td>\n",
       "      <td>0.0</td>\n",
       "      <td>com.sec.android.app.shealth</td>\n",
       "      <td>UTC-0400</td>\n",
       "      <td>00978ee8-6b03-16cb-7bba-d22949a728cb</td>\n",
       "      <td>2017-12-16 04:35:00.341</td>\n",
       "    </tr>\n",
       "    <tr>\n",
       "      <th>1</th>\n",
       "      <td>1</td>\n",
       "      <td>2017-12-16 05:50:29.380</td>\n",
       "      <td>56.0</td>\n",
       "      <td>NaN</td>\n",
       "      <td>2017-12-16 05:50:29.380</td>\n",
       "      <td>1</td>\n",
       "      <td>2017-12-16 05:55:00.264</td>\n",
       "      <td>0.0</td>\n",
       "      <td>0.0</td>\n",
       "      <td>com.sec.android.app.shealth</td>\n",
       "      <td>UTC-0400</td>\n",
       "      <td>038d68e5-ddb9-df1f-f52f-4f85c32cb95a</td>\n",
       "      <td>2017-12-16 05:55:00.264</td>\n",
       "    </tr>\n",
       "    <tr>\n",
       "      <th>2</th>\n",
       "      <td>2</td>\n",
       "      <td>2017-12-30 02:08:16.211</td>\n",
       "      <td>55.0</td>\n",
       "      <td>NaN</td>\n",
       "      <td>2017-12-30 02:08:16.211</td>\n",
       "      <td>1</td>\n",
       "      <td>2017-12-30 02:08:16.411</td>\n",
       "      <td>0.0</td>\n",
       "      <td>0.0</td>\n",
       "      <td>com.sec.android.app.shealth</td>\n",
       "      <td>UTC-0700</td>\n",
       "      <td>0423adf2-6d1f-6e23-276b-ec25462bf3d5</td>\n",
       "      <td>2017-12-30 02:08:16.411</td>\n",
       "    </tr>\n",
       "    <tr>\n",
       "      <th>3</th>\n",
       "      <td>3</td>\n",
       "      <td>2018-01-15 14:47:37.175</td>\n",
       "      <td>62.0</td>\n",
       "      <td>NaN</td>\n",
       "      <td>2018-01-15 14:47:37.175</td>\n",
       "      <td>1</td>\n",
       "      <td>2018-01-15 14:47:37.371</td>\n",
       "      <td>0.0</td>\n",
       "      <td>0.0</td>\n",
       "      <td>com.sec.android.app.shealth</td>\n",
       "      <td>UTC-0400</td>\n",
       "      <td>07dc6531-0aa6-1b07-df29-049197357434</td>\n",
       "      <td>2018-01-15 14:47:37.371</td>\n",
       "    </tr>\n",
       "    <tr>\n",
       "      <th>4</th>\n",
       "      <td>4</td>\n",
       "      <td>2017-12-16 02:20:29.470</td>\n",
       "      <td>47.0</td>\n",
       "      <td>NaN</td>\n",
       "      <td>2017-12-16 02:20:29.470</td>\n",
       "      <td>1</td>\n",
       "      <td>2017-12-16 02:35:00.252</td>\n",
       "      <td>0.0</td>\n",
       "      <td>0.0</td>\n",
       "      <td>com.sec.android.app.shealth</td>\n",
       "      <td>UTC-0400</td>\n",
       "      <td>0a32cb55-8257-d3ae-e87a-e38ecb14fe97</td>\n",
       "      <td>2017-12-16 02:35:00.252</td>\n",
       "    </tr>\n",
       "  </tbody>\n",
       "</table>\n",
       "</div>"
      ],
      "text/plain": [
       "   Unnamed: 0                 end_time  heart_rate binning_data  \\\n",
       "0           0  2017-12-16 04:30:29.450        60.0          NaN   \n",
       "1           1  2017-12-16 05:50:29.380        56.0          NaN   \n",
       "2           2  2017-12-30 02:08:16.211        55.0          NaN   \n",
       "3           3  2018-01-15 14:47:37.175        62.0          NaN   \n",
       "4           4  2017-12-16 02:20:29.470        47.0          NaN   \n",
       "\n",
       "                start_time  heart_beat_count              update_time  max  \\\n",
       "0  2017-12-16 04:30:29.450                 1  2017-12-16 04:35:00.341  0.0   \n",
       "1  2017-12-16 05:50:29.380                 1  2017-12-16 05:55:00.264  0.0   \n",
       "2  2017-12-30 02:08:16.211                 1  2017-12-30 02:08:16.411  0.0   \n",
       "3  2018-01-15 14:47:37.175                 1  2018-01-15 14:47:37.371  0.0   \n",
       "4  2017-12-16 02:20:29.470                 1  2017-12-16 02:35:00.252  0.0   \n",
       "\n",
       "   min                     pkg_name time_offset  \\\n",
       "0  0.0  com.sec.android.app.shealth    UTC-0400   \n",
       "1  0.0  com.sec.android.app.shealth    UTC-0400   \n",
       "2  0.0  com.sec.android.app.shealth    UTC-0700   \n",
       "3  0.0  com.sec.android.app.shealth    UTC-0400   \n",
       "4  0.0  com.sec.android.app.shealth    UTC-0400   \n",
       "\n",
       "                               datauuid              create_time  \n",
       "0  00978ee8-6b03-16cb-7bba-d22949a728cb  2017-12-16 04:35:00.341  \n",
       "1  038d68e5-ddb9-df1f-f52f-4f85c32cb95a  2017-12-16 05:55:00.264  \n",
       "2  0423adf2-6d1f-6e23-276b-ec25462bf3d5  2017-12-30 02:08:16.411  \n",
       "3  07dc6531-0aa6-1b07-df29-049197357434  2018-01-15 14:47:37.371  \n",
       "4  0a32cb55-8257-d3ae-e87a-e38ecb14fe97  2017-12-16 02:35:00.252  "
      ]
     },
     "execution_count": 13,
     "metadata": {},
     "output_type": "execute_result"
    }
   ],
   "source": [
    "heartr_df = pd.read_csv('./data/heart_rate.csv')\n",
    "heartr_df.head()"
   ]
  },
  {
   "cell_type": "code",
   "execution_count": 150,
   "metadata": {},
   "outputs": [
    {
     "data": {
      "text/plain": [
       "datetime.date(2016, 6, 9)"
      ]
     },
     "execution_count": 150,
     "metadata": {},
     "output_type": "execute_result"
    }
   ],
   "source": [
    "heartr_create_date = (pd.to_datetime(heartr_df['create_time'])).dt.date\n",
    "min(heartr_create_date )\n"
   ]
  },
  {
   "cell_type": "code",
   "execution_count": 151,
   "metadata": {},
   "outputs": [
    {
     "data": {
      "text/plain": [
       "datetime.date(2018, 4, 25)"
      ]
     },
     "execution_count": 151,
     "metadata": {},
     "output_type": "execute_result"
    }
   ],
   "source": [
    "max(heartr_create_date )"
   ]
  },
  {
   "cell_type": "code",
   "execution_count": 14,
   "metadata": {},
   "outputs": [
    {
     "data": {
      "text/plain": [
       "Index(['Unnamed: 0', 'end_time', 'heart_rate', 'binning_data', 'start_time',\n",
       "       'heart_beat_count', 'update_time', 'max', 'min', 'pkg_name',\n",
       "       'time_offset', 'datauuid', 'create_time'],\n",
       "      dtype='object')"
      ]
     },
     "execution_count": 14,
     "metadata": {},
     "output_type": "execute_result"
    }
   ],
   "source": [
    "heartr_df.columns"
   ]
  },
  {
   "cell_type": "code",
   "execution_count": 29,
   "metadata": {},
   "outputs": [
    {
     "data": {
      "text/plain": [
       "(311, 13)"
      ]
     },
     "execution_count": 29,
     "metadata": {},
     "output_type": "execute_result"
    }
   ],
   "source": [
    "heartr_df.shape"
   ]
  },
  {
   "cell_type": "code",
   "execution_count": 15,
   "metadata": {},
   "outputs": [
    {
     "data": {
      "text/plain": [
       "Index(['Unnamed: 0', 'efficiency', 'has_sleep_data',\n",
       "       'com.samsung.health.sleep.datauuid', 'quality',\n",
       "       'com.samsung.health.sleep.custom', 'com.samsung.health.sleep.end_time',\n",
       "       'original_wake_up_time', 'com.samsung.health.sleep.start_time',\n",
       "       'com.samsung.health.sleep.time_offset',\n",
       "       'com.samsung.health.sleep.update_time', 'original_bed_time',\n",
       "       'com.samsung.health.sleep.create_time', 'original_efficiency'],\n",
       "      dtype='object')"
      ]
     },
     "execution_count": 15,
     "metadata": {},
     "output_type": "execute_result"
    }
   ],
   "source": [
    "sleep_df.columns"
   ]
  },
  {
   "cell_type": "code",
   "execution_count": 16,
   "metadata": {},
   "outputs": [
    {
     "data": {
      "text/html": [
       "<div>\n",
       "<style>\n",
       "    .dataframe thead tr:only-child th {\n",
       "        text-align: right;\n",
       "    }\n",
       "\n",
       "    .dataframe thead th {\n",
       "        text-align: left;\n",
       "    }\n",
       "\n",
       "    .dataframe tbody tr th {\n",
       "        vertical-align: top;\n",
       "    }\n",
       "</style>\n",
       "<table border=\"1\" class=\"dataframe\">\n",
       "  <thead>\n",
       "    <tr style=\"text-align: right;\">\n",
       "      <th></th>\n",
       "      <th>Unnamed: 0</th>\n",
       "      <th>end_time</th>\n",
       "      <th>start_time</th>\n",
       "      <th>count</th>\n",
       "      <th>calorie</th>\n",
       "      <th>update_time</th>\n",
       "      <th>speed</th>\n",
       "      <th>pkg_name</th>\n",
       "      <th>time_offset</th>\n",
       "      <th>distance</th>\n",
       "      <th>datauuid</th>\n",
       "      <th>create_time</th>\n",
       "    </tr>\n",
       "  </thead>\n",
       "  <tbody>\n",
       "    <tr>\n",
       "      <th>0</th>\n",
       "      <td>0</td>\n",
       "      <td>2018-04-30 18:21:59.999</td>\n",
       "      <td>2018-04-30 18:21:00.000</td>\n",
       "      <td>101</td>\n",
       "      <td>4.29</td>\n",
       "      <td>2018-04-30 18:35:00.291</td>\n",
       "      <td>1.527778</td>\n",
       "      <td>com.sec.android.app.shealth</td>\n",
       "      <td>UTC-0300</td>\n",
       "      <td>78.42</td>\n",
       "      <td>0001af94-3253-4fec-0efc-153d3a8a2441</td>\n",
       "      <td>2018-04-30 18:35:00.290</td>\n",
       "    </tr>\n",
       "    <tr>\n",
       "      <th>1</th>\n",
       "      <td>1</td>\n",
       "      <td>2018-04-13 19:47:59.999</td>\n",
       "      <td>2018-04-13 19:47:00.000</td>\n",
       "      <td>25</td>\n",
       "      <td>0.96</td>\n",
       "      <td>2018-04-13 19:55:00.251</td>\n",
       "      <td>1.027778</td>\n",
       "      <td>com.sec.android.app.shealth</td>\n",
       "      <td>UTC-0300</td>\n",
       "      <td>14.36</td>\n",
       "      <td>0001c2a5-c751-4c86-456f-179d46bd29a9</td>\n",
       "      <td>2018-04-13 19:55:00.251</td>\n",
       "    </tr>\n",
       "    <tr>\n",
       "      <th>2</th>\n",
       "      <td>2</td>\n",
       "      <td>2018-04-02 10:01:59.999</td>\n",
       "      <td>2018-04-02 10:01:00.000</td>\n",
       "      <td>38</td>\n",
       "      <td>1.53</td>\n",
       "      <td>2018-04-02 10:14:58.210</td>\n",
       "      <td>1.194444</td>\n",
       "      <td>com.sec.android.app.shealth</td>\n",
       "      <td>UTC-0300</td>\n",
       "      <td>24.19</td>\n",
       "      <td>0003c0db-c795-1f80-17a4-582751b3a2ba</td>\n",
       "      <td>2018-04-02 10:14:58.209</td>\n",
       "    </tr>\n",
       "    <tr>\n",
       "      <th>3</th>\n",
       "      <td>3</td>\n",
       "      <td>2018-04-27 10:52:59.999</td>\n",
       "      <td>2018-04-27 10:52:00.000</td>\n",
       "      <td>35</td>\n",
       "      <td>1.45</td>\n",
       "      <td>2018-04-27 10:55:01.281</td>\n",
       "      <td>1.500000</td>\n",
       "      <td>com.sec.android.app.shealth</td>\n",
       "      <td>UTC-0300</td>\n",
       "      <td>27.45</td>\n",
       "      <td>0006c29c-72a3-b207-069e-b098a9f96252</td>\n",
       "      <td>2018-04-27 10:55:01.280</td>\n",
       "    </tr>\n",
       "    <tr>\n",
       "      <th>4</th>\n",
       "      <td>4</td>\n",
       "      <td>2018-04-21 13:47:00.000</td>\n",
       "      <td>2018-04-21 13:46:00.000</td>\n",
       "      <td>0</td>\n",
       "      <td>0.00</td>\n",
       "      <td>2018-04-21 13:46:36.801</td>\n",
       "      <td>0.000000</td>\n",
       "      <td>com.sec.android.app.shealth</td>\n",
       "      <td>UTC-0300</td>\n",
       "      <td>0.00</td>\n",
       "      <td>001e163d-0af5-4e9a-b7c9-a9ceb6ca5e8c</td>\n",
       "      <td>2018-04-21 13:46:36.801</td>\n",
       "    </tr>\n",
       "  </tbody>\n",
       "</table>\n",
       "</div>"
      ],
      "text/plain": [
       "   Unnamed: 0                 end_time               start_time  count  \\\n",
       "0           0  2018-04-30 18:21:59.999  2018-04-30 18:21:00.000    101   \n",
       "1           1  2018-04-13 19:47:59.999  2018-04-13 19:47:00.000     25   \n",
       "2           2  2018-04-02 10:01:59.999  2018-04-02 10:01:00.000     38   \n",
       "3           3  2018-04-27 10:52:59.999  2018-04-27 10:52:00.000     35   \n",
       "4           4  2018-04-21 13:47:00.000  2018-04-21 13:46:00.000      0   \n",
       "\n",
       "   calorie              update_time     speed                     pkg_name  \\\n",
       "0     4.29  2018-04-30 18:35:00.291  1.527778  com.sec.android.app.shealth   \n",
       "1     0.96  2018-04-13 19:55:00.251  1.027778  com.sec.android.app.shealth   \n",
       "2     1.53  2018-04-02 10:14:58.210  1.194444  com.sec.android.app.shealth   \n",
       "3     1.45  2018-04-27 10:55:01.281  1.500000  com.sec.android.app.shealth   \n",
       "4     0.00  2018-04-21 13:46:36.801  0.000000  com.sec.android.app.shealth   \n",
       "\n",
       "  time_offset  distance                              datauuid  \\\n",
       "0    UTC-0300     78.42  0001af94-3253-4fec-0efc-153d3a8a2441   \n",
       "1    UTC-0300     14.36  0001c2a5-c751-4c86-456f-179d46bd29a9   \n",
       "2    UTC-0300     24.19  0003c0db-c795-1f80-17a4-582751b3a2ba   \n",
       "3    UTC-0300     27.45  0006c29c-72a3-b207-069e-b098a9f96252   \n",
       "4    UTC-0300      0.00  001e163d-0af5-4e9a-b7c9-a9ceb6ca5e8c   \n",
       "\n",
       "               create_time  \n",
       "0  2018-04-30 18:35:00.290  \n",
       "1  2018-04-13 19:55:00.251  \n",
       "2  2018-04-02 10:14:58.209  \n",
       "3  2018-04-27 10:55:01.280  \n",
       "4  2018-04-21 13:46:36.801  "
      ]
     },
     "execution_count": 16,
     "metadata": {},
     "output_type": "execute_result"
    }
   ],
   "source": [
    "stepc_df = pd.read_csv('./data/step_count.csv')\n",
    "stepc_df.head()"
   ]
  },
  {
   "cell_type": "code",
   "execution_count": 152,
   "metadata": {},
   "outputs": [
    {
     "data": {
      "text/plain": [
       "datetime.date(2018, 3, 31)"
      ]
     },
     "execution_count": 152,
     "metadata": {},
     "output_type": "execute_result"
    }
   ],
   "source": [
    "stepc_create_date = (pd.to_datetime(stepc_df['create_time'])).dt.date\n",
    "min(stepc_create_date )\n"
   ]
  },
  {
   "cell_type": "code",
   "execution_count": 153,
   "metadata": {},
   "outputs": [
    {
     "data": {
      "text/plain": [
       "datetime.date(2018, 5, 3)"
      ]
     },
     "execution_count": 153,
     "metadata": {},
     "output_type": "execute_result"
    }
   ],
   "source": [
    "max(stepc_create_date )"
   ]
  },
  {
   "cell_type": "code",
   "execution_count": 17,
   "metadata": {},
   "outputs": [
    {
     "data": {
      "text/plain": [
       "Index(['Unnamed: 0', 'end_time', 'start_time', 'count', 'calorie',\n",
       "       'update_time', 'speed', 'pkg_name', 'time_offset', 'distance',\n",
       "       'datauuid', 'create_time'],\n",
       "      dtype='object')"
      ]
     },
     "execution_count": 17,
     "metadata": {},
     "output_type": "execute_result"
    }
   ],
   "source": [
    "stepc_df.columns"
   ]
  },
  {
   "cell_type": "code",
   "execution_count": 28,
   "metadata": {},
   "outputs": [
    {
     "data": {
      "text/plain": [
       "(9758, 12)"
      ]
     },
     "execution_count": 28,
     "metadata": {},
     "output_type": "execute_result"
    }
   ],
   "source": [
    "stepc_df.shape"
   ]
  },
  {
   "cell_type": "code",
   "execution_count": 18,
   "metadata": {},
   "outputs": [
    {
     "data": {
      "text/plain": [
       "Index(['Unnamed: 0', 'efficiency', 'has_sleep_data',\n",
       "       'com.samsung.health.sleep.datauuid', 'quality',\n",
       "       'com.samsung.health.sleep.custom', 'com.samsung.health.sleep.end_time',\n",
       "       'original_wake_up_time', 'com.samsung.health.sleep.start_time',\n",
       "       'com.samsung.health.sleep.time_offset',\n",
       "       'com.samsung.health.sleep.update_time', 'original_bed_time',\n",
       "       'com.samsung.health.sleep.create_time', 'original_efficiency'],\n",
       "      dtype='object')"
      ]
     },
     "execution_count": 18,
     "metadata": {},
     "output_type": "execute_result"
    }
   ],
   "source": [
    "sleep_df.columns"
   ]
  },
  {
   "cell_type": "code",
   "execution_count": 19,
   "metadata": {},
   "outputs": [
    {
     "data": {
      "text/html": [
       "<div>\n",
       "<style>\n",
       "    .dataframe thead tr:only-child th {\n",
       "        text-align: right;\n",
       "    }\n",
       "\n",
       "    .dataframe thead th {\n",
       "        text-align: left;\n",
       "    }\n",
       "\n",
       "    .dataframe tbody tr th {\n",
       "        vertical-align: top;\n",
       "    }\n",
       "</style>\n",
       "<table border=\"1\" class=\"dataframe\">\n",
       "  <thead>\n",
       "    <tr style=\"text-align: right;\">\n",
       "      <th></th>\n",
       "      <th>Unnamed: 0</th>\n",
       "      <th>end_time</th>\n",
       "      <th>altitude_loss</th>\n",
       "      <th>max_altitude</th>\n",
       "      <th>start_time</th>\n",
       "      <th>count</th>\n",
       "      <th>altitude_gain</th>\n",
       "      <th>exercise_custom_type</th>\n",
       "      <th>duration</th>\n",
       "      <th>deviceuuid</th>\n",
       "      <th>...</th>\n",
       "      <th>min_heart_rate</th>\n",
       "      <th>count_type</th>\n",
       "      <th>live_data</th>\n",
       "      <th>max_caloricburn_rate</th>\n",
       "      <th>custom</th>\n",
       "      <th>comment</th>\n",
       "      <th>additional</th>\n",
       "      <th>distance</th>\n",
       "      <th>datauuid</th>\n",
       "      <th>create_time</th>\n",
       "    </tr>\n",
       "  </thead>\n",
       "  <tbody>\n",
       "    <tr>\n",
       "      <th>0</th>\n",
       "      <td>0</td>\n",
       "      <td>2018-04-07 17:40:40.673</td>\n",
       "      <td>NaN</td>\n",
       "      <td>NaN</td>\n",
       "      <td>2018-04-07 17:26:10.149</td>\n",
       "      <td>NaN</td>\n",
       "      <td>NaN</td>\n",
       "      <td>NaN</td>\n",
       "      <td>870524</td>\n",
       "      <td>F/D7+hL5E5</td>\n",
       "      <td>...</td>\n",
       "      <td>0.0</td>\n",
       "      <td>NaN</td>\n",
       "      <td>009c4899-f8fb-c887-294a-045dcce7c880.live_data...</td>\n",
       "      <td>NaN</td>\n",
       "      <td>NaN</td>\n",
       "      <td>NaN</td>\n",
       "      <td>NaN</td>\n",
       "      <td>1008.610</td>\n",
       "      <td>009c4899-f8fb-c887-294a-045dcce7c880</td>\n",
       "      <td>2018-04-07 17:41:42.416</td>\n",
       "    </tr>\n",
       "    <tr>\n",
       "      <th>1</th>\n",
       "      <td>1</td>\n",
       "      <td>2018-01-27 10:08:00.000</td>\n",
       "      <td>NaN</td>\n",
       "      <td>NaN</td>\n",
       "      <td>2018-01-27 09:38:00.000</td>\n",
       "      <td>0.0</td>\n",
       "      <td>NaN</td>\n",
       "      <td>NaN</td>\n",
       "      <td>1800000</td>\n",
       "      <td>jQfnryI8/B</td>\n",
       "      <td>...</td>\n",
       "      <td>NaN</td>\n",
       "      <td>30004.0</td>\n",
       "      <td>NaN</td>\n",
       "      <td>NaN</td>\n",
       "      <td>NaN</td>\n",
       "      <td>NaN</td>\n",
       "      <td>NaN</td>\n",
       "      <td>0.000</td>\n",
       "      <td>013f807f-0b24-45da-9df7-446c2e297a4f</td>\n",
       "      <td>2018-01-27 10:08:40.225</td>\n",
       "    </tr>\n",
       "    <tr>\n",
       "      <th>2</th>\n",
       "      <td>2</td>\n",
       "      <td>2018-05-01 18:12:20.915</td>\n",
       "      <td>NaN</td>\n",
       "      <td>NaN</td>\n",
       "      <td>2018-05-01 18:01:24.059</td>\n",
       "      <td>NaN</td>\n",
       "      <td>NaN</td>\n",
       "      <td>NaN</td>\n",
       "      <td>656856</td>\n",
       "      <td>F/D7+hL5E5</td>\n",
       "      <td>...</td>\n",
       "      <td>0.0</td>\n",
       "      <td>NaN</td>\n",
       "      <td>020502c3-3cc7-8d33-f7bc-2d8e27609a47.live_data...</td>\n",
       "      <td>NaN</td>\n",
       "      <td>NaN</td>\n",
       "      <td>NaN</td>\n",
       "      <td>NaN</td>\n",
       "      <td>765.120</td>\n",
       "      <td>020502c3-3cc7-8d33-f7bc-2d8e27609a47</td>\n",
       "      <td>2018-05-01 18:13:21.374</td>\n",
       "    </tr>\n",
       "    <tr>\n",
       "      <th>3</th>\n",
       "      <td>3</td>\n",
       "      <td>2018-02-24 13:50:02.929</td>\n",
       "      <td>NaN</td>\n",
       "      <td>NaN</td>\n",
       "      <td>2018-02-24 13:35:13.243</td>\n",
       "      <td>NaN</td>\n",
       "      <td>NaN</td>\n",
       "      <td>NaN</td>\n",
       "      <td>889686</td>\n",
       "      <td>F/D7+hL5E5</td>\n",
       "      <td>...</td>\n",
       "      <td>0.0</td>\n",
       "      <td>NaN</td>\n",
       "      <td>0282b74e-1956-64c6-8ac9-5c44afdcb6c1.live_data...</td>\n",
       "      <td>NaN</td>\n",
       "      <td>NaN</td>\n",
       "      <td>NaN</td>\n",
       "      <td>NaN</td>\n",
       "      <td>NaN</td>\n",
       "      <td>0282b74e-1956-64c6-8ac9-5c44afdcb6c1</td>\n",
       "      <td>2018-02-24 13:52:08.229</td>\n",
       "    </tr>\n",
       "    <tr>\n",
       "      <th>4</th>\n",
       "      <td>4</td>\n",
       "      <td>2018-03-16 17:25:39.584</td>\n",
       "      <td>NaN</td>\n",
       "      <td>NaN</td>\n",
       "      <td>2018-03-16 17:15:20.192</td>\n",
       "      <td>NaN</td>\n",
       "      <td>NaN</td>\n",
       "      <td>NaN</td>\n",
       "      <td>619392</td>\n",
       "      <td>F/D7+hL5E5</td>\n",
       "      <td>...</td>\n",
       "      <td>0.0</td>\n",
       "      <td>NaN</td>\n",
       "      <td>02c7f233-9af6-3288-e412-21747dcd9a98.live_data...</td>\n",
       "      <td>NaN</td>\n",
       "      <td>NaN</td>\n",
       "      <td>NaN</td>\n",
       "      <td>NaN</td>\n",
       "      <td>741.521</td>\n",
       "      <td>02c7f233-9af6-3288-e412-21747dcd9a98</td>\n",
       "      <td>2018-03-16 17:26:39.581</td>\n",
       "    </tr>\n",
       "  </tbody>\n",
       "</table>\n",
       "<p>5 rows × 39 columns</p>\n",
       "</div>"
      ],
      "text/plain": [
       "   Unnamed: 0                 end_time  altitude_loss  max_altitude  \\\n",
       "0           0  2018-04-07 17:40:40.673            NaN           NaN   \n",
       "1           1  2018-01-27 10:08:00.000            NaN           NaN   \n",
       "2           2  2018-05-01 18:12:20.915            NaN           NaN   \n",
       "3           3  2018-02-24 13:50:02.929            NaN           NaN   \n",
       "4           4  2018-03-16 17:25:39.584            NaN           NaN   \n",
       "\n",
       "                start_time  count  altitude_gain  exercise_custom_type  \\\n",
       "0  2018-04-07 17:26:10.149    NaN            NaN                   NaN   \n",
       "1  2018-01-27 09:38:00.000    0.0            NaN                   NaN   \n",
       "2  2018-05-01 18:01:24.059    NaN            NaN                   NaN   \n",
       "3  2018-02-24 13:35:13.243    NaN            NaN                   NaN   \n",
       "4  2018-03-16 17:15:20.192    NaN            NaN                   NaN   \n",
       "\n",
       "   duration  deviceuuid           ...             min_heart_rate  count_type  \\\n",
       "0    870524  F/D7+hL5E5           ...                        0.0         NaN   \n",
       "1   1800000  jQfnryI8/B           ...                        NaN     30004.0   \n",
       "2    656856  F/D7+hL5E5           ...                        0.0         NaN   \n",
       "3    889686  F/D7+hL5E5           ...                        0.0         NaN   \n",
       "4    619392  F/D7+hL5E5           ...                        0.0         NaN   \n",
       "\n",
       "                                           live_data max_caloricburn_rate  \\\n",
       "0  009c4899-f8fb-c887-294a-045dcce7c880.live_data...                  NaN   \n",
       "1                                                NaN                  NaN   \n",
       "2  020502c3-3cc7-8d33-f7bc-2d8e27609a47.live_data...                  NaN   \n",
       "3  0282b74e-1956-64c6-8ac9-5c44afdcb6c1.live_data...                  NaN   \n",
       "4  02c7f233-9af6-3288-e412-21747dcd9a98.live_data...                  NaN   \n",
       "\n",
       "   custom comment  additional  distance                              datauuid  \\\n",
       "0     NaN     NaN         NaN  1008.610  009c4899-f8fb-c887-294a-045dcce7c880   \n",
       "1     NaN     NaN         NaN     0.000  013f807f-0b24-45da-9df7-446c2e297a4f   \n",
       "2     NaN     NaN         NaN   765.120  020502c3-3cc7-8d33-f7bc-2d8e27609a47   \n",
       "3     NaN     NaN         NaN       NaN  0282b74e-1956-64c6-8ac9-5c44afdcb6c1   \n",
       "4     NaN     NaN         NaN   741.521  02c7f233-9af6-3288-e412-21747dcd9a98   \n",
       "\n",
       "               create_time  \n",
       "0  2018-04-07 17:41:42.416  \n",
       "1  2018-01-27 10:08:40.225  \n",
       "2  2018-05-01 18:13:21.374  \n",
       "3  2018-02-24 13:52:08.229  \n",
       "4  2018-03-16 17:26:39.581  \n",
       "\n",
       "[5 rows x 39 columns]"
      ]
     },
     "execution_count": 19,
     "metadata": {},
     "output_type": "execute_result"
    }
   ],
   "source": [
    "excer_df = pd.read_csv('./data/exercise.csv')\n",
    "excer_df.head()"
   ]
  },
  {
   "cell_type": "code",
   "execution_count": 143,
   "metadata": {},
   "outputs": [
    {
     "data": {
      "text/plain": [
       "datetime.date(2018, 5, 3)"
      ]
     },
     "execution_count": 143,
     "metadata": {},
     "output_type": "execute_result"
    }
   ],
   "source": [
    "excer_start_date = (pd.to_datetime(excer_df['create_time'])).dt.date\n",
    "\n",
    "max(excer_start_date)"
   ]
  },
  {
   "cell_type": "code",
   "execution_count": 144,
   "metadata": {},
   "outputs": [
    {
     "data": {
      "text/plain": [
       "datetime.date(2016, 6, 25)"
      ]
     },
     "execution_count": 144,
     "metadata": {},
     "output_type": "execute_result"
    }
   ],
   "source": [
    "min(excer_start_date)"
   ]
  },
  {
   "cell_type": "code",
   "execution_count": 20,
   "metadata": {},
   "outputs": [
    {
     "data": {
      "text/plain": [
       "Index(['Unnamed: 0', 'end_time', 'altitude_loss', 'max_altitude', 'start_time',\n",
       "       'count', 'altitude_gain', 'exercise_custom_type', 'duration',\n",
       "       'deviceuuid', 'max_heart_rate', 'max_rpm', 'mean_heart_rate',\n",
       "       'pkg_name', 'max_cadence', 'time_offset', 'mean_caloricburn_rate',\n",
       "       'incline_distance', 'exercise_type', 'decline_distance', 'max_speed',\n",
       "       'mean_power', 'max_power', 'mean_rpm', 'calorie', 'mean_cadence',\n",
       "       'mean_speed', 'update_time', 'min_altitude', 'min_heart_rate',\n",
       "       'count_type', 'live_data', 'max_caloricburn_rate', 'custom', 'comment',\n",
       "       'additional', 'distance', 'datauuid', 'create_time'],\n",
       "      dtype='object')"
      ]
     },
     "execution_count": 20,
     "metadata": {},
     "output_type": "execute_result"
    }
   ],
   "source": [
    "excer_df.columns"
   ]
  },
  {
   "cell_type": "code",
   "execution_count": 26,
   "metadata": {},
   "outputs": [
    {
     "data": {
      "text/plain": [
       "(341, 39)"
      ]
     },
     "execution_count": 26,
     "metadata": {},
     "output_type": "execute_result"
    }
   ],
   "source": [
    "excer_df.shape"
   ]
  },
  {
   "cell_type": "code",
   "execution_count": 21,
   "metadata": {},
   "outputs": [
    {
     "data": {
      "text/plain": [
       "Index(['Unnamed: 0', 'efficiency', 'has_sleep_data',\n",
       "       'com.samsung.health.sleep.datauuid', 'quality',\n",
       "       'com.samsung.health.sleep.custom', 'com.samsung.health.sleep.end_time',\n",
       "       'original_wake_up_time', 'com.samsung.health.sleep.start_time',\n",
       "       'com.samsung.health.sleep.time_offset',\n",
       "       'com.samsung.health.sleep.update_time', 'original_bed_time',\n",
       "       'com.samsung.health.sleep.create_time', 'original_efficiency'],\n",
       "      dtype='object')"
      ]
     },
     "execution_count": 21,
     "metadata": {},
     "output_type": "execute_result"
    }
   ],
   "source": [
    "sleep_df.columns"
   ]
  },
  {
   "cell_type": "code",
   "execution_count": 22,
   "metadata": {},
   "outputs": [
    {
     "data": {
      "text/html": [
       "<div>\n",
       "<style>\n",
       "    .dataframe thead tr:only-child th {\n",
       "        text-align: right;\n",
       "    }\n",
       "\n",
       "    .dataframe thead th {\n",
       "        text-align: left;\n",
       "    }\n",
       "\n",
       "    .dataframe tbody tr th {\n",
       "        vertical-align: top;\n",
       "    }\n",
       "</style>\n",
       "<table border=\"1\" class=\"dataframe\">\n",
       "  <thead>\n",
       "    <tr style=\"text-align: right;\">\n",
       "      <th></th>\n",
       "      <th>create_time</th>\n",
       "      <th>longest_idle_time</th>\n",
       "      <th>score</th>\n",
       "      <th>extra_data</th>\n",
       "      <th>goal</th>\n",
       "      <th>calorie</th>\n",
       "      <th>run_time</th>\n",
       "      <th>deviceuuid</th>\n",
       "      <th>update_time</th>\n",
       "      <th>longest_active_time</th>\n",
       "      <th>day_time</th>\n",
       "      <th>walk_time</th>\n",
       "      <th>pkg_name</th>\n",
       "      <th>active_time</th>\n",
       "      <th>distance</th>\n",
       "      <th>others_time</th>\n",
       "      <th>step_count</th>\n",
       "      <th>datauuid</th>\n",
       "    </tr>\n",
       "  </thead>\n",
       "  <tbody>\n",
       "    <tr>\n",
       "      <th>0</th>\n",
       "      <td>2018-01-14 05:00:56.527</td>\n",
       "      <td>15780000</td>\n",
       "      <td>0</td>\n",
       "      <td>00179515-d385-4f61-81a7-2ddd68ac80b2.extra_dat...</td>\n",
       "      <td>-1</td>\n",
       "      <td>927.15780</td>\n",
       "      <td>76845</td>\n",
       "      <td>jQfnryI8/B</td>\n",
       "      <td>2018-01-15 12:48:58.842</td>\n",
       "      <td>2400000</td>\n",
       "      <td>1515888000000</td>\n",
       "      <td>8814507</td>\n",
       "      <td>com.sec.android.app.shealth</td>\n",
       "      <td>11291352</td>\n",
       "      <td>9196.5030</td>\n",
       "      <td>2400000</td>\n",
       "      <td>12889</td>\n",
       "      <td>00179515-d385-4f61-81a7-2ddd68ac80b2</td>\n",
       "    </tr>\n",
       "    <tr>\n",
       "      <th>1</th>\n",
       "      <td>2018-01-03 05:03:32.135</td>\n",
       "      <td>22140000</td>\n",
       "      <td>0</td>\n",
       "      <td>003f0597-41ad-4f7f-bd02-6683076a1535.extra_dat...</td>\n",
       "      <td>-1</td>\n",
       "      <td>971.60400</td>\n",
       "      <td>43840</td>\n",
       "      <td>jQfnryI8/B</td>\n",
       "      <td>2018-01-04 11:41:12.193</td>\n",
       "      <td>5363575</td>\n",
       "      <td>1514937600000</td>\n",
       "      <td>5720581</td>\n",
       "      <td>com.sec.android.app.shealth</td>\n",
       "      <td>11982148</td>\n",
       "      <td>6962.8965</td>\n",
       "      <td>6217727</td>\n",
       "      <td>13135</td>\n",
       "      <td>003f0597-41ad-4f7f-bd02-6683076a1535</td>\n",
       "    </tr>\n",
       "    <tr>\n",
       "      <th>2</th>\n",
       "      <td>2016-09-02 07:00:51.323</td>\n",
       "      <td>24660000</td>\n",
       "      <td>76</td>\n",
       "      <td>004dfa57-ff07-44f3-8d54-d3b9c09d41c5.extra_dat...</td>\n",
       "      <td>60</td>\n",
       "      <td>207.74994</td>\n",
       "      <td>77742</td>\n",
       "      <td>jQfnryI8/B</td>\n",
       "      <td>2016-09-03 06:20:16.720</td>\n",
       "      <td>240000</td>\n",
       "      <td>1472774400000</td>\n",
       "      <td>2726451</td>\n",
       "      <td>com.sec.android.app.shealth</td>\n",
       "      <td>2804193</td>\n",
       "      <td>3679.9102</td>\n",
       "      <td>0</td>\n",
       "      <td>4407</td>\n",
       "      <td>004dfa57-ff07-44f3-8d54-d3b9c09d41c5</td>\n",
       "    </tr>\n",
       "    <tr>\n",
       "      <th>3</th>\n",
       "      <td>2016-07-24 07:03:17.688</td>\n",
       "      <td>36420000</td>\n",
       "      <td>83</td>\n",
       "      <td>00d6b2b2-0211-4a80-a213-a0c2ef981715.extra_dat...</td>\n",
       "      <td>60</td>\n",
       "      <td>240.44005</td>\n",
       "      <td>55497</td>\n",
       "      <td>jQfnryI8/B</td>\n",
       "      <td>2016-07-25 05:48:14.487</td>\n",
       "      <td>540000</td>\n",
       "      <td>1469318400000</td>\n",
       "      <td>3051950</td>\n",
       "      <td>com.sec.android.app.shealth</td>\n",
       "      <td>3107447</td>\n",
       "      <td>4135.3003</td>\n",
       "      <td>0</td>\n",
       "      <td>5200</td>\n",
       "      <td>00d6b2b2-0211-4a80-a213-a0c2ef981715</td>\n",
       "    </tr>\n",
       "    <tr>\n",
       "      <th>4</th>\n",
       "      <td>2017-10-22 04:15:01.831</td>\n",
       "      <td>30660000</td>\n",
       "      <td>0</td>\n",
       "      <td>00d6cc12-a5c4-41c7-aa76-d81b38d49fb2.extra_dat...</td>\n",
       "      <td>-1</td>\n",
       "      <td>167.93997</td>\n",
       "      <td>6451</td>\n",
       "      <td>jQfnryI8/B</td>\n",
       "      <td>2017-10-23 01:35:00.001</td>\n",
       "      <td>600000</td>\n",
       "      <td>1508630400000</td>\n",
       "      <td>2480173</td>\n",
       "      <td>com.sec.android.app.shealth</td>\n",
       "      <td>2486624</td>\n",
       "      <td>3124.7898</td>\n",
       "      <td>0</td>\n",
       "      <td>4015</td>\n",
       "      <td>00d6cc12-a5c4-41c7-aa76-d81b38d49fb2</td>\n",
       "    </tr>\n",
       "  </tbody>\n",
       "</table>\n",
       "</div>"
      ],
      "text/plain": [
       "               create_time  longest_idle_time  score  \\\n",
       "0  2018-01-14 05:00:56.527           15780000      0   \n",
       "1  2018-01-03 05:03:32.135           22140000      0   \n",
       "2  2016-09-02 07:00:51.323           24660000     76   \n",
       "3  2016-07-24 07:03:17.688           36420000     83   \n",
       "4  2017-10-22 04:15:01.831           30660000      0   \n",
       "\n",
       "                                          extra_data  goal    calorie  \\\n",
       "0  00179515-d385-4f61-81a7-2ddd68ac80b2.extra_dat...    -1  927.15780   \n",
       "1  003f0597-41ad-4f7f-bd02-6683076a1535.extra_dat...    -1  971.60400   \n",
       "2  004dfa57-ff07-44f3-8d54-d3b9c09d41c5.extra_dat...    60  207.74994   \n",
       "3  00d6b2b2-0211-4a80-a213-a0c2ef981715.extra_dat...    60  240.44005   \n",
       "4  00d6cc12-a5c4-41c7-aa76-d81b38d49fb2.extra_dat...    -1  167.93997   \n",
       "\n",
       "   run_time  deviceuuid              update_time  longest_active_time  \\\n",
       "0     76845  jQfnryI8/B  2018-01-15 12:48:58.842              2400000   \n",
       "1     43840  jQfnryI8/B  2018-01-04 11:41:12.193              5363575   \n",
       "2     77742  jQfnryI8/B  2016-09-03 06:20:16.720               240000   \n",
       "3     55497  jQfnryI8/B  2016-07-25 05:48:14.487               540000   \n",
       "4      6451  jQfnryI8/B  2017-10-23 01:35:00.001               600000   \n",
       "\n",
       "        day_time  walk_time                     pkg_name  active_time  \\\n",
       "0  1515888000000    8814507  com.sec.android.app.shealth     11291352   \n",
       "1  1514937600000    5720581  com.sec.android.app.shealth     11982148   \n",
       "2  1472774400000    2726451  com.sec.android.app.shealth      2804193   \n",
       "3  1469318400000    3051950  com.sec.android.app.shealth      3107447   \n",
       "4  1508630400000    2480173  com.sec.android.app.shealth      2486624   \n",
       "\n",
       "    distance  others_time  step_count                              datauuid  \n",
       "0  9196.5030      2400000       12889  00179515-d385-4f61-81a7-2ddd68ac80b2  \n",
       "1  6962.8965      6217727       13135  003f0597-41ad-4f7f-bd02-6683076a1535  \n",
       "2  3679.9102            0        4407  004dfa57-ff07-44f3-8d54-d3b9c09d41c5  \n",
       "3  4135.3003            0        5200  00d6b2b2-0211-4a80-a213-a0c2ef981715  \n",
       "4  3124.7898            0        4015  00d6cc12-a5c4-41c7-aa76-d81b38d49fb2  "
      ]
     },
     "execution_count": 22,
     "metadata": {},
     "output_type": "execute_result"
    }
   ],
   "source": [
    "summary_df = pd.read_csv('./data/summary_last_session.csv')\n",
    "summary_df.head()"
   ]
  },
  {
   "cell_type": "code",
   "execution_count": 154,
   "metadata": {},
   "outputs": [
    {
     "data": {
      "text/plain": [
       "datetime.date(2018, 5, 3)"
      ]
     },
     "execution_count": 154,
     "metadata": {},
     "output_type": "execute_result"
    }
   ],
   "source": [
    "summary_create_date = (pd.to_datetime(summary_df['create_time'])).dt.date\n",
    "\n",
    "max(summary_create_date)"
   ]
  },
  {
   "cell_type": "code",
   "execution_count": 155,
   "metadata": {},
   "outputs": [
    {
     "data": {
      "text/plain": [
       "datetime.date(2016, 6, 25)"
      ]
     },
     "execution_count": 155,
     "metadata": {},
     "output_type": "execute_result"
    }
   ],
   "source": [
    "min(summary_create_date)"
   ]
  },
  {
   "cell_type": "code",
   "execution_count": 23,
   "metadata": {},
   "outputs": [
    {
     "data": {
      "text/plain": [
       "Index(['create_time', 'longest_idle_time', 'score', 'extra_data', 'goal',\n",
       "       'calorie', 'run_time', 'deviceuuid', 'update_time',\n",
       "       'longest_active_time', 'day_time', 'walk_time', 'pkg_name',\n",
       "       'active_time', 'distance', 'others_time', 'step_count', 'datauuid'],\n",
       "      dtype='object')"
      ]
     },
     "execution_count": 23,
     "metadata": {},
     "output_type": "execute_result"
    }
   ],
   "source": [
    "summary_df.columns"
   ]
  },
  {
   "cell_type": "code",
   "execution_count": 32,
   "metadata": {},
   "outputs": [
    {
     "data": {
      "text/plain": [
       "(705, 18)"
      ]
     },
     "execution_count": 32,
     "metadata": {},
     "output_type": "execute_result"
    }
   ],
   "source": [
    "summary_df.shape"
   ]
  },
  {
   "cell_type": "code",
   "execution_count": 39,
   "metadata": {},
   "outputs": [
    {
     "name": "stdout",
     "output_type": "stream",
     "text": [
      "2017-10-04 10:07:44\n"
     ]
    }
   ],
   "source": [
    "from datetime import datetime, timedelta\n",
    "\n",
    "unix_ts = 1507126064\n",
    "dt = (datetime.fromtimestamp(unix_ts)).strftime('%Y-%m-%d %H:%M:%S')\n",
    "#dt = (datetime.fromtimestamp(unix_ts)).strftime('%H:%M:%S')\n",
    "\n",
    "\n",
    "print(dt)"
   ]
  },
  {
   "cell_type": "code",
   "execution_count": null,
   "metadata": {
    "collapsed": true
   },
   "outputs": [],
   "source": []
  }
 ],
 "metadata": {
  "kernelspec": {
   "display_name": "Python 3",
   "language": "python",
   "name": "python3"
  },
  "language_info": {
   "codemirror_mode": {
    "name": "ipython",
    "version": 3
   },
   "file_extension": ".py",
   "mimetype": "text/x-python",
   "name": "python",
   "nbconvert_exporter": "python",
   "pygments_lexer": "ipython3",
   "version": "3.6.6"
  }
 },
 "nbformat": 4,
 "nbformat_minor": 2
}
