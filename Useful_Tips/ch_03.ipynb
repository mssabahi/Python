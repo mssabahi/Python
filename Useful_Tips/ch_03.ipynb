{
  "nbformat": 4,
  "nbformat_minor": 0,
  "metadata": {
    "colab": {
      "name": "ch_03.ipynb",
      "provenance": [],
      "collapsed_sections": [],
      "authorship_tag": "ABX9TyM7V/NfJrZtAvShUvXWVYen",
      "include_colab_link": true
    },
    "kernelspec": {
      "name": "python3",
      "display_name": "Python 3"
    },
    "language_info": {
      "name": "python"
    }
  },
  "cells": [
    {
      "cell_type": "markdown",
      "metadata": {
        "id": "view-in-github",
        "colab_type": "text"
      },
      "source": [
        "<a href=\"https://colab.research.google.com/github/mssabahi/Python/blob/master/ch_03.ipynb\" target=\"_parent\"><img src=\"https://colab.research.google.com/assets/colab-badge.svg\" alt=\"Open In Colab\"/></a>"
      ]
    },
    {
      "cell_type": "markdown",
      "source": [
        "# Positional arguments of variable size\n",
        "\n",
        "\n",
        "Let's practice positional arguments of variable size. Your task is to define the function sort_types(). It takes a variable number of positional arguments and checks if each argument is a number or a string. The checked item is inserted afterwards either in the nums or strings list. Eventually, the function returns a tuple containing these lists.\n",
        "\n",
        "Use the Python's built-in isinstance() function to check if an object is of a certain type (e.g. isinstance(1, int) returns True) or one of the types (e.g. isinstance(5.65, (int, str)) returns False).\n",
        "\n",
        "Types to use in this task are int, float, and str."
      ],
      "metadata": {
        "id": "KKMSmxrbHODC"
      }
    },
    {
      "cell_type": "code",
      "source": [
        "# Define the function with an arbitrary number of arguments\n",
        "def sort_types(*args):\n",
        "    nums, strings = [], []    \n",
        "    for arg in args:\n",
        "        # Check if 'arg' is a number and add it to 'nums'\n",
        "        if isinstance(arg, (int,float)):\n",
        "            nums.append(arg)\n",
        "        # Check if 'arg' is a string and add it to 'strings'\n",
        "        elif isinstance(arg, str):\n",
        "            strings.append(arg)\n",
        "    \n",
        "    return (nums, strings)\n",
        "            \n",
        "print(sort_types(1.57, 'car', 'hat', 4, 5, 'tree', 0.89))"
      ],
      "metadata": {
        "colab": {
          "base_uri": "https://localhost:8080/"
        },
        "id": "ojijHXT_HN_i",
        "outputId": "f0103d34-1c2c-4feb-ee70-688fdb04b15d"
      },
      "execution_count": 1,
      "outputs": [
        {
          "output_type": "stream",
          "name": "stdout",
          "text": [
            "([1.57, 4, 5, 0.89], ['car', 'hat', 'tree'])\n"
          ]
        }
      ]
    },
    {
      "cell_type": "code",
      "source": [
        "def sort_types2(lst):\n",
        "    nums, strings = [], []    \n",
        "    for arg in lst:\n",
        "        # Check if 'arg' is a number and add it to 'nums'\n",
        "        if isinstance(arg, (int,float)):\n",
        "            nums.append(arg)\n",
        "        # Check if 'arg' is a string and add it to 'strings'\n",
        "        elif isinstance(arg, str):\n",
        "            strings.append(arg)\n",
        "    \n",
        "    return (nums, strings)\n",
        "            \n",
        "print(sort_types2( [1.57, 'car', 'hat', 4, 5, 'tree', 0.89] ) )"
      ],
      "metadata": {
        "colab": {
          "base_uri": "https://localhost:8080/"
        },
        "id": "qoXcaYY-l2Lh",
        "outputId": "c39c8306-7947-406a-c90f-730a8746a2b5"
      },
      "execution_count": 2,
      "outputs": [
        {
          "output_type": "stream",
          "name": "stdout",
          "text": [
            "([1.57, 4, 5, 0.89], ['car', 'hat', 'tree'])\n"
          ]
        }
      ]
    },
    {
      "cell_type": "code",
      "source": [
        "def lssum(*args):\n",
        "  sum = 0\n",
        "  for i in args:\n",
        "    sum += i\n",
        "  return sum\n",
        "\n",
        "lssum(1,2,3)"
      ],
      "metadata": {
        "colab": {
          "base_uri": "https://localhost:8080/"
        },
        "id": "rUWuOi7V3u2i",
        "outputId": "5d3ef639-5877-40d9-b23c-c881d1c99393"
      },
      "execution_count": 3,
      "outputs": [
        {
          "output_type": "execute_result",
          "data": {
            "text/plain": [
              "6"
            ]
          },
          "metadata": {},
          "execution_count": 3
        }
      ]
    },
    {
      "cell_type": "markdown",
      "source": [
        "# Keyword arguments of variable size\n",
        "\n",
        "Now let's move to keyword arguments of variable size! Your task is to define the function key_types(). It should take a variable number of keyword arguments and return a new dictionary: the keys are unique object types of arguments passed to the key_types() function and the associated values represent lists. Each list should contain argument names that follow the type defined as a key (e.g. calling the key_types(kwarg1='a', kwarg2='b', kwarg3=1) results in {<class 'int'>: ['kwarg3'], <class 'str'>: ['kwarg1', 'kwarg2']}).\n",
        "\n",
        "To retrieve the type of an object, you need to use the type() function (e.g. type(1) is int)."
      ],
      "metadata": {
        "id": "rDOjsu0dHN83"
      }
    },
    {
      "cell_type": "code",
      "source": [
        "# Define the function with an arbitrary number of arguments\n",
        "def key_types(**kwargs):\n",
        "    dict_type = dict()\n",
        "    # Iterate over key value pairs\n",
        "    for key, value in kwargs.items():\n",
        "        # Update a list associated with a key\n",
        "        if type(value) in dict_type:\n",
        "            dict_type[type(value)].append(key)\n",
        "        else:\n",
        "            dict_type[type(value)] = [key]\n",
        "            \n",
        "    return dict_type\n",
        "  \n",
        "res = key_types(a=1, b=2, c=(1, 2), d=3.1, e=4.2)\n",
        "print(res)"
      ],
      "metadata": {
        "colab": {
          "base_uri": "https://localhost:8080/"
        },
        "id": "iaFMEqWFHN6Q",
        "outputId": "1f5322ed-316e-4dd3-b5a2-25e4ac1db5ee"
      },
      "execution_count": 4,
      "outputs": [
        {
          "output_type": "stream",
          "name": "stdout",
          "text": [
            "{<class 'int'>: ['a', 'b'], <class 'tuple'>: ['c'], <class 'float'>: ['d', 'e']}\n"
          ]
        }
      ]
    },
    {
      "cell_type": "code",
      "source": [
        "def test(**kwargs):\n",
        "  for i in kwargs:\n",
        "    print(i)\n",
        "\n",
        "test(a=1)"
      ],
      "metadata": {
        "colab": {
          "base_uri": "https://localhost:8080/"
        },
        "id": "Hj0CpHsvUaAU",
        "outputId": "a9a18d56-47e8-4ce3-a9a2-e1e5da1bafc2"
      },
      "execution_count": 5,
      "outputs": [
        {
          "output_type": "stream",
          "name": "stdout",
          "text": [
            "a\n"
          ]
        }
      ]
    },
    {
      "cell_type": "code",
      "source": [
        "def key_types(**kwargs):\n",
        "  for key, value in kwargs.items():\n",
        "    print(key, type(value) )"
      ],
      "metadata": {
        "id": "qD87CNdrVYJp"
      },
      "execution_count": 6,
      "outputs": []
    },
    {
      "cell_type": "code",
      "source": [
        "key_types(a=1, b=2, c=(1, 2), d=3.1, e=4.2)"
      ],
      "metadata": {
        "colab": {
          "base_uri": "https://localhost:8080/"
        },
        "id": "yVvadWseVYGN",
        "outputId": "a0e53174-46d4-4fe1-dac2-ea74eda6b012"
      },
      "execution_count": 7,
      "outputs": [
        {
          "output_type": "stream",
          "name": "stdout",
          "text": [
            "a <class 'int'>\n",
            "b <class 'int'>\n",
            "c <class 'tuple'>\n",
            "d <class 'float'>\n",
            "e <class 'float'>\n"
          ]
        }
      ]
    },
    {
      "cell_type": "markdown",
      "source": [
        "#Combining argument types\n",
        "\n",
        "Now you'll try to combine different argument types. Your task is to define the sort_all_types() function. It takes positional and keyword arguments of variable size, finds all the numbers and strings contained within them, and concatenates type-wise the results. Use the sort_types() function you defined before (available in the workspace). It takes a positional argument of variable size and returns a tuple containing a list of numbers and a list of strings (type sort_types? to get additional help).\n",
        "\n",
        "Keep in mind that keyword arguments of variable size essentially represent a dictionary and the sort_types() function requires that you pass only its values.\n",
        "\n",
        "Tip: To call the sort_types() function correctly, you'd have to recall another usage of the * symbol."
      ],
      "metadata": {
        "id": "jUjRfB5qVYD6"
      }
    },
    {
      "cell_type": "code",
      "source": [
        "# Define the arguments passed to the function\n",
        "def sort_all_types(*args, **kwargs):\n",
        "\n",
        "    # Find all the numbers and strings in the 1st argument\n",
        "    nums1, strings1 = sort_types(*args)\n",
        "    \n",
        "    # Find all the numbers and strings in the 2nd argument\n",
        "    nums2, strings2 = sort_types(*kwargs.values())\n",
        "    \n",
        "    return (nums1 + nums2, strings1 + strings2)\n",
        "  \n",
        "res = sort_all_types(\n",
        "\t1, 2.0, 'dog', 5.1, num1 = 0.0, num2 = 5, str1 = 'cat'\n",
        ")\n",
        "print(res)"
      ],
      "metadata": {
        "colab": {
          "base_uri": "https://localhost:8080/"
        },
        "id": "3tX6GUdg4_7D",
        "outputId": "13c7a4e7-ead2-4978-cbfc-b8ee32fe882f"
      },
      "execution_count": 8,
      "outputs": [
        {
          "output_type": "stream",
          "name": "stdout",
          "text": [
            "([1, 2.0, 5.1, 0.0, 5], ['dog', 'cat'])\n"
          ]
        }
      ]
    },
    {
      "cell_type": "markdown",
      "source": [
        "# Define lambda expressions\n",
        "Let's write some lambda expressions! You will be given three tasks: each will require you to define a lambda expression taking some values as arguments and using them to calculate a specific result."
      ],
      "metadata": {
        "id": "logfbODr4_4h"
      }
    },
    {
      "cell_type": "code",
      "source": [
        "# Take x and return x squared if x > 0 and 0, otherwise\n",
        "squared_no_negatives = lambda x: x**2 if x>0 else 0\n",
        "print(squared_no_negatives(2.0))\n",
        "print(squared_no_negatives(-1))"
      ],
      "metadata": {
        "colab": {
          "base_uri": "https://localhost:8080/"
        },
        "id": "4aSwsGyc4_11",
        "outputId": "1399dd8e-dcc9-475b-eb8b-7cbd15bf6bf4"
      },
      "execution_count": 9,
      "outputs": [
        {
          "output_type": "stream",
          "name": "stdout",
          "text": [
            "4.0\n",
            "0\n"
          ]
        }
      ]
    },
    {
      "cell_type": "code",
      "source": [
        "def even1(num):\n",
        "  if num%2==0:\n",
        "    return True\n",
        "  else:\n",
        "    return False\n",
        "my_ls = [1, 2, 3, 4, 5, 6, 7, 8, 9, 10]\n",
        "list(filter(even1, my_ls))"
      ],
      "metadata": {
        "colab": {
          "base_uri": "https://localhost:8080/"
        },
        "id": "1DdNq5wyuBTb",
        "outputId": "d010b93f-3ccf-46f3-f94f-060a61827556"
      },
      "execution_count": 10,
      "outputs": [
        {
          "output_type": "execute_result",
          "data": {
            "text/plain": [
              "[2, 4, 6, 8, 10]"
            ]
          },
          "metadata": {},
          "execution_count": 10
        }
      ]
    },
    {
      "cell_type": "code",
      "source": [
        "def even2(num):\n",
        "  if num%2==0:\n",
        "    return num\n",
        "  else:\n",
        "    return 'nan'\n",
        "\n",
        "my_ls = [1, 2, 3, 4, 5, 6, 7, 8, 9, 10]\n",
        "ls = list(map(even2, my_ls))\n",
        "\n",
        "try:\n",
        "    while True:\n",
        "        ls.remove('nan')\n",
        "except ValueError:\n",
        "    pass\n",
        "ls"
      ],
      "metadata": {
        "colab": {
          "base_uri": "https://localhost:8080/"
        },
        "id": "kasoAEbVvTy0",
        "outputId": "ea0b3dbf-b472-4646-9a49-17abc2942604"
      },
      "execution_count": 11,
      "outputs": [
        {
          "output_type": "execute_result",
          "data": {
            "text/plain": [
              "[2, 4, 6, 8, 10]"
            ]
          },
          "metadata": {},
          "execution_count": 11
        }
      ]
    },
    {
      "cell_type": "code",
      "source": [
        "list(map(lambda x: x%2==0, my_ls))"
      ],
      "metadata": {
        "colab": {
          "base_uri": "https://localhost:8080/"
        },
        "id": "dQvbXplpzVuU",
        "outputId": "4a5a4121-f662-4158-ee71-3a898bc191ee"
      },
      "execution_count": 12,
      "outputs": [
        {
          "output_type": "execute_result",
          "data": {
            "text/plain": [
              "[False, True, False, True, False, True, False, True, False, True]"
            ]
          },
          "metadata": {},
          "execution_count": 12
        }
      ]
    },
    {
      "cell_type": "code",
      "source": [
        "list( filter(lambda x: x%2==0, my_ls) )"
      ],
      "metadata": {
        "colab": {
          "base_uri": "https://localhost:8080/"
        },
        "id": "ooTGHQc7w--x",
        "outputId": "ba6077a8-8d6e-4a39-94d2-5b93475b7171"
      },
      "execution_count": 13,
      "outputs": [
        {
          "output_type": "execute_result",
          "data": {
            "text/plain": [
              "[2, 4, 6, 8, 10]"
            ]
          },
          "metadata": {},
          "execution_count": 13
        }
      ]
    },
    {
      "cell_type": "code",
      "source": [
        "[x for x in my_ls if x%2==0]"
      ],
      "metadata": {
        "colab": {
          "base_uri": "https://localhost:8080/"
        },
        "id": "TJjEQBBdzpzD",
        "outputId": "ebb98a66-733e-4064-d81a-bc4046c00ff1"
      },
      "execution_count": 14,
      "outputs": [
        {
          "output_type": "execute_result",
          "data": {
            "text/plain": [
              "[2, 4, 6, 8, 10]"
            ]
          },
          "metadata": {},
          "execution_count": 14
        }
      ]
    },
    {
      "cell_type": "code",
      "source": [
        "# Take a list of integers nums and leave only even numbers\n",
        "get_even = lambda nums: [n for n in nums if n%2==0]\n",
        "print(get_even([1, 2, 3, 4, 5, 6, 7, 8, 9, 10]))"
      ],
      "metadata": {
        "colab": {
          "base_uri": "https://localhost:8080/"
        },
        "id": "nJW_HCHE4_zR",
        "outputId": "984adb47-7f72-46c3-cd4e-97538b33777f"
      },
      "execution_count": 15,
      "outputs": [
        {
          "output_type": "stream",
          "name": "stdout",
          "text": [
            "[2, 4, 6, 8, 10]\n"
          ]
        }
      ]
    },
    {
      "cell_type": "code",
      "source": [
        "def com_str(s1, s2):\n",
        "  return list(set(s1).intersection(set(s2)))\n",
        "com_str('pasta', 'pizza')"
      ],
      "metadata": {
        "colab": {
          "base_uri": "https://localhost:8080/"
        },
        "id": "Zl8Gikfc8cwn",
        "outputId": "01d628b1-12e2-4a9a-a7fa-f20e1e40f49d"
      },
      "execution_count": 16,
      "outputs": [
        {
          "output_type": "execute_result",
          "data": {
            "text/plain": [
              "['a', 'p']"
            ]
          },
          "metadata": {},
          "execution_count": 16
        }
      ]
    },
    {
      "cell_type": "code",
      "source": [
        "# Take strings s1, s2 and list their common characters\n",
        "common_chars = lambda s1, s2: list(set(s1).intersection(set(s2)))\n",
        "print(common_chars('pasta', 'pizza'))"
      ],
      "metadata": {
        "colab": {
          "base_uri": "https://localhost:8080/"
        },
        "id": "QpKFo60H-Mz2",
        "outputId": "fa6b61e8-0ca3-4b90-d5f9-4329936a00bb"
      },
      "execution_count": 17,
      "outputs": [
        {
          "output_type": "stream",
          "name": "stdout",
          "text": [
            "['a', 'p']\n"
          ]
        }
      ]
    },
    {
      "cell_type": "markdown",
      "source": [
        "Converting functions to lambda expressions\n",
        "Convert these three normally defined functions into lambda expressions:\n",
        "\n",
        "# Returns a bigger of the two numbers\n",
        "\n",
        "\n",
        "```\n",
        "def func1(x, y):\n",
        "    if x >= y:\n",
        "        return x\n",
        "\n",
        "    return y\n",
        "```\n",
        "\n",
        "# Returns a dictionary counting charaters in a string\n",
        "\n",
        "```\n",
        "def func2(s):\n",
        "    d = dict()\n",
        "    for c in set(s):\n",
        "        d[c] = s.count(c)\n",
        "\n",
        "    return d\n",
        "```\n",
        "\n",
        "# Returns a squared root of a sum of squared numbers\n",
        "```\n",
        "def func3(*nums):\n",
        "    squared_nums = [n**2 for n in nums]\n",
        "    sum_squared_nums = sum(squared_nums)\n",
        "\n",
        "    return math.sqrt(sum_squared_nums)\n",
        "```\n"
      ],
      "metadata": {
        "id": "KypVRNoVDoHm"
      }
    },
    {
      "cell_type": "code",
      "source": [
        "# Convert func1() to a lambda expression\n",
        "def func1(x, y):\n",
        "    if x >= y:\n",
        "        return x\n",
        "\n",
        "    return y\n",
        "\n",
        "lambda1 = lambda x,y: x if x>y else y\n",
        "print(str(func1(5, 4)) + ', ' + str(lambda1(5, 4)))\n",
        "print(str(func1(4, 5)) + ', ' + str(lambda1(4, 5)))"
      ],
      "metadata": {
        "colab": {
          "base_uri": "https://localhost:8080/"
        },
        "id": "E3YjwdZE-Ms1",
        "outputId": "dd1ca2a9-27d6-46df-b49b-ffb36b44254d"
      },
      "execution_count": 18,
      "outputs": [
        {
          "output_type": "stream",
          "name": "stdout",
          "text": [
            "5, 5\n",
            "5, 5\n"
          ]
        }
      ]
    },
    {
      "cell_type": "code",
      "source": [
        "# Returns a dictionary counting charaters in a string\n",
        "def func2(s):\n",
        "    d = dict()\n",
        "    for c in set(s):\n",
        "        d[c] = s.count(c)\n",
        "\n",
        "    return d\n",
        "\n",
        "func2('tesst')"
      ],
      "metadata": {
        "colab": {
          "base_uri": "https://localhost:8080/"
        },
        "id": "6bhMRrTk-Mq2",
        "outputId": "32593199-6587-4419-b5db-21d4f0058a86"
      },
      "execution_count": 19,
      "outputs": [
        {
          "output_type": "execute_result",
          "data": {
            "text/plain": [
              "{'e': 1, 's': 2, 't': 2}"
            ]
          },
          "metadata": {},
          "execution_count": 19
        }
      ]
    },
    {
      "cell_type": "code",
      "source": [
        "# Convert func2() to a lambda expression\n",
        "lambda2 = lambda s: dict( [(c,s.count(c)) for c in set(s)] )\n",
        "print(func2('DataCamp'))\n",
        "print(lambda2('DataCamp'))"
      ],
      "metadata": {
        "colab": {
          "base_uri": "https://localhost:8080/"
        },
        "id": "uResNMVG-MoG",
        "outputId": "e894766e-f6e3-4270-c2eb-ce3d6fd71916"
      },
      "execution_count": 20,
      "outputs": [
        {
          "output_type": "stream",
          "name": "stdout",
          "text": [
            "{'t': 1, 'm': 1, 'p': 1, 'a': 3, 'D': 1, 'C': 1}\n",
            "{'t': 1, 'm': 1, 'p': 1, 'a': 3, 'D': 1, 'C': 1}\n"
          ]
        }
      ]
    },
    {
      "cell_type": "code",
      "source": [
        "dict([('x',2)])"
      ],
      "metadata": {
        "colab": {
          "base_uri": "https://localhost:8080/"
        },
        "id": "BYJ0W6JhLBSD",
        "outputId": "440c84d7-fd80-4ffc-def7-e08ed4bf31d9"
      },
      "execution_count": 21,
      "outputs": [
        {
          "output_type": "execute_result",
          "data": {
            "text/plain": [
              "{'x': 2}"
            ]
          },
          "metadata": {},
          "execution_count": 21
        }
      ]
    },
    {
      "cell_type": "code",
      "source": [
        "from scipy import math\n",
        "def func3(*nums):\n",
        "    squared_nums = [n**2 for n in nums]\n",
        "    sum_squared_nums = sum(squared_nums)\n",
        "\n",
        "    return math.sqrt(sum_squared_nums)\n",
        "\n",
        "func3(2,2,4)"
      ],
      "metadata": {
        "colab": {
          "base_uri": "https://localhost:8080/"
        },
        "id": "0mGlkK-pLBPj",
        "outputId": "e022f502-1882-4428-ed33-5ef06e308ecc"
      },
      "execution_count": 22,
      "outputs": [
        {
          "output_type": "execute_result",
          "data": {
            "text/plain": [
              "4.898979485566356"
            ]
          },
          "metadata": {},
          "execution_count": 22
        }
      ]
    },
    {
      "cell_type": "code",
      "source": [
        "# Convert func3() to a lambda expression\n",
        "lambda3 = lambda *nums: math.sqrt(sum([n**2 for n in nums]))\n",
        "print(str(func3(3, 4)) + ', ' + str(lambda3(3, 4)))\n",
        "print(str(func3(3, 4, 5)) + ', ' + str(lambda3(3, 4, 5)))"
      ],
      "metadata": {
        "colab": {
          "base_uri": "https://localhost:8080/"
        },
        "id": "shrkPu0sLBNS",
        "outputId": "52ed65a1-29ef-4278-d5a1-7fd2765b6d19"
      },
      "execution_count": 23,
      "outputs": [
        {
          "output_type": "stream",
          "name": "stdout",
          "text": [
            "5.0, 5.0\n",
            "7.0710678118654755, 7.0710678118654755\n"
          ]
        }
      ]
    },
    {
      "cell_type": "code",
      "source": [
        "x = [2,2,4]\n",
        "sum([i**2 for i in x])"
      ],
      "metadata": {
        "colab": {
          "base_uri": "https://localhost:8080/"
        },
        "id": "Q6JlT-LrLBK0",
        "outputId": "5910a28b-8ea9-428c-9267-4a0b6800dcb7"
      },
      "execution_count": 24,
      "outputs": [
        {
          "output_type": "execute_result",
          "data": {
            "text/plain": [
              "24"
            ]
          },
          "metadata": {},
          "execution_count": 24
        }
      ]
    },
    {
      "cell_type": "code",
      "source": [
        "f = lambda *x: math.sqrt( sum([i**2 for i in x]) )\n",
        "f(3,4,6)"
      ],
      "metadata": {
        "colab": {
          "base_uri": "https://localhost:8080/"
        },
        "id": "fY6Ges9oLBIo",
        "outputId": "80af2d9e-706b-43ca-ad34-e0be4ee7c5cf"
      },
      "execution_count": 25,
      "outputs": [
        {
          "output_type": "execute_result",
          "data": {
            "text/plain": [
              "7.810249675906654"
            ]
          },
          "metadata": {},
          "execution_count": 25
        }
      ]
    },
    {
      "cell_type": "code",
      "source": [
        "f = lambda x: math.sqrt( sum([i**2 for i in x]) )\n",
        "f([3,4,6])"
      ],
      "metadata": {
        "colab": {
          "base_uri": "https://localhost:8080/"
        },
        "id": "g591CwMl_l0M",
        "outputId": "2492e1f6-d8c2-4acd-8495-c99680047f9e"
      },
      "execution_count": 26,
      "outputs": [
        {
          "output_type": "execute_result",
          "data": {
            "text/plain": [
              "7.810249675906654"
            ]
          },
          "metadata": {},
          "execution_count": 26
        }
      ]
    },
    {
      "cell_type": "code",
      "source": [
        "lambda x: math.sqrt( sum([i**2 for i in x]) ) "
      ],
      "metadata": {
        "colab": {
          "base_uri": "https://localhost:8080/"
        },
        "id": "tkskd0MBLBGJ",
        "outputId": "f744822c-1266-4025-aaf7-0cfe41f28777"
      },
      "execution_count": 27,
      "outputs": [
        {
          "output_type": "execute_result",
          "data": {
            "text/plain": [
              "<function __main__.<lambda>>"
            ]
          },
          "metadata": {},
          "execution_count": 27
        }
      ]
    },
    {
      "cell_type": "markdown",
      "source": [
        "# Using a lambda expression as an argument\n",
        "\n",
        "Let's pass lambda expressions as arguments to functions. You will deal with the list .sort() method. By default, it sorts numbers in increasing order. Characters and strings are sorted alphabetically. The method can be defined as .sort(key=function). Here, key defines a mapping of each item in the considered list to a sortable object (e.g. a number or a character). Thus, the items in a list are sorted the way sortable objects are.\n",
        "\n",
        "Your task is to define different ways to sort the list words using the key argument with a lambda expression."
      ],
      "metadata": {
        "id": "hAMkL5GDLBC-"
      }
    },
    {
      "cell_type": "code",
      "source": [
        "words = ['car', 'truck', 'interview', 'tequila', 'time', 'cell', 'chicken', 'leader', 'government',\n",
        "         'transaction', 'country', 'bag', 'call', 'area', 'service', 'phone', 'advantage', 'job',\n",
        "         'shape', 'item', 'atmosphere', 'height', 'creature', 'plane', 'unit']\n",
        "\n",
        "words.sort()\n",
        "print(words)"
      ],
      "metadata": {
        "colab": {
          "base_uri": "https://localhost:8080/"
        },
        "id": "b6rOOvb9Y99g",
        "outputId": "9e03e023-f1ff-4aab-c991-2eca82c75679"
      },
      "execution_count": 28,
      "outputs": [
        {
          "output_type": "stream",
          "name": "stdout",
          "text": [
            "['advantage', 'area', 'atmosphere', 'bag', 'call', 'car', 'cell', 'chicken', 'country', 'creature', 'government', 'height', 'interview', 'item', 'job', 'leader', 'phone', 'plane', 'service', 'shape', 'tequila', 'time', 'transaction', 'truck', 'unit']\n"
          ]
        }
      ]
    },
    {
      "cell_type": "code",
      "source": [
        "words = ['car', 'truck', 'interview', 'tequila', 'time', 'cell', 'chicken', 'leader', 'government',\n",
        "         'transaction', 'country', 'bag', 'call', 'area', 'service', 'phone', 'advantage', 'job',\n",
        "         'shape', 'item', 'atmosphere', 'height', 'creature', 'plane', 'unit']\n",
        "\n",
        "\n",
        "# Sort words by the string length\n",
        "words.sort(key=lambda s: len(s), reverse=False ) # reverse=False; from the smallest to the largest\n",
        "print(words)"
      ],
      "metadata": {
        "colab": {
          "base_uri": "https://localhost:8080/"
        },
        "id": "uqf8loPsYYQL",
        "outputId": "a0eaba81-33a9-4a59-e98d-04f3a6c7be57"
      },
      "execution_count": 29,
      "outputs": [
        {
          "output_type": "stream",
          "name": "stdout",
          "text": [
            "['car', 'bag', 'job', 'time', 'cell', 'call', 'area', 'item', 'unit', 'truck', 'phone', 'shape', 'plane', 'leader', 'height', 'tequila', 'chicken', 'country', 'service', 'creature', 'interview', 'advantage', 'government', 'atmosphere', 'transaction']\n"
          ]
        }
      ]
    },
    {
      "cell_type": "code",
      "source": [
        "words = ['car', 'truck', 'interview', 'tequila', 'time', 'cell', 'chicken', 'leader', 'government',\n",
        "         'transaction', 'country', 'bag', 'call', 'area', 'service', 'phone', 'advantage', 'job',\n",
        "         'shape', 'item', 'atmosphere', 'height', 'creature', 'plane', 'unit']\n",
        "\n",
        "\n",
        "# Sort words by the last character in a string\n",
        "words.sort(key=lambda s: s[-1])\n",
        "print(words)"
      ],
      "metadata": {
        "colab": {
          "base_uri": "https://localhost:8080/"
        },
        "id": "zMYN6BOdT_4g",
        "outputId": "540283ff-9f20-433b-f53b-d6ceb025e799"
      },
      "execution_count": 30,
      "outputs": [
        {
          "output_type": "stream",
          "name": "stdout",
          "text": [
            "['tequila', 'area', 'job', 'time', 'service', 'phone', 'advantage', 'shape', 'atmosphere', 'creature', 'plane', 'bag', 'truck', 'cell', 'call', 'item', 'chicken', 'transaction', 'car', 'leader', 'government', 'height', 'unit', 'interview', 'country']\n"
          ]
        }
      ]
    },
    {
      "cell_type": "markdown",
      "source": [
        "# I have a queswtion here"
      ],
      "metadata": {
        "id": "TkYwlWdzbuKw"
      }
    },
    {
      "cell_type": "code",
      "source": [
        "words = ['car', 'truck', 'interview', 'tequila', 'time', 'cell', 'chicken', 'leader', 'government',\n",
        "         'transaction', 'country', 'bag', 'call', 'area', 'service', 'phone', 'advantage', 'job',\n",
        "         'shape', 'item', 'atmosphere', 'height', 'creature', 'plane', 'unit']\n",
        "\n",
        "\n",
        "# Sort words by the total amount of certain characters; Sort words by the total amount of characters a, b, and c (e.g., the word 'cabana' has 3 a's, 1 b, and 1 c; in total, 5)\n",
        "words.sort(key=lambda s: sum([s.count('a'), s.count('b'), s.count('c')]  ), reverse=False )\n",
        "print(words)"
      ],
      "metadata": {
        "colab": {
          "base_uri": "https://localhost:8080/"
        },
        "id": "-yLRRDo4T_16",
        "outputId": "fd966790-9310-477d-c664-0eb6ecdc2809"
      },
      "execution_count": 31,
      "outputs": [
        {
          "output_type": "stream",
          "name": "stdout",
          "text": [
            "['interview', 'time', 'government', 'phone', 'item', 'height', 'unit', 'truck', 'tequila', 'cell', 'leader', 'country', 'service', 'job', 'shape', 'atmosphere', 'plane', 'car', 'chicken', 'bag', 'call', 'area', 'creature', 'transaction', 'advantage']\n"
          ]
        }
      ]
    },
    {
      "cell_type": "markdown",
      "source": [
        "# The map() function\n",
        "\n",
        "Do you remember how zip() works? It merges given Iterables so that items with the same index fall into the same tuple. Moreover, the output is restricted by the shortest Iterable.\n",
        "\n",
        "Your task is to define your own my_zip() function with *args depicting a variable number of Iterables, e.g. lists, strings, tuples etc. Rather than a zip object, my_zip() should already return a list of tuples.\n",
        "\n",
        "Comment: args should be checked whether they contain Iterables first. But we omit it for simplicity."
      ],
      "metadata": {
        "id": "CS-7m4tTT_wo"
      }
    },
    {
      "cell_type": "markdown",
      "source": [
        "Retrieve Iterable lengths from args using map() and find the minimal length.\n",
        "\n",
        "Within the loop, create the mapping using map() to retrieve the elements in args with the same index i.\n",
        "\n",
        "Convert the mapping to a tuple and append it to the tuple_list."
      ],
      "metadata": {
        "id": "7FdjxUOYmDty"
      }
    },
    {
      "cell_type": "code",
      "source": [
        "stng = ['Hello', 'Good']\n",
        "# [(x, len(x) ) for x in stng]\n",
        "\n",
        "list(map(len, stng)),"
      ],
      "metadata": {
        "colab": {
          "base_uri": "https://localhost:8080/"
        },
        "id": "vJLItoS6I2tV",
        "outputId": "10623616-025f-4e11-f9bb-b7edf50af3b1"
      },
      "execution_count": 32,
      "outputs": [
        {
          "output_type": "execute_result",
          "data": {
            "text/plain": [
              "([5, 4],)"
            ]
          },
          "metadata": {},
          "execution_count": 32
        }
      ]
    },
    {
      "cell_type": "code",
      "source": [
        "def my_zip(*args):\n",
        "    \n",
        "    # Retrieve Iterable lengths and find the minimal length\n",
        "    lengths = list(map(len, args))\n",
        "    min_length = min(lengths)\n",
        "\n",
        "    tuple_list = []\n",
        "    for i in range(0, min_length):\n",
        "        # Map the elements in args with the same index i\n",
        "        mapping = map(lambda x: x[i], args)\n",
        "        # Convert the mapping and append it to tuple_list\n",
        "        tuple_list.append(tuple(mapping))\n",
        "        \n",
        "    return tuple_list\n",
        "\n",
        "result = my_zip([1, 2, 3], ['a', 'b', 'c', 'd'], 'DataCamp')\n",
        "print(result)"
      ],
      "metadata": {
        "colab": {
          "base_uri": "https://localhost:8080/"
        },
        "id": "cotlX3K7mDo4",
        "outputId": "ccad7674-021f-4a94-f6a9-1f72ae94cb40"
      },
      "execution_count": 33,
      "outputs": [
        {
          "output_type": "stream",
          "name": "stdout",
          "text": [
            "[(1, 'a', 'D'), (2, 'b', 'a'), (3, 'c', 't')]\n"
          ]
        }
      ]
    },
    {
      "cell_type": "code",
      "source": [
        "args = [1, 2, 3], ['a', 'b', 'c', 'd'], 'DataCamp'\n",
        "tuple(map(lambda x: x[0], args))"
      ],
      "metadata": {
        "colab": {
          "base_uri": "https://localhost:8080/"
        },
        "id": "IgsZf3BHKQSn",
        "outputId": "ff1325b9-bb5f-4cfb-cbd9-8bce4275ac3c"
      },
      "execution_count": 34,
      "outputs": [
        {
          "output_type": "execute_result",
          "data": {
            "text/plain": [
              "(1, 'a', 'D')"
            ]
          },
          "metadata": {},
          "execution_count": 34
        }
      ]
    },
    {
      "cell_type": "code",
      "source": [
        "def my_zip(*args):\n",
        "    \n",
        "    # Retrieve Iterable lengths and find the minimal length\n",
        "    lengths = list(map(len, args)) # short answer!!\n",
        "    min_length = min(lengths)\n",
        "\n",
        "    tuple_list = []\n",
        "    for i in range(0, min_length):\n",
        "        # Map the elements in args with the same index i\n",
        "        mapping = map(lambda x: x[i], args)\n",
        "        # Convert the mapping and append it to tuple_list\n",
        "        tuple_list.append(tuple(mapping))\n",
        "        \n",
        "    return tuple_list\n",
        "\n",
        "result = my_zip([1, 2, 3], ['a', 'b', 'c', 'd'], 'DataCamp')\n",
        "print(result)"
      ],
      "metadata": {
        "colab": {
          "base_uri": "https://localhost:8080/"
        },
        "id": "MpBLtiKSmDm-",
        "outputId": "27643786-aafc-4b1b-cf9a-81b53ededbec"
      },
      "execution_count": 35,
      "outputs": [
        {
          "output_type": "stream",
          "name": "stdout",
          "text": [
            "[(1, 'a', 'D'), (2, 'b', 'a'), (3, 'c', 't')]\n"
          ]
        }
      ]
    },
    {
      "cell_type": "markdown",
      "source": [
        "# The filter() function\n",
        "Let's do some filtering! You will be given three corresponding tasks you have to complete. Use lambda expressions! And remember: the filter() function keeps all the elements that are mapped to the True value.\n",
        "\n",
        "The variables string and spells are available in your workspace."
      ],
      "metadata": {
        "id": "ndk1YWnj2oV4"
      }
    },
    {
      "cell_type": "code",
      "source": [
        "nums = list(range(0,101))\n",
        "# Exclude all the numbers from nums divisible by 3 or 5\n",
        "print(nums)\n",
        "fnums = filter(lambda x: (x%3!=0 and x%5!=0), nums)\n",
        "print(list(fnums))"
      ],
      "metadata": {
        "colab": {
          "base_uri": "https://localhost:8080/"
        },
        "id": "Ra5U35tW5x6U",
        "outputId": "7388d2fa-bdbf-4ee8-f7cf-1a41357b68d9"
      },
      "execution_count": 36,
      "outputs": [
        {
          "output_type": "stream",
          "name": "stdout",
          "text": [
            "[0, 1, 2, 3, 4, 5, 6, 7, 8, 9, 10, 11, 12, 13, 14, 15, 16, 17, 18, 19, 20, 21, 22, 23, 24, 25, 26, 27, 28, 29, 30, 31, 32, 33, 34, 35, 36, 37, 38, 39, 40, 41, 42, 43, 44, 45, 46, 47, 48, 49, 50, 51, 52, 53, 54, 55, 56, 57, 58, 59, 60, 61, 62, 63, 64, 65, 66, 67, 68, 69, 70, 71, 72, 73, 74, 75, 76, 77, 78, 79, 80, 81, 82, 83, 84, 85, 86, 87, 88, 89, 90, 91, 92, 93, 94, 95, 96, 97, 98, 99, 100]\n",
            "[1, 2, 4, 7, 8, 11, 13, 14, 16, 17, 19, 22, 23, 26, 28, 29, 31, 32, 34, 37, 38, 41, 43, 44, 46, 47, 49, 52, 53, 56, 58, 59, 61, 62, 64, 67, 68, 71, 73, 74, 76, 77, 79, 82, 83, 86, 88, 89, 91, 92, 94, 97, 98]\n"
          ]
        }
      ]
    },
    {
      "cell_type": "code",
      "source": [
        "string = 'Ordinary Least Squares'\n",
        "print(string)\n",
        "vowels = 'aeiou'\n",
        "fstring = filter(lambda x: x not in vowels, string.lower())\n",
        "print(''.join(fstring))\n"
      ],
      "metadata": {
        "colab": {
          "base_uri": "https://localhost:8080/"
        },
        "id": "sqU2aIv76XlH",
        "outputId": "aed1cc28-d9be-4e5e-a312-dddd1b49f4c9"
      },
      "execution_count": 37,
      "outputs": [
        {
          "output_type": "stream",
          "name": "stdout",
          "text": [
            "Ordinary Least Squares\n",
            "rdnry lst sqrs\n"
          ]
        }
      ]
    },
    {
      "cell_type": "code",
      "source": [
        "# Return the string without its vowels\n",
        "print(string)\n",
        "vowels = 'AEIOUaeiou'\n",
        "fstring = filter(lambda x: x not in vowels, string)\n",
        "print(''.join(fstring))"
      ],
      "metadata": {
        "colab": {
          "base_uri": "https://localhost:8080/"
        },
        "id": "Qjt0-9aP7XL2",
        "outputId": "930f8238-0eb1-452c-ff03-dfd7fba0276a"
      },
      "execution_count": 38,
      "outputs": [
        {
          "output_type": "stream",
          "name": "stdout",
          "text": [
            "Ordinary Least Squares\n",
            "rdnry Lst Sqrs\n"
          ]
        }
      ]
    },
    {
      "cell_type": "code",
      "source": [
        "list(fstring)"
      ],
      "metadata": {
        "colab": {
          "base_uri": "https://localhost:8080/"
        },
        "id": "Y-p8-5v3LctH",
        "outputId": "a517fa2f-2b63-4062-eea0-6caf88b68926"
      },
      "execution_count": 39,
      "outputs": [
        {
          "output_type": "execute_result",
          "data": {
            "text/plain": [
              "[]"
            ]
          },
          "metadata": {},
          "execution_count": 39
        }
      ]
    },
    {
      "cell_type": "code",
      "source": [
        "# Filter all the spells in spells with more than two 'a' characters.\n",
        "spells = ['riddikulus', 'obliviate', 'sectumsempra', 'avada kedavra', 'alohomora', 'lumos', 'expelliarmus', 'expecto patronum']\n",
        "# Filter all the spells in spells with more than two 'a's\n",
        "print(spells)\n",
        "fspells = filter(lambda x: x.count('a') > 2, spells)\n",
        "print(list(fspells))"
      ],
      "metadata": {
        "colab": {
          "base_uri": "https://localhost:8080/"
        },
        "id": "CxMVuzpW5_WK",
        "outputId": "9f1cc16f-732e-447e-8f6b-389e57794942"
      },
      "execution_count": 40,
      "outputs": [
        {
          "output_type": "stream",
          "name": "stdout",
          "text": [
            "['riddikulus', 'obliviate', 'sectumsempra', 'avada kedavra', 'alohomora', 'lumos', 'expelliarmus', 'expecto patronum']\n",
            "['avada kedavra']\n"
          ]
        }
      ]
    },
    {
      "cell_type": "markdown",
      "source": [
        "# The reduce() function\n",
        "Now, it is time for some reduction! As before you'll be given three tasks to complete. Use lambda expressions!\n",
        "\n",
        "The necessary functions from the functools module are already imported for you."
      ],
      "metadata": {
        "id": "OFXNZaHd5_Th"
      }
    },
    {
      "cell_type": "code",
      "source": [
        "from functools import reduce\n",
        "# Reverse a string using reduce()\n",
        "string = 'DataCamp'\n",
        "inv_string = reduce(lambda x, y: y + x, string)\n",
        "print('Inverted string = ' + inv_string) "
      ],
      "metadata": {
        "colab": {
          "base_uri": "https://localhost:8080/"
        },
        "id": "7_ZD81XO5_RY",
        "outputId": "f5aa07dd-fd60-4124-f632-184ec63d1b95"
      },
      "execution_count": 41,
      "outputs": [
        {
          "output_type": "stream",
          "name": "stdout",
          "text": [
            "Inverted string = pmaCataD\n"
          ]
        }
      ]
    },
    {
      "cell_type": "code",
      "source": [
        "# Find common items shared among all the sets in sets\n",
        "sets = [{1, 4, 8, 9}, {2, 4, 6, 9, 10, 8}, {9, 0, 1, 2, 4}]\n",
        "common_items = reduce(lambda x, y: x.intersection(y), sets)\n",
        "print('common items = ' + str(common_items))"
      ],
      "metadata": {
        "colab": {
          "base_uri": "https://localhost:8080/"
        },
        "id": "8bfGd3nKDPPJ",
        "outputId": "6418c0ab-014e-4e6d-9a1f-334328716884"
      },
      "execution_count": 42,
      "outputs": [
        {
          "output_type": "stream",
          "name": "stdout",
          "text": [
            "common items = {9, 4}\n"
          ]
        }
      ]
    },
    {
      "cell_type": "code",
      "source": [
        "sets = [{1, 4, 8, 9}, {2, 4, 6, 9, 10, 8}, {9, 0, 1, 2, 4}]\n",
        "ls = sets[0]\n",
        "for i in range(len(sets)):\n",
        "  ls = ls.intersection(sets[i])\n",
        "ls"
      ],
      "metadata": {
        "colab": {
          "base_uri": "https://localhost:8080/"
        },
        "id": "M0_gFo_pDPMk",
        "outputId": "462df401-317e-4376-c3e1-e5dd57b3e76b"
      },
      "execution_count": 43,
      "outputs": [
        {
          "output_type": "execute_result",
          "data": {
            "text/plain": [
              "{4, 9}"
            ]
          },
          "metadata": {},
          "execution_count": 43
        }
      ]
    },
    {
      "cell_type": "code",
      "source": [
        "# Convert a number sequence into a single number (e.g. [1, 2, 3]  123).\n",
        "# Convert a number sequence into a single number\n",
        "nums = [5, 6, 0, 1]\n",
        "num = reduce(lambda x,y: str(x)+str(y), nums)\n",
        "print(str(nums) + ' is converted to ' + str(num))\n"
      ],
      "metadata": {
        "colab": {
          "base_uri": "https://localhost:8080/"
        },
        "id": "vkRqDpWIDPKO",
        "outputId": "1c55d5ad-db5e-4dad-f484-5839465eae28"
      },
      "execution_count": 44,
      "outputs": [
        {
          "output_type": "stream",
          "name": "stdout",
          "text": [
            "[5, 6, 0, 1] is converted to 5601\n"
          ]
        }
      ]
    },
    {
      "cell_type": "markdown",
      "source": [
        "# Calculate the number of function calls\n",
        "Let's consider a classic example of recursion – the Fibonacci sequence, represented by non-negative integers starting from 0 with each element  equals the sum of the preceding two: 0, 1, 1, 2, 3, 5, 8, 13, 21, .... You are given a function that returns a tuple with the -th element of the sequence and the amount of calls to fib() used:"
      ],
      "metadata": {
        "id": "ou2zdvXTZYWI"
      }
    },
    {
      "cell_type": "code",
      "source": [
        "def fib(n):\n",
        "\n",
        "  if n < 2:\n",
        "    return (n, 1)\n",
        "\n",
        "  fib1 = fib(n-1)\n",
        "  fib2 = fib(n-2)\n",
        "\n",
        "  return (fib1[0] + fib2[0], fib1[1] + fib2[1] + 1)"
      ],
      "metadata": {
        "id": "k8IwuXTYZYTA"
      },
      "execution_count": 45,
      "outputs": []
    },
    {
      "cell_type": "code",
      "source": [
        "def fibnew(n):\n",
        "\n",
        "  if n < 2:\n",
        "    return n\n",
        "\n",
        "  return (fibnew(n-1) + fibnew(n-2) )\n",
        "\n",
        "ls = []\n",
        "for i in range(1,8):\n",
        "  ls.append(fibnew(i))\n",
        "ls"
      ],
      "metadata": {
        "colab": {
          "base_uri": "https://localhost:8080/"
        },
        "id": "0z5xRJAxVHUd",
        "outputId": "1a1b0e41-1cce-4f4f-a35c-6ff87db55163"
      },
      "execution_count": 46,
      "outputs": [
        {
          "output_type": "execute_result",
          "data": {
            "text/plain": [
              "[1, 1, 2, 3, 5, 8, 13]"
            ]
          },
          "metadata": {},
          "execution_count": 46
        }
      ]
    },
    {
      "cell_type": "code",
      "source": [
        "# How many calls to fib() are needed to calculate the 15th and 20th elements of the sequence?"
      ],
      "metadata": {
        "id": "dp45eEjVZYQA"
      },
      "execution_count": 47,
      "outputs": []
    },
    {
      "cell_type": "code",
      "source": [
        "fib(15)"
      ],
      "metadata": {
        "colab": {
          "base_uri": "https://localhost:8080/"
        },
        "id": "1D4cEZQ3XCW7",
        "outputId": "d11e177b-4f2f-482e-e774-18ec4e0a3c60"
      },
      "execution_count": 48,
      "outputs": [
        {
          "output_type": "execute_result",
          "data": {
            "text/plain": [
              "(610, 1973)"
            ]
          },
          "metadata": {},
          "execution_count": 48
        }
      ]
    },
    {
      "cell_type": "markdown",
      "source": [
        "# Calculate an average value\n"
      ],
      "metadata": {
        "id": "Ng_ulVP042gt"
      }
    },
    {
      "cell_type": "code",
      "source": [
        "# Calculate an average value of the sequence of numbers\n",
        "def average(nums):\n",
        "  \n",
        "    # Base case\n",
        "    if len(nums) == 1:  \n",
        "        return nums[0]\n",
        "    \n",
        "    # Recursive call\n",
        "    n = len(nums)\n",
        "    return (nums[0] + (n - 1) * average(nums[1:])) / n  \n",
        "\n",
        "# Testing the function\n",
        "print(average([1, 2, 3, 4, 5]))"
      ],
      "metadata": {
        "colab": {
          "base_uri": "https://localhost:8080/"
        },
        "id": "SNlr1__g42en",
        "outputId": "d6d2f7e3-0338-428c-e93c-19d7ed8693de"
      },
      "execution_count": 49,
      "outputs": [
        {
          "output_type": "stream",
          "name": "stdout",
          "text": [
            "3.0\n"
          ]
        }
      ]
    },
    {
      "cell_type": "markdown",
      "source": [
        "# Approximate Pi with recursion\n",
        "The number  can be computed by the following formula:"
      ],
      "metadata": {
        "id": "8BO3-NCb42cK"
      }
    },
    {
      "cell_type": "code",
      "source": [
        "# Write an expression to get the k-th element of the series \n",
        "get_elmnt = lambda k: ((-1)**k)/(2*k+1)\n",
        "\n",
        "def calc_pi(n):\n",
        "    curr_elmnt = get_elmnt(n)\n",
        "    \n",
        "    # Define the base case \n",
        "    if n == 0:\n",
        "    \treturn 4\n",
        "      \n",
        "    # Make the recursive call\n",
        "    return 4 * curr_elmnt + calc_pi(n-1)\n",
        "  \n",
        "# Compare the approximated Pi value to the theoretical one\n",
        "print(\"approx = {}, theor = {}\".format(calc_pi(500), math.pi))"
      ],
      "metadata": {
        "colab": {
          "base_uri": "https://localhost:8080/"
        },
        "id": "HSDOy3aI42Zo",
        "outputId": "343f9a44-5587-46e2-a8b4-af59e8310b3a"
      },
      "execution_count": 50,
      "outputs": [
        {
          "output_type": "stream",
          "name": "stdout",
          "text": [
            "approx = 3.143588659585789, theor = 3.141592653589793\n"
          ]
        }
      ]
    },
    {
      "cell_type": "code",
      "source": [
        "def my_zip(*args):\n",
        "\n",
        "  for i in range(0, 3):\n",
        "          # Map the elements in args with the same index i\n",
        "          mapping = list(map(lambda x: x[i], args))\n",
        "\n",
        "          print(tuple(mapping) )"
      ],
      "metadata": {
        "id": "F69KaOusmDkZ"
      },
      "execution_count": 51,
      "outputs": []
    },
    {
      "cell_type": "code",
      "source": [
        "dic = {'a':[1], 'b':2, 'c':(1,2)}\n",
        "dic['a'].append(32) # append to the key list\n",
        "dic"
      ],
      "metadata": {
        "colab": {
          "base_uri": "https://localhost:8080/"
        },
        "id": "Tv1hQ8vaROd4",
        "outputId": "8287e660-11fc-47d2-d5b8-2efcc2892602"
      },
      "execution_count": 52,
      "outputs": [
        {
          "output_type": "execute_result",
          "data": {
            "text/plain": [
              "{'a': [1, 32], 'b': 2, 'c': (1, 2)}"
            ]
          },
          "metadata": {},
          "execution_count": 52
        }
      ]
    }
  ]
}
