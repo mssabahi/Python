{
  "nbformat": 4,
  "nbformat_minor": 0,
  "metadata": {
    "colab": {
      "name": "ch_02.ipynb",
      "provenance": [],
      "collapsed_sections": [],
      "mount_file_id": "1yaxS-Z0EX_O1CSonduYCLKcCUVuXEc5l",
      "authorship_tag": "ABX9TyPl+UdkiSBeAMDuRUdxzRmU",
      "include_colab_link": true
    },
    "kernelspec": {
      "name": "python3",
      "display_name": "Python 3"
    },
    "language_info": {
      "name": "python"
    }
  },
  "cells": [
    {
      "cell_type": "markdown",
      "metadata": {
        "id": "view-in-github",
        "colab_type": "text"
      },
      "source": [
        "<a href=\"https://colab.research.google.com/github/mssabahi/Python/blob/master/ch_02.ipynb\" target=\"_parent\"><img src=\"https://colab.research.google.com/assets/colab-badge.svg\" alt=\"Open In Colab\"/></a>"
      ]
    },
    {
      "cell_type": "markdown",
      "source": [
        "# enumerate()\n",
        "Let's enumerate! Your task is, given a string, to define the function retrieve_character_indices() that creates a dictionary character_indices, where each key represents a unique character from the string and the corresponding value is a list containing the indices/positions of this letter in the string.\n",
        "\n",
        "For example, passing the string 'ukulele' to the retrieve_character_indices() function should result in the following output: {'e': [4, 6], 'k': [1], 'l': [3, 5], 'u': [0, 2]}.\n",
        "\n",
        "For this task, you are not allowed to use any string methods!"
      ],
      "metadata": {
        "id": "YJ_oovWjmaVw"
      }
    },
    {
      "cell_type": "code",
      "source": [
        "import numpy as np\n",
        "import pandas as pd\n",
        "import matplotlib.pyplot as plt\n",
        "import seaborn as sns"
      ],
      "metadata": {
        "id": "gl2J2oAun37p"
      },
      "execution_count": 6,
      "outputs": []
    },
    {
      "cell_type": "code",
      "execution_count": 4,
      "metadata": {
        "colab": {
          "base_uri": "https://localhost:8080/"
        },
        "id": "WGa5OCtZWmo5",
        "outputId": "97b6d5b8-75dc-4962-d640-20cbd793969c"
      },
      "outputs": [
        {
          "output_type": "stream",
          "name": "stdout",
          "text": [
            "{'e': [0, 4, 8, 15, 20], 'n': [1, 11], 'u': [2], 'm': [3], 'r': [5, 16], 'a': [6, 10, 17], 't': [7, 14], ' ': [9, 12], 'I': [13], 'b': [18], 'l': [19]}\n"
          ]
        }
      ],
      "source": [
        "def retrieve_character_indices(string):\n",
        "    character_indices = dict()\n",
        "    # Define the 'for' loop\n",
        "    for index, character in enumerate(string):\n",
        "        # Update the dictionary if the key already exists\n",
        "        if character in character_indices:\n",
        "            character_indices[character].append(index)\n",
        "        # Update the dictionary if the key is absent\n",
        "        else:\n",
        "            character_indices[character] = [index]\n",
        "            \n",
        "    return character_indices\n",
        "  \n",
        "print(retrieve_character_indices('enumerate an Iterable'))"
      ]
    },
    {
      "cell_type": "code",
      "source": [
        "heroes = pd.read_csv('/content/drive/MyDrive/Colab_Notebooks/Data_Camp/Python_Interview/Chapter_01/heroes_information.csv')\n",
        "heroes.head()"
      ],
      "metadata": {
        "colab": {
          "base_uri": "https://localhost:8080/",
          "height": 206
        },
        "id": "RYSe1gPqd0qi",
        "outputId": "f3f81839-5f4d-42fa-bfbb-7badd65c7c30"
      },
      "execution_count": 7,
      "outputs": [
        {
          "output_type": "execute_result",
          "data": {
            "text/html": [
              "\n",
              "  <div id=\"df-9e0e801c-d250-4f3c-b952-7e72fc4702a7\">\n",
              "    <div class=\"colab-df-container\">\n",
              "      <div>\n",
              "<style scoped>\n",
              "    .dataframe tbody tr th:only-of-type {\n",
              "        vertical-align: middle;\n",
              "    }\n",
              "\n",
              "    .dataframe tbody tr th {\n",
              "        vertical-align: top;\n",
              "    }\n",
              "\n",
              "    .dataframe thead th {\n",
              "        text-align: right;\n",
              "    }\n",
              "</style>\n",
              "<table border=\"1\" class=\"dataframe\">\n",
              "  <thead>\n",
              "    <tr style=\"text-align: right;\">\n",
              "      <th></th>\n",
              "      <th>Unnamed: 0</th>\n",
              "      <th>name</th>\n",
              "      <th>Gender</th>\n",
              "      <th>Eye color</th>\n",
              "      <th>Race</th>\n",
              "      <th>Hair color</th>\n",
              "      <th>Height</th>\n",
              "      <th>Publisher</th>\n",
              "      <th>Skin color</th>\n",
              "      <th>Alignment</th>\n",
              "      <th>Weight</th>\n",
              "    </tr>\n",
              "  </thead>\n",
              "  <tbody>\n",
              "    <tr>\n",
              "      <th>0</th>\n",
              "      <td>0</td>\n",
              "      <td>A-Bomb</td>\n",
              "      <td>Male</td>\n",
              "      <td>yellow</td>\n",
              "      <td>Human</td>\n",
              "      <td>No Hair</td>\n",
              "      <td>203.0</td>\n",
              "      <td>Marvel Comics</td>\n",
              "      <td>-</td>\n",
              "      <td>good</td>\n",
              "      <td>441.0</td>\n",
              "    </tr>\n",
              "    <tr>\n",
              "      <th>1</th>\n",
              "      <td>1</td>\n",
              "      <td>Abe Sapien</td>\n",
              "      <td>Male</td>\n",
              "      <td>blue</td>\n",
              "      <td>Icthyo Sapien</td>\n",
              "      <td>No Hair</td>\n",
              "      <td>191.0</td>\n",
              "      <td>Dark Horse Comics</td>\n",
              "      <td>blue</td>\n",
              "      <td>good</td>\n",
              "      <td>65.0</td>\n",
              "    </tr>\n",
              "    <tr>\n",
              "      <th>2</th>\n",
              "      <td>2</td>\n",
              "      <td>Abin Sur</td>\n",
              "      <td>Male</td>\n",
              "      <td>blue</td>\n",
              "      <td>Ungaran</td>\n",
              "      <td>No Hair</td>\n",
              "      <td>185.0</td>\n",
              "      <td>DC Comics</td>\n",
              "      <td>red</td>\n",
              "      <td>good</td>\n",
              "      <td>90.0</td>\n",
              "    </tr>\n",
              "    <tr>\n",
              "      <th>3</th>\n",
              "      <td>3</td>\n",
              "      <td>Abomination</td>\n",
              "      <td>Male</td>\n",
              "      <td>green</td>\n",
              "      <td>Human / Radiation</td>\n",
              "      <td>No Hair</td>\n",
              "      <td>203.0</td>\n",
              "      <td>Marvel Comics</td>\n",
              "      <td>-</td>\n",
              "      <td>bad</td>\n",
              "      <td>441.0</td>\n",
              "    </tr>\n",
              "    <tr>\n",
              "      <th>4</th>\n",
              "      <td>4</td>\n",
              "      <td>Abraxas</td>\n",
              "      <td>Male</td>\n",
              "      <td>blue</td>\n",
              "      <td>Cosmic Entity</td>\n",
              "      <td>Black</td>\n",
              "      <td>-99.0</td>\n",
              "      <td>Marvel Comics</td>\n",
              "      <td>-</td>\n",
              "      <td>bad</td>\n",
              "      <td>-99.0</td>\n",
              "    </tr>\n",
              "  </tbody>\n",
              "</table>\n",
              "</div>\n",
              "      <button class=\"colab-df-convert\" onclick=\"convertToInteractive('df-9e0e801c-d250-4f3c-b952-7e72fc4702a7')\"\n",
              "              title=\"Convert this dataframe to an interactive table.\"\n",
              "              style=\"display:none;\">\n",
              "        \n",
              "  <svg xmlns=\"http://www.w3.org/2000/svg\" height=\"24px\"viewBox=\"0 0 24 24\"\n",
              "       width=\"24px\">\n",
              "    <path d=\"M0 0h24v24H0V0z\" fill=\"none\"/>\n",
              "    <path d=\"M18.56 5.44l.94 2.06.94-2.06 2.06-.94-2.06-.94-.94-2.06-.94 2.06-2.06.94zm-11 1L8.5 8.5l.94-2.06 2.06-.94-2.06-.94L8.5 2.5l-.94 2.06-2.06.94zm10 10l.94 2.06.94-2.06 2.06-.94-2.06-.94-.94-2.06-.94 2.06-2.06.94z\"/><path d=\"M17.41 7.96l-1.37-1.37c-.4-.4-.92-.59-1.43-.59-.52 0-1.04.2-1.43.59L10.3 9.45l-7.72 7.72c-.78.78-.78 2.05 0 2.83L4 21.41c.39.39.9.59 1.41.59.51 0 1.02-.2 1.41-.59l7.78-7.78 2.81-2.81c.8-.78.8-2.07 0-2.86zM5.41 20L4 18.59l7.72-7.72 1.47 1.35L5.41 20z\"/>\n",
              "  </svg>\n",
              "      </button>\n",
              "      \n",
              "  <style>\n",
              "    .colab-df-container {\n",
              "      display:flex;\n",
              "      flex-wrap:wrap;\n",
              "      gap: 12px;\n",
              "    }\n",
              "\n",
              "    .colab-df-convert {\n",
              "      background-color: #E8F0FE;\n",
              "      border: none;\n",
              "      border-radius: 50%;\n",
              "      cursor: pointer;\n",
              "      display: none;\n",
              "      fill: #1967D2;\n",
              "      height: 32px;\n",
              "      padding: 0 0 0 0;\n",
              "      width: 32px;\n",
              "    }\n",
              "\n",
              "    .colab-df-convert:hover {\n",
              "      background-color: #E2EBFA;\n",
              "      box-shadow: 0px 1px 2px rgba(60, 64, 67, 0.3), 0px 1px 3px 1px rgba(60, 64, 67, 0.15);\n",
              "      fill: #174EA6;\n",
              "    }\n",
              "\n",
              "    [theme=dark] .colab-df-convert {\n",
              "      background-color: #3B4455;\n",
              "      fill: #D2E3FC;\n",
              "    }\n",
              "\n",
              "    [theme=dark] .colab-df-convert:hover {\n",
              "      background-color: #434B5C;\n",
              "      box-shadow: 0px 1px 3px 1px rgba(0, 0, 0, 0.15);\n",
              "      filter: drop-shadow(0px 1px 2px rgba(0, 0, 0, 0.3));\n",
              "      fill: #FFFFFF;\n",
              "    }\n",
              "  </style>\n",
              "\n",
              "      <script>\n",
              "        const buttonEl =\n",
              "          document.querySelector('#df-9e0e801c-d250-4f3c-b952-7e72fc4702a7 button.colab-df-convert');\n",
              "        buttonEl.style.display =\n",
              "          google.colab.kernel.accessAllowed ? 'block' : 'none';\n",
              "\n",
              "        async function convertToInteractive(key) {\n",
              "          const element = document.querySelector('#df-9e0e801c-d250-4f3c-b952-7e72fc4702a7');\n",
              "          const dataTable =\n",
              "            await google.colab.kernel.invokeFunction('convertToInteractive',\n",
              "                                                     [key], {});\n",
              "          if (!dataTable) return;\n",
              "\n",
              "          const docLinkHtml = 'Like what you see? Visit the ' +\n",
              "            '<a target=\"_blank\" href=https://colab.research.google.com/notebooks/data_table.ipynb>data table notebook</a>'\n",
              "            + ' to learn more about interactive tables.';\n",
              "          element.innerHTML = '';\n",
              "          dataTable['output_type'] = 'display_data';\n",
              "          await google.colab.output.renderOutput(dataTable, element);\n",
              "          const docLink = document.createElement('div');\n",
              "          docLink.innerHTML = docLinkHtml;\n",
              "          element.appendChild(docLink);\n",
              "        }\n",
              "      </script>\n",
              "    </div>\n",
              "  </div>\n",
              "  "
            ],
            "text/plain": [
              "   Unnamed: 0         name Gender  ... Skin color Alignment Weight\n",
              "0           0       A-Bomb   Male  ...          -      good  441.0\n",
              "1           1   Abe Sapien   Male  ...       blue      good   65.0\n",
              "2           2     Abin Sur   Male  ...        red      good   90.0\n",
              "3           3  Abomination   Male  ...          -       bad  441.0\n",
              "4           4      Abraxas   Male  ...          -       bad  -99.0\n",
              "\n",
              "[5 rows x 11 columns]"
            ]
          },
          "metadata": {},
          "execution_count": 7
        }
      ]
    },
    {
      "cell_type": "code",
      "source": [
        "for column_name, series in heroes.iteritems():\n",
        "  values = list(series)\n",
        "  print(values)"
      ],
      "metadata": {
        "colab": {
          "base_uri": "https://localhost:8080/"
        },
        "id": "3hhiXELnd_GE",
        "outputId": "2a6eeb81-b1a0-468c-eb35-162a89ffa18e"
      },
      "execution_count": null,
      "outputs": [
        {
          "output_type": "stream",
          "name": "stdout",
          "text": [
            "[0, 1, 2, 3, 4, 5, 6, 7, 8, 9, 10, 11, 12, 13, 14, 15, 16, 17, 18, 19, 20, 21, 22, 23, 24, 25, 26, 27, 28, 29, 30, 31, 32, 33, 34, 35, 36, 37, 38, 39, 40, 41, 42, 43, 44, 45, 46, 47, 48, 49, 50, 51, 52, 53, 54, 55, 56, 57, 58, 59, 60, 61, 62, 63, 64, 65, 66, 67, 68, 69, 70, 71, 72, 73, 74, 75, 76, 77, 78, 79, 80, 81, 82, 83, 84, 85, 86, 87, 88, 89, 90, 91, 92, 93, 94, 95, 96, 97, 98, 99, 100, 101, 102, 103, 104, 105, 106, 107, 108, 109, 110, 111, 112, 113, 114, 115, 116, 117, 118, 119, 120, 121, 122, 123, 124, 125, 126, 127, 128, 129, 130, 131, 132, 133, 134, 135, 136, 137, 138, 139, 140, 141, 142, 143, 144, 145, 146, 147, 148, 149, 150, 151, 152, 153, 154, 155, 156, 157, 158, 159, 160, 161, 162, 163, 164, 165, 166, 167, 168, 169, 170, 171, 172, 173, 174, 175, 176, 177, 178, 179, 180, 181, 182, 183, 184, 185, 186, 187, 188, 189, 190, 191, 192, 193, 194, 195, 196, 197, 198, 199, 200, 201, 202, 203, 204, 205, 206, 207, 208, 209, 210, 211, 212, 213, 214, 215, 216, 217, 218, 219, 220, 221, 222, 223, 224, 225, 226, 227, 228, 229, 230, 231, 232, 233, 234, 235, 236, 237, 238, 239, 240, 241, 242, 243, 244, 245, 246, 247, 248, 249, 250, 251, 252, 253, 254, 255, 256, 257, 258, 259, 260, 261, 262, 263, 264, 265, 266, 267, 268, 269, 270, 271, 272, 273, 274, 275, 276, 277, 278, 279, 280, 281, 282, 283, 284, 285, 286, 287, 288, 289, 290, 291, 292, 293, 294, 295, 296, 297, 298, 299, 300, 301, 302, 303, 304, 305, 306, 307, 308, 309, 310, 311, 312, 313, 314, 315, 316, 317, 318, 319, 320, 321, 322, 323, 324, 325, 326, 327, 328, 329, 330, 331, 332, 333, 334, 335, 336, 337, 338, 339, 340, 341, 342, 343, 344, 345, 346, 347, 348, 349, 350, 351, 352, 353, 354, 355, 356, 357, 358, 359, 360, 361, 362, 363, 364, 365, 366, 367, 368, 369, 370, 371, 372, 373, 374, 375, 376, 377, 378, 379, 380, 381, 382, 383, 384, 385, 386, 387, 388, 389, 390, 391, 392, 393, 394, 395, 396, 397, 398, 399, 400, 401, 402, 403, 404, 405, 406, 407, 408, 409, 410, 411, 412, 413, 414, 415, 416, 417, 418, 419, 420, 421, 422, 423, 424, 425, 426, 427, 428, 429, 430, 431, 432, 433, 434, 435, 436, 437, 438, 439, 440, 441, 442, 443, 444, 445, 446, 447, 448, 449, 450, 451, 452, 453, 454, 455, 456, 457, 458, 459, 460, 461, 462, 463, 464, 465, 466, 467, 468, 469, 470, 471, 472, 473, 474, 475, 476, 477, 478, 479, 480, 481, 482, 483, 484, 485, 486, 487, 488, 489, 490, 491, 492, 493, 494, 495, 496, 497, 498, 499, 500, 501, 502, 503, 504, 505, 506, 507, 508, 509, 510, 511, 512, 513, 514, 515, 516, 517, 518, 519, 520, 521, 522, 523, 524, 525, 526, 527, 528, 529, 530, 531, 532, 533, 534, 535, 536, 537, 538, 539, 540, 541, 542, 543, 544, 545, 546, 547, 548, 549, 550, 551, 552, 553, 554, 555, 556, 557, 558, 559, 560, 561, 562, 563, 564, 565, 566, 567, 568, 569, 570, 571, 572, 573, 574, 575, 576, 577, 578, 579, 580, 581, 582, 583, 584, 585, 586, 587, 588, 589, 590, 591, 592, 593, 594, 595, 596, 597, 598, 599, 600, 601, 602, 603, 604, 605, 606, 607, 608, 609, 610, 611, 612, 613, 614, 615, 616, 617, 618, 619, 620, 621, 622, 623, 624, 625, 626, 627, 628, 629, 630, 631, 632, 633, 634, 635, 636, 637, 638, 639, 640, 641, 642, 643, 644, 645, 646, 647, 648, 649, 650, 651, 652, 653, 654, 655, 656, 657, 658, 659, 660, 661, 662, 663, 664, 665, 666, 667, 668, 669, 670, 671, 672, 673, 674, 675, 676, 677, 678, 679, 680, 681, 682, 683, 684, 685, 686, 687, 688, 689, 690, 691, 692, 693, 694, 695, 696, 697, 698, 699, 700, 701, 702, 703, 704, 705, 706, 707, 708, 709, 710, 711, 712, 713, 714, 715, 716, 717, 718, 719, 720, 721, 722, 723, 724, 725, 726, 727, 728, 729, 730, 731, 732, 733]\n",
            "['A-Bomb', 'Abe Sapien', 'Abin Sur', 'Abomination', 'Abraxas', 'Absorbing Man', 'Adam Monroe', 'Adam Strange', 'Agent 13', 'Agent Bob', 'Agent Zero', 'Air-Walker', 'Ajax', 'Alan Scott', 'Alex Mercer', 'Alex Woolsly', 'Alfred Pennyworth', 'Alien', 'Allan Quatermain', 'Amazo', 'Ammo', 'Ando Masahashi', 'Angel', 'Angel', 'Angel Dust', 'Angel Salvadore', 'Angela', 'Animal Man', 'Annihilus', 'Ant-Man', 'Ant-Man II', 'Anti-Monitor', 'Anti-Spawn', 'Anti-Venom', 'Apocalypse', 'Aquababy', 'Aqualad', 'Aquaman', 'Arachne', 'Archangel', 'Arclight', 'Ardina', 'Ares', 'Ariel', 'Armor', 'Arsenal', 'Astro Boy', 'Atlas', 'Atlas', 'Atom', 'Atom', 'Atom Girl', 'Atom II', 'Atom III', 'Atom IV', 'Aurora', 'Azazel', 'Azrael', 'Aztar', 'Bane', 'Banshee', 'Bantam', 'Batgirl', 'Batgirl', 'Batgirl III', 'Batgirl IV', 'Batgirl V', 'Batgirl VI', 'Batman', 'Batman', 'Batman II', 'Battlestar', 'Batwoman V', 'Beak', 'Beast', 'Beast Boy', 'Beetle', 'Ben 10', 'Beta Ray Bill', 'Beyonder', 'Big Barda', 'Big Daddy', 'Big Man', 'Bill Harken', 'Billy Kincaid', 'Binary', 'Bionic Woman', 'Bird-Brain', 'Bird-Man', 'Bird-Man II', 'Birdman', 'Bishop', 'Bizarro', 'Black Abbott', 'Black Adam', 'Black Bolt', 'Black Canary', 'Black Canary', 'Black Cat', 'Black Flash', 'Black Goliath', 'Black Knight III', 'Black Lightning', 'Black Mamba', 'Black Manta', 'Black Panther', 'Black Widow', 'Black Widow II', 'Blackout', 'Blackwing', 'Blackwulf', 'Blade', 'Blaquesmith', 'Bling!', 'Blink', 'Blizzard', 'Blizzard', 'Blizzard II', 'Blob', 'Bloodaxe', 'Bloodhawk', 'Bloodwraith', 'Blue Beetle', 'Blue Beetle', 'Blue Beetle II', 'Blue Beetle III', 'Boba Fett', 'Bolt', 'Bomb Queen', 'Boom-Boom', 'Boomer', 'Booster Gold', 'Box', 'Box III', 'Box IV', 'Brainiac', 'Brainiac 5', 'Brother Voodoo', 'Brundlefly', 'Buffy', 'Bullseye', 'Bumblebee', 'Bumbleboy', 'Bushido', 'Cable', 'Callisto', 'Cameron Hicks', 'Cannonball', 'Captain America', 'Captain Atom', 'Captain Britain', 'Captain Cold', 'Captain Epic', 'Captain Hindsight', 'Captain Mar-vell', 'Captain Marvel', 'Captain Marvel', 'Captain Marvel II', 'Captain Midnight', 'Captain Planet', 'Captain Universe', 'Carnage', 'Cat', 'Cat II', 'Catwoman', 'Cecilia Reyes', 'Century', 'Cerebra', 'Chamber', 'Chameleon', 'Changeling', 'Cheetah', 'Cheetah II', 'Cheetah III', 'Chromos', 'Chuck Norris', 'Citizen Steel', 'Claire Bennet', 'Clea', 'Cloak', 'Clock King', 'Cogliostro', 'Colin Wagner', 'Colossal Boy', 'Colossus', 'Copycat', 'Corsair', 'Cottonmouth', 'Crimson Crusader', 'Crimson Dynamo', 'Crystal', 'Curse', 'Cy-Gor', 'Cyborg', 'Cyborg Superman', 'Cyclops', 'Cypher', 'Dagger', 'Danny Cooper', 'Daphne Powell', 'Daredevil', 'Darkhawk', 'Darkman', 'Darkseid', 'Darkside', 'Darkstar', 'Darth Maul', 'Darth Vader', 'Dash', 'Data', 'Dazzler', 'Deadman', 'Deadpool', 'Deadshot', 'Deathlok', 'Deathstroke', 'Demogoblin', 'Destroyer', 'Diamondback', 'DL Hawkins', 'Doc Samson', 'Doctor Doom', 'Doctor Doom II', 'Doctor Fate', 'Doctor Octopus', 'Doctor Strange', 'Domino', 'Donatello', 'Donna Troy', 'Doomsday', 'Doppelganger', 'Dormammu', 'Dr Manhattan', 'Drax the Destroyer', 'Ego', 'Elastigirl', 'Electro', 'Elektra', 'Elle Bishop', 'Elongated Man', 'Emma Frost', 'Enchantress', 'Energy', 'ERG-1', 'Ethan Hunt', 'Etrigan', 'Evil Deadpool', 'Evilhawk', 'Exodus', 'Fabian Cortez', 'Falcon', 'Fallen One II', 'Faora', 'Feral', 'Fighting Spirit', 'Fin Fang Foom', 'Firebird', 'Firelord', 'Firestar', 'Firestorm', 'Firestorm', 'Fixer', 'Flash', 'Flash Gordon', 'Flash II', 'Flash III', 'Flash IV', 'Forge', 'Franklin Richards', 'Franklin Storm', 'Frenzy', 'Frigga', 'Galactus', 'Gambit', 'Gamora', 'Garbage Man', 'Gary Bell', 'General Zod', 'Genesis', 'Ghost Rider', 'Ghost Rider II', 'Giant-Man', 'Giant-Man II', 'Giganta', 'Gladiator', 'Goblin Queen', 'Godzilla', 'Gog', 'Goku', 'Goliath', 'Goliath', 'Goliath', 'Goliath IV', 'Gorilla Grodd', 'Granny Goodness', 'Gravity', 'Greedo', 'Green Arrow', 'Green Goblin', 'Green Goblin II', 'Green Goblin III', 'Green Goblin IV', 'Groot', 'Guardian', 'Guy Gardner', 'Hal Jordan', 'Han Solo', 'Hancock', 'Harley Quinn', 'Harry Potter', 'Havok', 'Hawk', 'Hawkeye', 'Hawkeye II', 'Hawkgirl', 'Hawkman', 'Hawkwoman', 'Hawkwoman II', 'Hawkwoman III', 'Heat Wave', 'Hela', 'Hellboy', 'Hellcat', 'Hellstorm', 'Hercules', 'Hiro Nakamura', 'Hit-Girl', 'Hobgoblin', 'Hollow', 'Hope Summers', 'Howard the Duck', 'Hulk', 'Human Torch', 'Huntress', 'Husk', 'Hybrid', 'Hydro-Man', 'Hyperion', 'Iceman', 'Impulse', 'Indiana Jones', 'Indigo', 'Ink', 'Invisible Woman', 'Iron Fist', 'Iron Man', 'Iron Monger', 'Isis', 'Jack Bauer', 'Jack of Hearts', 'Jack-Jack', 'James Bond', 'James T. Kirk', 'Jar Jar Binks', 'Jason Bourne', 'Jean Grey', 'Jean-Luc Picard', 'Jennifer Kale', 'Jesse Quick', 'Jessica Cruz', 'Jessica Jones', 'Jessica Sanders', 'Jigsaw', 'Jim Powell', 'JJ Powell', 'Johann Krauss', 'John Constantine', 'John Stewart', 'John Wraith', 'Joker', 'Jolt', 'Jubilee', 'Judge Dredd', 'Juggernaut', 'Junkpile', 'Justice', 'Jyn Erso', 'K-2SO', 'Kang', 'Karate Kid', 'Kathryn Janeway', 'Katniss Everdeen', 'Kevin 11', 'Kick-Ass', 'Kid Flash', 'Kid Flash II', 'Killer Croc', 'Killer Frost', 'Kilowog', 'King Kong', 'King Shark', 'Kingpin', 'Klaw', 'Kool-Aid Man', 'Kraven II', 'Kraven the Hunter', 'Krypto', 'Kyle Rayner', 'Kylo Ren', 'Lady Bullseye', 'Lady Deathstrike', 'Leader', 'Leech', 'Legion', 'Leonardo', 'Lex Luthor', 'Light Lass', 'Lightning Lad', 'Lightning Lord', 'Living Brain', 'Living Tribunal', 'Liz Sherman', 'Lizard', 'Lobo', 'Loki', 'Longshot', 'Luke Cage', 'Luke Campbell', 'Luke Skywalker', 'Luna', 'Lyja', 'Mach-IV', 'Machine Man', 'Magneto', 'Magog', 'Magus', 'Man of Miracles', 'Man-Bat', 'Man-Thing', 'Man-Wolf', 'Mandarin', 'Mantis', 'Martian Manhunter', 'Marvel Girl', 'Master Brood', 'Master Chief', 'Match', 'Matt Parkman', 'Maverick', 'Maxima', 'Maya Herrera', 'Medusa', 'Meltdown', 'Mephisto', 'Mera', 'Metallo', 'Metamorpho', 'Meteorite', 'Metron', 'Micah Sanders', 'Michelangelo', 'Micro Lad', 'Mimic', 'Minna Murray', 'Misfit', 'Miss Martian', 'Mister Fantastic', 'Mister Freeze', 'Mister Knife', 'Mister Mxyzptlk', 'Mister Sinister', 'Mister Zsasz', 'Mockingbird', 'MODOK', 'Mogo', 'Mohinder Suresh', 'Moloch', 'Molten Man', 'Monarch', 'Monica Dawson', 'Moon Knight', 'Moonstone', 'Morlun', 'Morph', 'Moses Magnum', 'Mr Immortal', 'Mr Incredible', 'Ms Marvel II', 'Multiple Man', 'Mysterio', 'Mystique', 'Namor', 'Namor', 'Namora', 'Namorita', 'Naruto Uzumaki', 'Nathan Petrelli', 'Nebula', 'Negasonic Teenage Warhead', 'Nick Fury', 'Nightcrawler', 'Nightwing', 'Niki Sanders', 'Nina Theroux', 'Nite Owl II', 'Northstar', 'Nova', 'Nova', 'Odin', 'Offspring', 'Omega Red', 'Omniscient', 'One Punch Man', 'One-Above-All', 'Onslaught', 'Oracle', 'Osiris', 'Overtkill', 'Ozymandias', 'Parademon', 'Paul Blart', 'Penance', 'Penance I', 'Penance II', 'Penguin', 'Peter Petrelli', 'Phantom', 'Phantom Girl', 'Phoenix', 'Plantman', 'Plastic Lad', 'Plastic Man', 'Plastique', 'Poison Ivy', 'Polaris', 'Power Girl', 'Power Man', 'Predator', 'Professor X', 'Professor Zoom', 'Proto-Goblin', 'Psylocke', 'Punisher', 'Purple Man', 'Pyro', 'Q', 'Quantum', 'Question', 'Quicksilver', 'Quill', \"Ra's Al Ghul\", 'Rachel Pirzad', 'Rambo', 'Raphael', 'Raven', 'Ray', 'Razor-Fist II', 'Red Arrow', 'Red Hood', 'Red Hulk', 'Red Mist', 'Red Robin', 'Red Skull', 'Red Tornado', 'Redeemer II', 'Redeemer III', 'Renata Soliz', 'Rey', 'Rhino', 'Rick Flag', 'Riddler', 'Rip Hunter', 'Ripcord', 'Robin', 'Robin II', 'Robin III', 'Robin V', 'Robin VI', 'Rocket Raccoon', 'Rogue', 'Ronin', 'Rorschach', 'Sabretooth', 'Sage', 'Sandman', 'Sasquatch', 'Sauron', 'Savage Dragon', 'Scarecrow', 'Scarlet Spider', 'Scarlet Spider II', 'Scarlet Witch', 'Scorpia', 'Scorpion', 'Sebastian Shaw', 'Sentry', 'Shadow King', 'Shadow Lass', 'Shadowcat', 'Shang-Chi', 'Shatterstar', 'She-Hulk', 'She-Thing', 'Shocker', 'Shriek', 'Shrinking Violet', 'Sif', 'Silk', 'Silk Spectre', 'Silk Spectre II', 'Silver Surfer', 'Silverclaw', 'Simon Baz', 'Sinestro', 'Siren', 'Siren II', 'Siryn', 'Skaar', 'Snake-Eyes', 'Snowbird', 'Sobek', 'Solomon Grundy', 'Songbird', 'Space Ghost', 'Spawn', 'Spectre', 'Speedball', 'Speedy', 'Speedy', 'Spider-Carnage', 'Spider-Girl', 'Spider-Gwen', 'Spider-Man', 'Spider-Man', 'Spider-Man', 'Spider-Woman', 'Spider-Woman II', 'Spider-Woman III', 'Spider-Woman IV', 'Spock', 'Spyke', 'Stacy X', 'Star-Lord', 'Stardust', 'Starfire', 'Stargirl', 'Static', 'Steel', 'Stephanie Powell', 'Steppenwolf', 'Storm', 'Stormtrooper', 'Sunspot', 'Superboy', 'Superboy-Prime', 'Supergirl', 'Superman', 'Swamp Thing', 'Swarm', 'Sylar', 'Synch', 'T-1000', 'T-800', 'T-850', 'T-X', 'Taskmaster', 'Tempest', 'Thanos', 'The Cape', 'The Comedian', 'Thing', 'Thor', 'Thor Girl', 'Thunderbird', 'Thunderbird II', 'Thunderbird III', 'Thunderstrike', 'Thundra', 'Tiger Shark', 'Tigra', 'Tinkerer', 'Titan', 'Toad', 'Toxin', 'Toxin', 'Tracy Strauss', 'Trickster', 'Trigon', 'Triplicate Girl', 'Triton', 'Two-Face', 'Ultragirl', 'Ultron', 'Utgard-Loki', 'Vagabond', 'Valerie Hart', 'Valkyrie', 'Vanisher', 'Vegeta', 'Venom', 'Venom II', 'Venom III', 'Venompool', 'Vertigo II', 'Vibe', 'Vindicator', 'Vindicator', 'Violator', 'Violet Parr', 'Vision', 'Vision II', 'Vixen', 'Vulcan', 'Vulture', 'Walrus', 'War Machine', 'Warbird', 'Warlock', 'Warp', 'Warpath', 'Wasp', 'Watcher', 'Weapon XI', 'White Canary', 'White Queen', 'Wildfire', 'Winter Soldier', 'Wiz Kid', 'Wolfsbane', 'Wolverine', 'Wonder Girl', 'Wonder Man', 'Wonder Woman', 'Wondra', 'Wyatt Wingfoot', 'X-23', 'X-Man', 'Yellow Claw', 'Yellowjacket', 'Yellowjacket II', 'Ymir', 'Yoda', 'Zatanna', 'Zoom']\n",
            "['Male', 'Male', 'Male', 'Male', 'Male', 'Male', 'Male', 'Male', 'Female', 'Male', 'Male', 'Male', 'Male', 'Male', 'Male', 'Male', 'Male', 'Male', 'Male', 'Male', 'Male', 'Male', 'Male', 'Male', 'Female', 'Female', 'Female', 'Male', 'Male', 'Male', 'Male', 'Male', 'Male', 'Male', 'Male', 'Male', 'Male', 'Male', 'Female', 'Male', 'Female', 'Female', 'Male', 'Female', 'Female', 'Male', 'Male', 'Male', 'Male', 'Male', 'Male', 'Female', 'Male', 'Male', 'Male', 'Female', 'Male', 'Male', 'Male', 'Male', 'Male', 'Male', 'Female', 'Female', 'Female', 'Female', 'Female', 'Female', 'Male', 'Male', 'Male', 'Male', 'Female', 'Male', 'Male', 'Male', 'Male', 'Male', 'Male', 'Male', 'Female', 'Male', 'Male', 'Male', 'Male', 'Female', 'Female', '-', 'Male', 'Male', 'Male', 'Male', 'Male', 'Male', 'Male', 'Male', 'Female', 'Female', 'Female', 'Male', 'Male', 'Male', 'Male', 'Female', 'Male', 'Male', 'Female', 'Female', 'Male', 'Male', 'Male', 'Male', '-', 'Female', 'Female', 'Male', 'Male', 'Male', 'Male', 'Female', 'Male', 'Male', 'Male', 'Male', 'Male', 'Male', 'Male', 'Male', 'Female', 'Female', 'Female', 'Male', 'Male', '-', '-', 'Male', 'Male', 'Male', 'Male', 'Female', 'Male', 'Female', 'Male', 'Male', 'Male', 'Female', 'Male', 'Male', 'Male', 'Male', 'Male', 'Male', 'Male', 'Male', 'Male', 'Female', 'Male', 'Male', 'Male', 'Male', '-', 'Male', 'Female', 'Female', 'Female', '-', 'Male', 'Female', 'Male', 'Male', 'Male', 'Female', 'Female', 'Female', 'Male', 'Male', 'Male', 'Female', '-', 'Male', 'Male', 'Male', 'Male', 'Male', 'Male', 'Female', 'Male', 'Male', 'Male', 'Male', 'Female', 'Male', 'Male', 'Male', 'Male', 'Male', '-', 'Female', 'Male', 'Female', 'Male', 'Male', 'Male', 'Male', '-', 'Female', 'Male', 'Male', 'Male', 'Male', 'Female', 'Male', 'Male', 'Male', 'Male', 'Male', 'Male', 'Male', 'Male', 'Male', 'Male', 'Male', 'Male', 'Male', 'Male', 'Male', 'Female', 'Male', 'Female', 'Male', 'Male', 'Male', 'Male', 'Male', '-', 'Female', 'Male', 'Female', 'Female', 'Male', 'Female', 'Female', 'Female', 'Male', 'Male', 'Male', 'Male', 'Male', 'Male', '-', 'Male', 'Male', 'Female', '-', 'Female', 'Male', 'Female', '-', 'Female', 'Male', 'Male', '-', 'Male', 'Male', 'Male', 'Male', 'Male', '-', 'Male', '-', 'Female', 'Female', 'Male', 'Male', 'Female', 'Male', 'Male', 'Male', 'Male', 'Male', '-', 'Male', 'Male', 'Female', 'Male', 'Female', '-', 'Male', 'Male', 'Male', 'Male', 'Male', 'Male', 'Male', 'Female', 'Male', 'Male', 'Male', 'Male', 'Male', 'Male', 'Male', 'Male', 'Male', 'Male', 'Male', 'Male', 'Male', 'Female', 'Male', 'Male', 'Male', 'Male', 'Female', 'Female', 'Male', 'Female', 'Female', 'Female', 'Male', 'Female', 'Male', 'Female', 'Male', 'Male', 'Male', 'Female', 'Male', 'Female', 'Female', 'Male', 'Male', 'Male', 'Female', 'Female', 'Male', 'Male', 'Male', 'Male', 'Male', 'Male', 'Female', 'Male', 'Female', 'Male', 'Male', 'Male', 'Female', 'Male', 'Male', 'Male', 'Male', 'Male', 'Male', 'Male', 'Female', 'Male', 'Female', 'Female', 'Female', 'Female', 'Female', 'Male', 'Male', 'Male', 'Male', 'Male', 'Male', 'Male', 'Male', 'Female', 'Female', 'Male', 'Male', 'Male', 'Male', 'Female', 'Male', 'Male', 'Male', 'Female', 'Female', 'Male', 'Male', 'Male', 'Male', 'Male', 'Female', 'Male', 'Male', 'Male', 'Male', 'Male', 'Male', 'Male', 'Male', 'Male', 'Male', 'Male', 'Female', 'Female', 'Male', 'Male', 'Male', 'Male', 'Male', 'Female', 'Male', 'Male', '-', '-', 'Female', 'Male', 'Male', 'Male', 'Male', 'Male', 'Male', 'Male', 'Female', 'Female', 'Male', '-', 'Male', 'Male', 'Male', '-', 'Male', 'Male', 'Male', 'Male', 'Female', 'Male', 'Female', 'Male', 'Male', 'Male', 'Male', 'Male', 'Female', 'Female', 'Female', 'Female', 'Male', 'Female', 'Male', 'Male', 'Female', 'Male', 'Male', 'Male', 'Male', 'Male', 'Female', 'Female', 'Female', 'Male', 'Male', 'Male', 'Male', 'Male', 'Male', 'Female', 'Male', 'Male', 'Male', 'Male', 'Male', 'Male', 'Female', 'Male', 'Female', 'Male', 'Male', 'Male', 'Male', 'Male', 'Female', 'Male', 'Male', 'Female', 'Male', 'Male', 'Female', 'Female', 'Male', 'Male', 'Female', 'Female', 'Male', 'Male', 'Male', 'Female', 'Female', 'Male', 'Male', 'Male', 'Female', 'Male', 'Male', 'Male', 'Male', 'Male', '-', 'Male', 'Female', 'Male', 'Male', 'Male', '-', 'Male', '-', 'Female', 'Male', 'Male', 'Male', 'Male', 'Female', 'Female', 'Male', 'Male', 'Male', 'Female', 'Female', 'Female', 'Female', 'Male', 'Male', 'Male', 'Male', 'Male', 'Female', 'Male', 'Male', 'Male', 'Male', 'Male', 'Male', 'Male', 'Male', 'Male', 'Female', 'Male', 'Male', 'Female', 'Male', 'Male', 'Male', 'Male', 'Male', 'Male', 'Male', 'Male', 'Male', 'Male', 'Male', 'Female', 'Female', 'Male', 'Male', 'Male', 'Male', 'Female', 'Male', 'Male', 'Male', 'Male', 'Female', 'Male', 'Female', 'Male', 'Male', 'Male', 'Female', 'Male', 'Male', 'Male', 'Male', 'Male', 'Male', 'Male', 'Female', 'Female', 'Male', 'Male', 'Male', '-', 'Female', 'Female', 'Male', 'Male', 'Female', 'Female', 'Male', 'Female', 'Female', 'Female', 'Female', 'Female', 'Female', 'Male', 'Female', 'Male', 'Male', 'Female', 'Female', 'Female', 'Male', 'Male', 'Female', 'Male', 'Male', 'Female', 'Male', 'Male', 'Male', 'Male', 'Male', 'Female', 'Male', 'Female', 'Female', 'Male', '-', 'Male', 'Female', 'Female', 'Female', 'Female', 'Male', 'Male', 'Female', 'Male', 'Male', 'Female', 'Female', 'Male', 'Male', 'Female', 'Male', 'Female', 'Male', 'Male', 'Male', 'Male', 'Female', 'Male', 'Male', 'Male', 'Male', 'Male', 'Male', 'Male', 'Male', 'Female', 'Male', 'Female', 'Male', 'Male', 'Male', 'Male', 'Male', 'Female', 'Male', 'Male', 'Male', 'Male', 'Female', 'Male', 'Female', 'Male', 'Male', 'Male', 'Male', 'Male', 'Female', 'Male', 'Male', 'Female', 'Male', 'Male', 'Female', 'Male', 'Male', 'Female', 'Female', 'Female', 'Male', 'Male', 'Male', 'Male', 'Male', 'Male', 'Female', 'Male', 'Female', 'Male', 'Male', 'Female', 'Male', '-', 'Female', 'Male', 'Male', 'Male', 'Male', 'Female', 'Male', 'Male', 'Male', 'Female', 'Male', 'Male', 'Female', 'Female', 'Male', 'Male', '-', 'Female', 'Male', 'Female', 'Male', 'Female', 'Female', 'Male', 'Female', 'Male', 'Male', 'Male', 'Female', 'Male', 'Male', 'Female', 'Male']\n",
            "['yellow', 'blue', 'blue', 'green', 'blue', 'blue', 'blue', 'blue', 'blue', 'brown', '-', 'blue', 'brown', 'blue', '-', '-', 'blue', '-', '-', 'red', 'brown', '-', 'blue', '-', 'yellow', 'brown', '-', 'blue', 'green', 'blue', 'blue', 'yellow', '-', 'blue', 'red', 'blue', 'blue', 'blue', 'blue', 'blue', 'violet', 'white', 'brown', 'purple', 'black', '-', 'brown', 'brown', 'blue', 'blue', '-', 'black', 'brown', '-', 'brown', 'blue', 'yellow', 'brown', '-', '-', 'green', 'brown', '-', 'green', '-', 'green', '-', 'blue', 'blue', 'blue', 'blue', 'brown', 'green', 'black', 'blue', 'green', '-', '-', '-', '-', 'blue', '-', 'blue', '-', '-', 'blue', 'blue', '-', '-', '-', '-', 'brown', 'black', 'red', 'brown', 'blue', 'blue', 'blue', 'green', '-', '-', 'brown', 'brown', 'green', 'black', 'brown', 'green', 'blue', 'red', 'blue', 'red', 'brown', 'black', '-', 'green', '-', '-', 'brown', 'brown', 'blue', 'black', 'white', 'blue', '-', 'blue', 'brown', 'brown', '-', '-', 'blue', '-', 'blue', '-', 'blue', 'brown', 'green', 'green', 'brown', '-', 'green', 'blue', 'brown', '-', '-', 'blue', 'blue', '-', 'blue', 'blue', 'blue', 'blue', 'brown', 'blue', '-', 'blue', 'blue', 'blue', 'blue', '-', 'red', '-', 'green', 'blue', '-', 'green', 'brown', 'white', '-', 'brown', '-', 'brown', 'green', 'green', 'brown', 'brown', '-', 'green', 'blue', '-', 'brown', 'blue', '-', 'grey', '-', 'silver', 'red', 'brown', 'brown', 'blue', 'brown', 'green', '-', '-', 'brown', 'blue', 'brown', 'blue', 'blue', 'brown', '-', 'blue', 'brown', '-', 'red', '-', 'brown', 'yellow / red', 'yellow', 'blue', 'yellow', 'blue', 'blue', 'brown', 'brown', 'brown', 'blue', 'red', '-', 'brown', '-', 'blue', 'brown', 'brown', 'blue', 'brown', 'grey', 'blue', 'green', 'blue', 'red', 'white', 'yellow', 'white', 'red', '-', 'brown', 'blue', 'blue', 'blue', 'blue', 'blue', 'blue', '-', '-', 'brown', 'red', 'white', 'red', 'blue', 'blue', 'brown', 'black', '-', 'yellow (without irises)', '-', 'red', 'brown', 'white', 'green', 'brown', 'blue', 'red', 'blue', '-', 'blue', '-', 'yellow', 'brown', 'blue', 'blue', 'brown', 'blue', 'black', 'red', 'yellow', '-', '-', 'black', 'blue', 'red', '-', '-', '-', 'green', 'blue', 'green', '-', '-', '-', '-', '-', '-', 'brown', 'yellow', 'blue', 'blue', 'purple', 'green', 'blue', 'blue', '-', 'green', 'yellow', 'brown', 'blue', 'brown', 'brown', 'brown', 'blue', 'green', 'blue', 'red', 'blue', 'blue', 'green', 'blue', 'green', '-', 'blue', 'blue', 'green', 'gold', 'blue', 'red', 'blue', '-', '-', 'blue', 'blue', 'green', 'brown', 'green', 'blue', 'blue', 'blue', 'brown', 'brown', 'blue', 'brown', 'yellow', '-', '-', 'blue', 'blue', 'blue', 'blue', 'blue', '-', '-', 'blue / white', 'blue', 'blue', 'hazel', 'yellow', '-', 'green', '-', 'blue', '-', 'green', 'brown', '-', 'blue', '-', '-', '-', 'blue', 'green', 'brown', 'green', 'blue', 'red', '-', 'blue', '-', 'hazel', 'green', 'white', 'brown', 'brown', '-', '-', '-', 'blue', 'green', '-', 'red', 'blue', 'red', 'yellow', 'black', 'blue', 'red', 'black', 'brown', 'brown', 'blue', 'green', '-', '-', 'brown', 'green', '-', 'green / blue', 'blue', 'green', 'blue', 'blue', 'blue', 'yellow', 'blue', '-', 'red', 'red', 'green', 'blue', 'brown', '-', 'blue', '-', 'green', 'brown', 'red', 'grey', 'blue', 'black', 'blue', 'brown', 'red', 'brown', 'blue', 'green', 'red', 'green', 'blue', 'brown', 'black', '-', 'blue', 'brown', '-', 'green', 'blue', 'white', 'blue', 'green', 'black', '-', 'blue', 'brown', 'blue', 'grey', 'brown', '-', 'blue', 'red', 'brown', '-', 'blue', '-', 'red', 'blue', 'blue', 'white', '-', '-', '-', 'gold', 'blue', '-', 'brown', 'blue', 'white / red', 'white', 'brown', 'blue', 'blue', 'blue', 'blue', 'brown', 'yellow (without irises)', '-', 'grey', 'blue', 'blue', '-', 'brown', 'blue', 'black', 'brown', 'yellow', 'blue', 'blue', '-', '-', 'blue', 'brown', 'white', 'blue', '-', 'red', 'brown', '-', '-', 'red', 'blue', 'brown', '-', 'blue', '-', '-', '-', '-', 'blue', 'blue', '-', '-', 'blue', 'green', 'green', '-', 'blue', 'blue', 'green', 'green', 'blue', '-', '-', 'blue', 'blue', 'green', 'blue', 'blue', 'purple', 'blue', '-', '-', 'blue', 'blue', 'brown', 'green', '-', 'brown', '-', 'indigo', 'green', 'blue', 'green', 'blue', 'yellow', '-', 'blue', 'blue', 'green', '-', '-', '-', 'hazel', 'brown', 'blue', '-', 'blue', 'green', 'blue', 'blue', 'blue', 'blue', 'green', 'brown', 'green', 'blue', 'blue', 'amber', 'blue', 'brown', 'red', '-', '-', 'blue', 'blue', 'brown', 'blue', 'green', 'brown', '-', 'blue', 'red', 'black', 'hazel', 'brown', 'brown', 'green', 'blue', 'brown', 'yellow / blue', '-', 'blue', 'brown', '-', '-', 'white', 'brown', 'brown', 'black', 'blue', 'black', 'blue', 'green', '-', 'white', 'white', 'black', 'green', '-', 'brown', 'white', '-', '-', 'green', '-', 'blue', 'blue', 'hazel', 'red', 'brown', 'green', '-', 'brown', 'red', 'brown', 'brown', '-', 'blue', '-', 'green', 'blue', 'brown', 'brown', '-', 'red', 'blue', '-', 'brown', 'blue', 'blue', 'blue', 'blue', 'red', 'yellow', '-', 'brown', '-', 'red', 'red', '-', 'brown', 'brown', 'red', '-', 'brown', 'blue', 'blue', 'blue', 'brown', '-', 'brown', 'blue', 'green', 'grey', 'green', 'brown', '-', 'black', 'blue', 'black', '-', 'blue', 'yellow', 'purple', 'green', '-', 'blue', 'red', 'blue', 'blue', 'hazel', 'blue', 'green', '-', 'blue', 'brown', 'brown', '-', 'blue', 'brown', 'green', '-', '-', 'violet', 'gold', 'red', 'amber', 'black', 'brown', 'blue', 'brown', 'blue', 'red', 'brown', 'brown', 'blue', '-', '-', 'brown', 'blue', '-', 'brown', 'brown', 'green', 'blue', 'blue', 'red', 'blue', '-', 'brown', 'green', 'blue', 'blue', 'blue', 'blue', 'white', 'brown', 'blue', 'red']\n",
            "['Human', 'Icthyo Sapien', 'Ungaran', 'Human / Radiation', 'Cosmic Entity', 'Human', '-', 'Human', '-', 'Human', '-', '-', 'Cyborg', '-', 'Human', '-', 'Human', 'Xenomorph XX121', '-', 'Android', 'Human', '-', '-', 'Vampire', 'Mutant', '-', '-', 'Human', '-', 'Human', 'Human', 'God / Eternal', '-', 'Symbiote', 'Mutant', '-', 'Atlantean', 'Atlantean', 'Human', 'Mutant', '-', 'Alien', '-', '-', '-', 'Human', '-', 'Mutant', 'God / Eternal', '-', '-', '-', 'Human', '-', '-', 'Mutant', 'Neyaphem', 'Human', '-', 'Human', 'Human', '-', '-', 'Human', '-', 'Human', '-', '-', 'Human', 'Human', 'Human', '-', 'Human', '-', 'Mutant', 'Human', '-', '-', '-', 'God / Eternal', 'New God', '-', '-', 'Alpha', '-', '-', 'Cyborg', '-', 'Human', 'Human', 'God / Eternal', 'Mutant', 'Bizarro', '-', '-', 'Inhuman', 'Human', 'Metahuman', 'Human', 'God / Eternal', '-', 'Human', '-', '-', 'Human', 'Human', 'Human', '-', 'Demon', '-', 'Alien', 'Vampire', '-', '-', 'Mutant', '-', '-', '-', '-', 'Human', 'Mutant', '-', '-', '-', '-', 'Human', 'Human / Clone', '-', '-', 'Mutant', '-', 'Human', '-', '-', '-', 'Android', '-', 'Human', 'Mutant', 'Human', 'Human', 'Human', '-', 'Human', 'Mutant', '-', 'Alpha', '-', 'Human', 'Human / Radiation', 'Human', 'Human', '-', 'Human', '-', 'Human-Kree', 'Human', 'Human', 'Human', 'God / Eternal', 'God / Eternal', 'Symbiote', '-', '-', 'Human', '-', 'Alien', 'Mutant', 'Mutant', '-', '-', 'Human', 'Human', 'Human', '-', '-', 'Human', '-', '-', '-', 'Human', '-', '-', '-', 'Mutant', 'Mutant', '-', 'Human', '-', '-', 'Inhuman', '-', '-', 'Cyborg', 'Cyborg', 'Mutant', '-', '-', '-', '-', 'Human', 'Human', '-', 'New God', '-', 'Mutant', 'Dathomirian Zabrak', 'Cyborg', 'Human', 'Android', 'Mutant', 'Human', 'Mutant', 'Human', 'Cyborg', 'Human', 'Demon', '-', 'Human', '-', 'Human / Radiation', 'Human', '-', 'Human', 'Human', 'Human', 'Human', 'Mutant', 'Amazon', 'Alien', '-', '-', 'Human / Cosmic', 'Human / Altered', '-', 'Human', 'Human', 'Human', '-', '-', '-', 'Human', '-', '-', 'Human', 'Demon', 'Mutant', 'Alien', 'Mutant', '-', 'Human', '-', 'Kryptonian', '-', '-', 'Kakarantharaian', '-', '-', 'Mutant', '-', 'Human', '-', 'Human', '-', 'Human', 'Human', 'Human', '-', 'Mutant', '-', '-', '-', 'Cosmic Entity', 'Mutant', 'Zen-Whoberian', 'Mutant', 'Alpha', 'Kryptonian', '-', 'Demon', '-', 'Human', '-', '-', 'Strontian', '-', 'Kaiju', '-', 'Saiyan', '-', 'Human', 'Human', '-', 'Gorilla', '-', 'Human', 'Rodian', 'Human', 'Human', '-', '-', '-', 'Flora Colossus', 'Human', 'Human-Vuldarian', 'Human', 'Human', 'Human', 'Human', 'Human', 'Mutant', '-', 'Human', 'Human', '-', '-', '-', '-', '-', 'Human', 'Asgardian', 'Demon', 'Human', '-', 'Demi-God', '-', 'Human', '-', '-', '-', '-', 'Human / Radiation', 'Human / Radiation', '-', 'Mutant', 'Symbiote', '-', 'Eternal', 'Mutant', 'Human', 'Human', 'Alien', 'Mutant', 'Human / Radiation', 'Human', 'Human', '-', '-', '-', 'Human', 'Human', 'Human', 'Human', 'Gungan', 'Human', 'Mutant', 'Human', '-', 'Human', 'Human', 'Human', '-', '-', '-', '-', '-', 'Human', 'Human', '-', 'Human', '-', 'Mutant', 'Human', 'Human', 'Mutant', 'Human', 'Human', 'Android', '-', 'Human', 'Human', 'Human', 'Human', 'Human', 'Human', '-', 'Metahuman', 'Human', 'Bolovaxian', 'Animal', 'Animal', 'Human', 'Human', '-', 'Human', 'Human', 'Kryptonian', 'Human', 'Human', '-', 'Cyborg', '-', '-', 'Mutant', 'Mutant', 'Human', '-', '-', '-', '-', 'Cosmic Entity', '-', 'Human', 'Czarnian', 'Asgardian', 'Human', 'Human', '-', 'Human', 'Human', '-', '-', '-', 'Mutant', '-', '-', 'God / Eternal', 'Human', '-', '-', 'Human', 'Human-Kree', 'Martian', '-', '-', 'Human / Altered', '-', '-', '-', '-', '-', 'Inhuman', '-', '-', 'Atlantean', 'Android', '-', '-', '-', '-', 'Mutant', '-', '-', '-', '-', '-', 'Human / Radiation', 'Human', 'Spartoi', 'God / Eternal', 'Human / Altered', 'Human', 'Human', 'Cyborg', 'Planet', '-', '-', '-', '-', '-', 'Human', '-', '-', '-', '-', 'Mutant', 'Human', '-', '-', 'Human', 'Mutant', '-', 'Atlantean', '-', '-', 'Human', '-', 'Luphomoid', 'Mutant', 'Human', '-', 'Human', '-', 'Alpha', '-', '-', 'Human', 'Human / Cosmic', 'God / Eternal', '-', '-', '-', 'Human', 'Cosmic Entity', 'Mutant', 'Human', '-', '-', 'Human', 'Parademon', 'Human', '-', '-', '-', 'Human', '-', '-', '-', 'Mutant', 'Mutant', '-', 'Human', '-', 'Human', 'Mutant', 'Kryptonian', 'Mutant', 'Yautja', 'Mutant', 'Human', '-', 'Mutant', 'Human', 'Human', '-', 'God / Eternal', '-', 'Human', 'Mutant', '-', 'Human', 'Alpha', 'Human', 'Mutant', 'Human', 'Human', '-', 'Human', 'Human', 'Human / Radiation', '-', 'Human', '-', 'Android', '-', '-', '-', 'Human', 'Human / Radiation', '-', '-', 'Human', '-', 'Human', 'Human', 'Human', 'Human', 'Human', 'Animal', '-', 'Human', 'Human', 'Mutant', '-', 'Human', '-', 'Maiar', '-', 'Human', 'Human', 'Clone', 'Mutant', '-', 'Human', 'Mutant', 'Mutant', '-', 'Talokite', 'Mutant', 'Human', '-', 'Human', 'Human / Radiation', 'Human', '-', '-', 'Asgardian', 'Human', '-', '-', 'Alien', '-', 'Human', 'Korugaran', 'Atlantean', '-', '-', '-', 'Animal', '-', '-', 'Zombie', '-', 'Human', 'Demon', 'God / Eternal', '-', 'Human', 'Human', 'Symbiote', 'Human', 'Human', 'Human', 'Human', 'Human', 'Human', '-', '-', '-', 'Human-Vulcan', 'Mutant', '-', 'Human-Spartoi', '-', 'Tamaranean', 'Human', 'Mutant', '-', '-', 'New God', 'Mutant', 'Human', 'Mutant', '-', 'Kryptonian', 'Kryptonian', 'Kryptonian', 'God / Eternal', 'Mutant', '-', '-', 'Android', 'Cyborg', 'Cyborg', 'Cyborg', 'Human', '-', 'Eternal', '-', 'Human', 'Human / Radiation', 'Asgardian', 'Asgardian', '-', '-', '-', '-', '-', 'Human', '-', '-', '-', 'Mutant', 'Symbiote', 'Symbiote', '-', 'Human', 'God / Eternal', '-', 'Inhuman', '-', '-', 'Android', 'Frost Giant', '-', '-', '-', '-', 'Saiyan', 'Symbiote', '-', 'Symbiote', 'Symbiote', '-', 'Human', 'Human', '-', '-', 'Human', 'Android', '-', 'Human', '-', 'Human', 'Human', 'Human', '-', '-', '-', 'Mutant', 'Human', '-', '-', 'Human', '-', '-', 'Human', '-', '-', 'Mutant', 'Demi-God', '-', 'Amazon', '-', '-', 'Mutant / Clone', '-', '-', 'Human', 'Human', 'Frost Giant', \"Yoda's species\", 'Human', '-']\n",
            "['No Hair', 'No Hair', 'No Hair', 'No Hair', 'Black', 'No Hair', 'Blond', 'Blond', 'Blond', 'Brown', '-', 'White', 'Black', 'Blond', '-', '-', 'Black', 'No Hair', '-', '-', 'Black', '-', 'Blond', '-', 'Black', 'Black', '-', 'Blond', 'No Hair', 'Blond', 'Blond', 'No Hair', '-', 'Blond', 'Black', 'Blond', 'Black', 'Blond', 'Blond', 'Blond', 'Purple', 'Orange', 'Brown', 'Pink', 'Black', '-', 'Black', 'Red', 'Brown', 'Red', '-', 'Black', 'Auburn', 'Red', 'Black', 'Black', 'Black', 'Black', '-', '-', 'Strawberry Blond', 'Black', '-', 'Red', '-', 'Black', '-', 'Blond', 'black', 'Black', 'Black', 'Black', 'Red', 'White', 'Blue', 'Green', '-', '-', 'No Hair', '-', 'Black', '-', 'Brown', '-', '-', 'Blond', 'Black', '-', '-', '-', '-', 'No Hair', 'Black', 'Black', 'Black', 'Black', 'Blond', 'Blond', 'Blond', '-', '-', 'Brown', 'No Hair', 'Black', 'No Hair', 'Black', 'Auburn', 'Blond', 'White', 'Black', 'White', 'Black', 'No Hair', '-', 'Magenta', '-', 'Brown', 'Brown', 'Brown', 'Brown', 'No Hair', 'No Hair', 'Brown', '-', 'Brown', 'Black', 'Black', '-', '-', 'Blond', '-', 'Blond', '-', 'Blond', 'Brown / Black', 'No Hair', 'Blond', 'Brown / White', '-', 'Blond', 'blond', 'Black', '-', '-', 'White', 'Black', '-', 'Blond', 'blond', 'Silver', 'Blond', 'Brown', 'Brown', 'Black', 'Blond', 'Blond', 'Black', 'Black', '-', 'Green', '-', 'Red', 'Blond', '-', 'Black', 'Brown', 'White', '-', 'Brown', '-', 'Black', 'Blond', 'Brown', 'Brown', 'Red / Grey', '-', 'Red', 'Blond', 'White', 'black', 'Black', '-', 'Brown', '-', 'Black', 'White', 'Brown', 'Black', 'Strawberry Blond', 'No Hair', 'Red', '-', '-', 'Black', 'Black', 'Brown', 'Blond', 'Blond', 'Blond', '-', 'Red', 'Brown', '-', 'No Hair', '-', 'Blond', '-', 'No Hair', 'Blond', 'Brown', 'Blond', 'Black', 'No Hair', 'Brown', 'Grey', 'White', 'No Hair', '-', 'Black', '-', 'Green', 'Brown', 'Brown', 'Blond', 'Brown', 'Black', 'Black', 'No Hair', 'Black', 'White', 'No Hair', 'No Hair', 'No Hair', 'No Hair', '-', 'Brown', 'Auburn', 'Black', 'Blond', 'Red', 'Blond', 'Blond', '-', '-', 'Brown', 'No Hair', 'Red', 'Black', 'Black', 'Brown', 'Black', 'Blue', '-', 'Orange / White', 'Red', 'No Hair', 'Black', 'Yellow', 'Red', 'Black', 'Auburn', 'No Hair', 'Brown / White', '-', 'Blond', '-', 'Auburn', 'Black', 'Blond', 'Grey', 'Black', 'White', 'Black', 'Brown', 'Black', '-', '-', 'Black', 'Blond', 'No Hair', '-', '-', '-', 'Red', 'Blue', 'Red', '-', '-', '-', '-', '-', '-', 'Black', 'Black', 'White', 'Brown', '-', 'Blond', 'Auburn', 'Auburn', '-', 'Brown', '-', 'Black', 'Red', 'Brown', 'Brown', 'Black', 'Blond', 'Black', 'Blond', 'Brown', 'Blond', 'Black', 'Red', 'Brown', 'Red', '-', 'Red', 'No Hair', 'Black', 'Black', 'Red', 'Red', 'Brown', '-', '-', 'Grey', 'Red', 'Red', 'Yellow', 'Green', 'Blond', 'Black', 'Blond', 'Black', 'Brown', 'Red', 'Brown', 'Auburn', '-', 'Purple', 'No Hair', 'Blond', 'Blond', 'Black', 'No Hair', '-', '-', 'Brown', 'Brown', 'Blond', 'Brown', '-', '-', 'Red', '-', 'Blond', '-', 'Brown', 'Brown', '-', 'Black', '-', '-', '-', 'Blond', 'Black', 'Black', 'Green', 'Black', 'Black', '-', 'Red', '-', 'Brown', 'Brown', 'No Hair', 'Brown', 'Brown', '-', '-', 'Black', 'Blond', 'Red', '-', 'No Hair', 'Blond', 'No Hair', 'Black', 'No Hair', 'No Hair', 'No Hair', 'No Hair', 'Black', 'Black', 'White', 'Black', '-', 'Black', 'Black', 'No Hair', '-', 'Black', 'No Hair', 'No Hair', 'Red', 'Red', 'Red', '-', 'No Hair', '-', 'No Hair', 'Black', 'Black', 'Blond', 'Black', '-', 'Blond', '-', 'Green', 'Brown', 'Black', 'White', 'Blond', '-', 'Silver', 'Brown', 'No Hair', 'Auburn', 'White', 'Black', 'No Hair', 'Red', 'Black', 'Brown', 'Black', '-', 'Black', 'Red', '-', 'Red', 'Blond', 'Black', 'Red', 'Brown', 'No Hair', '-', 'Black', 'Black', '-', 'Brown', 'Brown', '-', 'Red', 'Red', 'Brown', '-', 'Brown', '-', 'Black', 'Blond', 'Blond', 'Brown', '-', '-', '-', 'Gold', 'White', '-', 'Brown', 'Blond', 'Black', 'No Hair', 'Black', 'Blond', 'Blond', 'Red', 'Brown', 'No Hair', 'Red / Orange', '-', 'Black', 'Blond', 'Blond', '-', '-', 'No Hair', 'Black', 'Brown / White', 'Indigo', 'Black', 'Blond', '-', '-', 'Black', 'Brown', 'Red', 'White', '-', 'Blond', 'Black', 'No Hair', '-', 'No Hair', 'Red', 'Brown', '-', 'Blond', '-', '-', '-', '-', 'Blond', 'Black', '-', '-', 'Black', 'Red', 'Grey', '-', 'Black', 'Red', 'Red', 'Green', 'blond', '-', '-', 'No Hair', 'Strawberry Blond', 'Blond', 'Purple', 'Black', 'Purple', 'Blond', '-', '-', 'Blond', 'Silver', 'Brown', 'Grey', '-', 'Black', 'No Hair', 'Black', 'Red', 'No Hair', 'Red', 'Black', 'Black', '-', 'Black', 'No Hair', 'No Hair', '-', '-', '-', 'Brown', 'Brown', 'Brown', '-', 'Blond', 'Black', 'Black', 'Red', 'Black', 'Black', 'Red', 'Brown', 'Brown / White', 'Blond', 'Red', 'Blond', 'Black', 'Brown', 'Orange', '-', '-', 'Brown', 'Blond', 'Brown', 'Brown', 'Red', 'Brown', '-', 'Blond', '-', 'Black', 'Brown', 'Black', 'Red', 'Green', 'No Hair', 'Brown', 'Black', '-', 'Black', 'Black', '-', '-', 'No Hair', 'Black', 'Black', 'Black', 'Purple', '-', 'Strawberry Blond', 'Black', '-', 'Blond', 'No Hair', 'White', 'Red / White', '-', 'Black', 'No Hair', '-', '-', 'Brown', '-', 'Brown', 'Blond', 'Brown', 'Brown', 'Black', 'Black', '-', 'Brown', 'White', 'Black', 'Blond', '-', 'Blond', '-', 'Auburn', 'Blond', 'Black', 'No Hair', 'Blond', 'Black', 'White', '-', 'black', 'Black', 'Black / Blue', 'Blond', 'Black', 'No Hair', 'No Hair', '-', 'Black', '-', '-', '-', '-', 'Brown', 'Black', 'No Hair', '-', 'Black', 'No Hair', 'Blond', 'Blond', 'Black', '-', 'Black', 'Blond', 'Red', 'No Hair', 'Auburn', 'White', '-', 'Brown', 'Brown', 'Blond', '-', 'Blond', 'Black', 'Brown', 'No Hair', '-', 'Blond', '-', 'White', 'Strawberry Blond', 'Black', 'Blond', 'No Hair', 'Black', 'Strawberry Blond', 'Black', 'Brown', '-', 'Silver', 'Black', 'Red', '-', '-', 'Black', 'No Hair', 'No Hair', 'Black', 'Black', 'No Hair', 'Black', 'Brown', 'Blond', 'Blond', 'Black', 'Black', 'Auburn', '-', '-', 'Black', 'Blond', '-', 'Brown', 'Black', 'Auburn', 'Black', 'Blond', 'Black', 'Black', '-', 'Black', 'Black', 'Brown', 'No Hair', 'Blond', 'Strawberry Blond', 'No Hair', 'White', 'Black', 'Brown']\n",
            "[203.0, 191.0, 185.0, 203.0, -99.0, 193.0, -99.0, 185.0, 173.0, 178.0, 191.0, 188.0, 193.0, 180.0, -99.0, -99.0, 178.0, 244.0, -99.0, 257.0, 188.0, -99.0, 183.0, -99.0, 165.0, 163.0, -99.0, 183.0, 180.0, 211.0, 183.0, 61.0, -99.0, 229.0, 213.0, -99.0, 178.0, 185.0, 175.0, 183.0, 173.0, 193.0, 185.0, 165.0, 163.0, -99.0, -99.0, 183.0, 198.0, 178.0, -99.0, 168.0, 183.0, -99.0, -99.0, 180.0, 183.0, -99.0, -99.0, 203.0, 183.0, 165.0, -99.0, 170.0, -99.0, 165.0, -99.0, 168.0, 188.0, 178.0, 178.0, 198.0, 178.0, 175.0, 180.0, 173.0, -99.0, -99.0, 201.0, -99.0, 188.0, -99.0, 165.0, -99.0, -99.0, 180.0, -99.0, -99.0, -99.0, -99.0, -99.0, 198.0, 191.0, -99.0, 191.0, 188.0, 165.0, 170.0, 178.0, -99.0, -99.0, 183.0, 185.0, 170.0, 188.0, 183.0, 170.0, 170.0, 191.0, 185.0, 188.0, 188.0, -99.0, 168.0, 165.0, -99.0, -99.0, 175.0, 178.0, 218.0, -99.0, 30.5, -99.0, -99.0, 183.0, -99.0, 183.0, -99.0, -99.0, 165.0, -99.0, 196.0, -99.0, 193.0, -99.0, 198.0, 170.0, 183.0, 193.0, 157.0, 183.0, 170.0, -99.0, -99.0, 203.0, 175.0, -99.0, 183.0, 188.0, 193.0, 198.0, -99.0, 188.0, -99.0, 188.0, 180.0, 193.0, 175.0, -99.0, -99.0, -99.0, 185.0, 173.0, -99.0, 175.0, 170.0, 201.0, -99.0, 175.0, -99.0, 180.0, 163.0, 170.0, 175.0, 185.0, 178.0, 183.0, -99.0, -99.0, 226.0, 178.0, -99.0, -99.0, -99.0, 226.0, 183.0, 191.0, 183.0, -99.0, 180.0, 168.0, -99.0, -99.0, 198.0, -99.0, 191.0, 175.0, 165.0, -99.0, -99.0, 183.0, 185.0, -99.0, 267.0, -99.0, 168.0, 170.0, 198.0, 122.0, -99.0, 173.0, 183.0, 188.0, 185.0, 193.0, 193.0, 185.0, 188.0, 193.0, -99.0, 198.0, 201.0, 201.0, 188.0, 175.0, 188.0, 173.0, -99.0, 175.0, 244.0, 196.0, 185.0, -99.0, 193.0, -99.0, 168.0, 180.0, 175.0, -99.0, 185.0, 178.0, 168.0, -99.0, -99.0, 168.0, 193.0, 188.0, 191.0, 183.0, 196.0, 188.0, -99.0, -99.0, 175.0, -99.0, 975.0, 165.0, 193.0, 173.0, -99.0, 188.0, -99.0, 180.0, -99.0, 183.0, 183.0, 157.0, 183.0, 142.0, 188.0, 211.0, 180.0, 876.0, 185.0, 183.0, -99.0, -99.0, -99.0, 185.0, 188.0, -99.0, -99.0, -99.0, 62.5, 198.0, 168.0, 108.0, -99.0, 175.0, -99.0, -99.0, -99.0, 183.0, 198.0, 178.0, 178.0, 170.0, 188.0, 180.0, 178.0, 183.0, 178.0, 701.0, -99.0, 188.0, 188.0, 183.0, 188.0, 170.0, -99.0, 183.0, 185.0, 191.0, 165.0, 175.0, 185.0, 175.0, -99.0, 170.0, 180.0, 213.0, 259.0, 173.0, 185.0, 196.0, -99.0, -99.0, 180.0, 170.0, 168.0, 79.0, 244.0, 178.0, 180.0, 170.0, 175.0, 188.0, 183.0, 173.0, 170.0, 183.0, -99.0, 180.0, 168.0, 180.0, 198.0, -99.0, -99.0, -99.0, 155.0, 71.0, 183.0, 178.0, 193.0, -99.0, 168.0, -99.0, 168.0, -99.0, -99.0, 170.0, -99.0, 188.0, -99.0, -99.0, -99.0, 183.0, 185.0, 183.0, 196.0, 165.0, 165.0, 188.0, 287.0, -99.0, 178.0, -99.0, 213.0, 191.0, 173.0, -99.0, -99.0, -99.0, -99.0, -99.0, -99.0, 244.0, -99.0, 234.0, 30.5, -99.0, 201.0, 188.0, -99.0, 191.0, 183.0, 64.0, 180.0, -99.0, -99.0, 175.0, 178.0, -99.0, 175.0, -99.0, 188.0, 165.0, 155.0, 191.0, 198.0, -99.0, -99.0, 203.0, 229.0, 193.0, 188.0, 198.0, -99.0, 168.0, -99.0, -99.0, 180.0, 183.0, 188.0, -99.0, 183.0, -99.0, -99.0, 213.0, 188.0, 188.0, 168.0, 201.0, 170.0, 183.0, 213.0, -99.0, -99.0, 193.0, 180.0, -99.0, 180.0, 165.0, 198.0, 175.0, 196.0, 185.0, -99.0, 185.0, -99.0, -99.0, 183.0, 188.0, -99.0, -99.0, 178.0, 185.0, 183.0, -99.0, -99.0, 196.0, -99.0, 175.0, 366.0, -99.0, -99.0, -99.0, 196.0, 193.0, -99.0, 188.0, 180.0, 188.0, 178.0, 175.0, 188.0, 201.0, 173.0, 180.0, 180.0, 178.0, -99.0, 188.0, 180.0, 168.0, 168.0, -99.0, 185.0, -99.0, 185.0, 175.0, 178.0, -99.0, -99.0, -99.0, 180.0, 185.0, 163.0, 206.0, -99.0, 211.0, 180.0, 175.0, -99.0, 305.0, 178.0, -99.0, -99.0, -99.0, -99.0, 170.0, -99.0, -99.0, 183.0, 157.0, -99.0, -99.0, 168.0, 168.0, 183.0, -99.0, 185.0, 168.0, 168.0, 170.0, 180.0, -99.0, 213.0, 183.0, 180.0, -99.0, 180.0, 183.0, 180.0, 178.0, -99.0, -99.0, 188.0, 183.0, 163.0, 193.0, -99.0, 178.0, -99.0, 165.0, 178.0, 191.0, 180.0, 183.0, 213.0, -99.0, 165.0, 188.0, 185.0, -99.0, -99.0, -99.0, 297.0, 196.0, 185.0, -99.0, -99.0, 180.0, 178.0, 183.0, 165.0, 137.0, -99.0, 122.0, 173.0, 191.0, 168.0, 198.0, 170.0, 185.0, 305.0, 279.0, -99.0, 183.0, 178.0, 193.0, 170.0, -99.0, 211.0, -99.0, 188.0, 185.0, 173.0, 168.0, 178.0, 191.0, 201.0, 183.0, 175.0, 173.0, -99.0, 188.0, -99.0, -99.0, -99.0, 193.0, 157.0, -99.0, 201.0, 175.0, -99.0, 168.0, 198.0, -99.0, 178.0, -99.0, 279.0, 165.0, 188.0, 211.0, -99.0, -99.0, -99.0, -99.0, -99.0, 170.0, 165.0, 178.0, 178.0, 157.0, 178.0, -99.0, 173.0, 178.0, 185.0, 183.0, -99.0, 188.0, -99.0, 193.0, 165.0, 170.0, 201.0, -99.0, 183.0, 180.0, 183.0, 173.0, 170.0, 180.0, 165.0, 191.0, -99.0, 196.0, -99.0, 180.0, 183.0, -99.0, -99.0, -99.0, 188.0, 163.0, 201.0, -99.0, 188.0, 183.0, 198.0, 175.0, 185.0, -99.0, 175.0, 198.0, 218.0, 185.0, 178.0, 163.0, -99.0, 175.0, 188.0, 191.0, -99.0, 183.0, -99.0, 168.0, 188.0, 183.0, 168.0, 206.0, 15.2, 168.0, 175.0, 191.0, 165.0, 168.0, 191.0, 175.0, 229.0, 226.0, 168.0, 178.0, 165.0, -99.0, -99.0, 137.0, 191.0, 191.0, 175.0, -99.0, 180.0, 183.0, 185.0, 180.0, 188.0, 173.0, 218.0, 163.0, -99.0, -99.0, -99.0, 178.0, -99.0, 175.0, 140.0, 366.0, 160.0, 165.0, 188.0, 183.0, -99.0, 196.0, 155.0, 175.0, 188.0, 183.0, 165.0, 304.8, 66.0, 170.0, 185.0]\n",
            "['Marvel Comics', 'Dark Horse Comics', 'DC Comics', 'Marvel Comics', 'Marvel Comics', 'Marvel Comics', 'NBC - Heroes', 'DC Comics', 'Marvel Comics', 'Marvel Comics', 'Marvel Comics', 'Marvel Comics', 'Marvel Comics', 'DC Comics', 'Wildstorm', 'NBC - Heroes', 'DC Comics', 'Dark Horse Comics', 'Wildstorm', 'DC Comics', 'Marvel Comics', 'NBC - Heroes', 'Marvel Comics', 'Dark Horse Comics', 'Marvel Comics', 'Marvel Comics', 'Image Comics', 'DC Comics', 'Marvel Comics', 'Marvel Comics', 'Marvel Comics', 'DC Comics', 'Image Comics', 'Marvel Comics', 'Marvel Comics', 'DC Comics', 'DC Comics', 'DC Comics', 'Marvel Comics', 'Marvel Comics', 'Marvel Comics', 'Marvel Comics', 'Marvel Comics', 'Marvel Comics', 'Marvel Comics', 'DC Comics', nan, 'Marvel Comics', 'DC Comics', 'DC Comics', 'DC Comics', 'DC Comics', 'DC Comics', 'DC Comics', 'DC Comics', 'Marvel Comics', 'Marvel Comics', 'DC Comics', 'DC Comics', 'DC Comics', 'Marvel Comics', 'Marvel Comics', 'DC Comics', 'DC Comics', 'DC Comics', 'DC Comics', 'DC Comics', 'DC Comics', 'DC Comics', 'DC Comics', 'DC Comics', 'Marvel Comics', 'DC Comics', 'Marvel Comics', 'Marvel Comics', 'DC Comics', 'Marvel Comics', 'DC Comics', 'Marvel Comics', 'Marvel Comics', 'DC Comics', 'Icon Comics', 'Marvel Comics', 'SyFy', 'Image Comics', 'Marvel Comics', nan, 'Marvel Comics', 'Marvel Comics', 'Marvel Comics', 'Hanna-Barbera', 'Marvel Comics', 'DC Comics', 'Marvel Comics', 'DC Comics', 'Marvel Comics', 'DC Comics', 'DC Comics', 'Marvel Comics', 'DC Comics', 'Marvel Comics', 'Marvel Comics', 'DC Comics', 'Marvel Comics', 'DC Comics', 'Marvel Comics', 'Marvel Comics', 'Marvel Comics', 'Marvel Comics', 'Marvel Comics', 'Marvel Comics', 'Marvel Comics', 'Marvel Comics', 'Marvel Comics', 'Marvel Comics', 'Marvel Comics', 'Marvel Comics', 'Marvel Comics', 'Marvel Comics', 'Marvel Comics', 'Marvel Comics', 'Marvel Comics', 'DC Comics', 'DC Comics', 'DC Comics', 'DC Comics', 'George Lucas', 'Marvel Comics', 'Image Comics', 'Marvel Comics', 'Marvel Comics', 'DC Comics', 'Marvel Comics', 'Marvel Comics', 'Marvel Comics', 'DC Comics', 'DC Comics', 'Marvel Comics', nan, 'Dark Horse Comics', 'Marvel Comics', 'DC Comics', 'Marvel Comics', 'DC Comics', 'Marvel Comics', 'Marvel Comics', 'SyFy', 'Marvel Comics', 'Marvel Comics', 'DC Comics', 'Marvel Comics', 'DC Comics', 'Team Epic TV', 'South Park', 'Marvel Comics', 'Marvel Comics', 'DC Comics', 'DC Comics', 'Dark Horse Comics', 'Marvel Comics', 'Marvel Comics', 'Marvel Comics', 'Marvel Comics', 'Marvel Comics', 'DC Comics', 'Marvel Comics', 'Marvel Comics', 'Marvel Comics', 'Marvel Comics', 'DC Comics', 'Marvel Comics', 'DC Comics', 'DC Comics', 'DC Comics', 'Team Epic TV', nan, 'DC Comics', 'NBC - Heroes', 'Marvel Comics', 'Marvel Comics', 'DC Comics', 'Image Comics', 'HarperCollins', 'DC Comics', 'Marvel Comics', 'Marvel Comics', 'Marvel Comics', 'Marvel Comics', 'Marvel Comics', 'Marvel Comics', 'Marvel Comics', 'Image Comics', 'Image Comics', 'DC Comics', 'DC Comics', 'Marvel Comics', 'Marvel Comics', 'Marvel Comics', 'HarperCollins', 'ABC Studios', 'Marvel Comics', 'Marvel Comics', 'Universal Studios', 'DC Comics', nan, 'Marvel Comics', 'George Lucas', 'George Lucas', 'Dark Horse Comics', 'Star Trek', 'Marvel Comics', 'DC Comics', 'Marvel Comics', 'DC Comics', 'Marvel Comics', 'DC Comics', 'Marvel Comics', 'Marvel Comics', 'Marvel Comics', 'NBC - Heroes', 'Marvel Comics', 'Marvel Comics', 'Marvel Comics', 'DC Comics', 'Marvel Comics', 'Marvel Comics', 'Marvel Comics', 'IDW Publishing', 'DC Comics', 'DC Comics', 'Marvel Comics', 'Marvel Comics', 'DC Comics', 'Marvel Comics', 'Marvel Comics', 'Dark Horse Comics', 'Marvel Comics', 'Marvel Comics', 'NBC - Heroes', 'DC Comics', 'Marvel Comics', 'DC Comics', 'HarperCollins', 'DC Comics', nan, 'DC Comics', 'Marvel Comics', 'Marvel Comics', 'Marvel Comics', 'Marvel Comics', 'Marvel Comics', 'Marvel Comics', 'DC Comics', 'Marvel Comics', 'DC Comics', 'Marvel Comics', 'Marvel Comics', 'Marvel Comics', 'Marvel Comics', 'DC Comics', 'DC Comics', 'Marvel Comics', 'DC Comics', nan, 'DC Comics', 'DC Comics', 'DC Comics', 'Marvel Comics', 'Marvel Comics', 'Marvel Comics', 'Marvel Comics', 'Marvel Comics', 'Marvel Comics', 'Marvel Comics', 'Marvel Comics', 'DC Comics', 'SyFy', 'DC Comics', 'Marvel Comics', 'Marvel Comics', 'Marvel Comics', 'Marvel Comics', 'Marvel Comics', 'DC Comics', 'Marvel Comics', 'Marvel Comics', nan, 'DC Comics', 'Shueisha', 'Marvel Comics', 'Marvel Comics', 'Marvel Comics', 'Marvel Comics', 'DC Comics', 'DC Comics', 'Marvel Comics', 'George Lucas', 'DC Comics', 'Marvel Comics', 'Marvel Comics', 'Marvel Comics', 'Marvel Comics', 'Marvel Comics', 'Marvel Comics', 'DC Comics', 'DC Comics', 'George Lucas', 'Sony Pictures', 'DC Comics', 'J. K. Rowling', 'Marvel Comics', 'DC Comics', 'Marvel Comics', 'Marvel Comics', 'DC Comics', 'DC Comics', 'DC Comics', 'DC Comics', 'DC Comics', 'DC Comics', 'Marvel Comics', 'Dark Horse Comics', 'Marvel Comics', 'Marvel Comics', 'Marvel Comics', 'NBC - Heroes', 'Icon Comics', 'Marvel Comics', 'Marvel Comics', 'Marvel Comics', 'Marvel Comics', 'Marvel Comics', 'Marvel Comics', 'DC Comics', 'Marvel Comics', 'Marvel Comics', 'Marvel Comics', 'Marvel Comics', 'Marvel Comics', 'DC Comics', 'George Lucas', 'DC Comics', 'Marvel Comics', 'Marvel Comics', 'Marvel Comics', 'Marvel Comics', 'Marvel Comics', 'DC Comics', nan, 'Marvel Comics', 'Dark Horse Comics', 'Titan Books', 'Star Trek', 'George Lucas', nan, 'Marvel Comics', 'Star Trek', 'Marvel Comics', 'DC Comics', 'DC Comics', 'Marvel Comics', 'NBC - Heroes', 'Marvel Comics', 'ABC Studios', 'ABC Studios', 'Dark Horse Comics', 'DC Comics', 'DC Comics', 'Marvel Comics', 'DC Comics', 'Marvel Comics', 'Marvel Comics', 'Rebellion', 'Marvel Comics', 'Marvel Comics', 'Marvel Comics', 'George Lucas', 'George Lucas', 'Marvel Comics', 'DC Comics', 'Star Trek', nan, 'DC Comics', 'Icon Comics', 'DC Comics', 'DC Comics', 'DC Comics', 'DC Comics', 'DC Comics', nan, 'DC Comics', 'Marvel Comics', 'Marvel Comics', nan, 'Marvel Comics', 'Marvel Comics', 'DC Comics', 'DC Comics', 'George Lucas', 'Marvel Comics', 'Marvel Comics', 'Marvel Comics', 'Marvel Comics', 'Marvel Comics', 'IDW Publishing', 'DC Comics', 'DC Comics', 'DC Comics', 'DC Comics', 'Marvel Comics', 'Marvel Comics', 'Dark Horse Comics', 'Marvel Comics', 'DC Comics', 'Marvel Comics', 'Marvel Comics', 'Marvel Comics', 'NBC - Heroes', 'George Lucas', 'Marvel Comics', 'Marvel Comics', 'Marvel Comics', 'Marvel Comics', 'Marvel Comics', 'DC Comics', 'Marvel Comics', 'Image Comics', 'DC Comics', 'Marvel Comics', 'Marvel Comics', 'Marvel Comics', 'Marvel Comics', 'DC Comics', 'Marvel Comics', 'Team Epic TV', 'Microsoft', 'DC Comics', 'NBC - Heroes', 'Marvel Comics', 'DC Comics', 'NBC - Heroes', 'Marvel Comics', 'Marvel Comics', 'Marvel Comics', 'DC Comics', 'DC Comics', 'DC Comics', 'Marvel Comics', 'DC Comics', 'NBC - Heroes', 'IDW Publishing', 'DC Comics', 'Marvel Comics', 'Wildstorm', 'DC Comics', 'DC Comics', 'Marvel Comics', 'DC Comics', 'Marvel Comics', 'DC Comics', 'Marvel Comics', 'DC Comics', 'Marvel Comics', 'Marvel Comics', 'DC Comics', 'NBC - Heroes', 'DC Comics', 'Marvel Comics', 'DC Comics', 'NBC - Heroes', 'Marvel Comics', 'Marvel Comics', 'Marvel Comics', 'Marvel Comics', 'Marvel Comics', 'Marvel Comics', 'Dark Horse Comics', 'Marvel Comics', 'Marvel Comics', 'Marvel Comics', 'Marvel Comics', 'Marvel Comics', 'Marvel Comics', 'Marvel Comics', 'Marvel Comics', 'Shueisha', 'NBC - Heroes', 'Marvel Comics', 'Marvel Comics', 'Marvel Comics', 'Marvel Comics', 'DC Comics', 'NBC - Heroes', 'SyFy', 'DC Comics', 'Marvel Comics', 'Marvel Comics', 'Marvel Comics', 'Marvel Comics', 'DC Comics', 'Marvel Comics', 'Team Epic TV', 'Shueisha', 'Marvel Comics', 'Marvel Comics', 'DC Comics', 'DC Comics', 'Image Comics', 'DC Comics', 'DC Comics', 'Sony Pictures', 'Marvel Comics', 'Marvel Comics', 'Marvel Comics', 'DC Comics', 'NBC - Heroes', 'DC Comics', 'DC Comics', 'Marvel Comics', 'Marvel Comics', 'DC Comics', 'DC Comics', 'DC Comics', 'DC Comics', 'Marvel Comics', 'DC Comics', 'Marvel Comics', 'Dark Horse Comics', 'Marvel Comics', 'DC Comics', 'Marvel Comics', 'Marvel Comics', 'Marvel Comics', 'Marvel Comics', 'Marvel Comics', 'Star Trek', 'HarperCollins', 'DC Comics', 'Marvel Comics', 'Marvel Comics', 'DC Comics', 'SyFy', nan, 'IDW Publishing', 'DC Comics', 'DC Comics', 'Marvel Comics', 'DC Comics', 'DC Comics', 'Marvel Comics', 'Icon Comics', 'DC Comics', 'Marvel Comics', 'DC Comics', 'Image Comics', 'Image Comics', 'HarperCollins', 'George Lucas', 'Marvel Comics', 'DC Comics', 'DC Comics', 'DC Comics', 'Marvel Comics', 'DC Comics', 'DC Comics', 'DC Comics', 'DC Comics', 'DC Comics', 'Marvel Comics', 'Marvel Comics', 'Marvel Comics', 'DC Comics', 'Marvel Comics', 'Marvel Comics', 'Marvel Comics', 'Marvel Comics', 'J. R. R. Tolkien', 'Image Comics', 'DC Comics', 'Marvel Comics', 'Marvel Comics', 'Marvel Comics', 'Marvel Comics', 'Marvel Comics', 'Marvel Comics', 'Marvel Comics', 'Marvel Comics', 'DC Comics', 'Marvel Comics', 'Marvel Comics', 'Marvel Comics', 'Marvel Comics', 'Marvel Comics', 'Marvel Comics', 'Marvel Comics', 'DC Comics', 'Marvel Comics', 'Marvel Comics', 'DC Comics', 'DC Comics', 'Marvel Comics', 'Marvel Comics', 'DC Comics', 'DC Comics', 'DC Comics', 'DC Comics', 'Marvel Comics', 'Marvel Comics', 'Marvel Comics', 'Marvel Comics', 'DC Comics', 'DC Comics', 'Marvel Comics', 'DC Comics', 'Image Comics', 'DC Comics', 'Marvel Comics', 'DC Comics', 'DC Comics', 'Marvel Comics', 'Marvel Comics', 'Marvel Comics', 'Marvel Comics', 'Marvel Comics', 'Marvel Comics', 'Marvel Comics', 'Marvel Comics', 'Marvel Comics', 'Marvel Comics', 'Star Trek', 'Marvel Comics', 'Marvel Comics', 'Marvel Comics', 'Marvel Comics', 'DC Comics', 'DC Comics', 'DC Comics', 'DC Comics', 'ABC Studios', 'DC Comics', 'Marvel Comics', 'George Lucas', 'Marvel Comics', 'DC Comics', 'DC Comics', 'DC Comics', 'DC Comics', 'DC Comics', 'Marvel Comics', 'NBC - Heroes', 'Marvel Comics', 'Dark Horse Comics', 'Dark Horse Comics', 'Dark Horse Comics', 'Dark Horse Comics', 'Marvel Comics', 'Marvel Comics', 'Marvel Comics', nan, 'DC Comics', 'Marvel Comics', 'Marvel Comics', 'Marvel Comics', 'Marvel Comics', 'Marvel Comics', 'Marvel Comics', 'Marvel Comics', 'Marvel Comics', 'Marvel Comics', 'Marvel Comics', 'Marvel Comics', 'HarperCollins', 'Marvel Comics', 'Marvel Comics', 'Marvel Comics', 'NBC - Heroes', 'DC Comics', 'DC Comics', 'DC Comics', 'Marvel Comics', 'DC Comics', 'Marvel Comics', 'Marvel Comics', 'Marvel Comics', 'Marvel Comics', 'Team Epic TV', 'Marvel Comics', 'Marvel Comics', 'Shueisha', 'Marvel Comics', 'Marvel Comics', 'Marvel Comics', 'Marvel Comics', 'Marvel Comics', 'DC Comics', 'Marvel Comics', 'Marvel Comics', 'Image Comics', 'Dark Horse Comics', 'Marvel Comics', 'Marvel Comics', 'DC Comics', 'Marvel Comics', 'Marvel Comics', 'Marvel Comics', 'Marvel Comics', 'Marvel Comics', 'Marvel Comics', 'DC Comics', 'Marvel Comics', 'Marvel Comics', 'Marvel Comics', 'Marvel Comics', 'DC Comics', 'Marvel Comics', 'DC Comics', 'Marvel Comics', 'Marvel Comics', 'Marvel Comics', 'Marvel Comics', 'DC Comics', 'Marvel Comics', 'DC Comics', 'Marvel Comics', 'Marvel Comics', 'Marvel Comics', 'Marvel Comics', 'Marvel Comics', 'Marvel Comics', 'Marvel Comics', 'Marvel Comics', 'George Lucas', 'DC Comics', 'DC Comics']\n",
            "['-', 'blue', 'red', '-', '-', '-', '-', '-', '-', '-', '-', '-', '-', '-', '-', '-', '-', 'black', '-', '-', '-', '-', '-', '-', '-', '-', '-', '-', '-', '-', '-', '-', '-', '-', 'grey', '-', '-', '-', '-', 'blue', '-', 'gold', '-', '-', '-', '-', '-', '-', '-', '-', '-', '-', '-', '-', '-', '-', 'red', '-', '-', '-', '-', '-', '-', '-', '-', '-', '-', '-', '-', '-', '-', '-', '-', '-', 'blue', 'green', '-', '-', '-', '-', '-', '-', '-', '-', '-', '-', '-', '-', '-', '-', '-', '-', 'white', '-', '-', '-', '-', '-', '-', '-', '-', '-', '-', '-', '-', '-', '-', '-', 'white', '-', '-', '-', '-', '-', 'pink', '-', '-', '-', '-', '-', '-', '-', '-', '-', '-', '-', '-', '-', '-', '-', '-', '-', '-', '-', '-', 'green', '-', '-', '-', '-', '-', '-', '-', '-', '-', '-', '-', '-', '-', 'silver', '-', '-', '-', '-', '-', '-', '-', '-', '-', '-', '-', '-', '-', '-', '-', '-', 'grey', '-', '-', '-', '-', '-', '-', '-', '-', '-', '-', '-', '-', '-', '-', '-', '-', '-', '-', 'blue', '-', '-', '-', '-', '-', '-', '-', '-', '-', '-', '-', '-', '-', '-', '-', '-', '-', 'grey', '-', '-', 'red / black', '-', '-', '-', '-', '-', '-', '-', '-', '-', '-', '-', '-', '-', '-', '-', '-', '-', '-', '-', 'white', 'green', '-', '-', '-', '-', 'blue', 'green', '-', '-', '-', '-', '-', '-', '-', '-', '-', '-', '-', 'yellow', '-', 'green', 'red', '-', '-', '-', '-', '-', '-', 'green', '-', '-', '-', '-', '-', '-', '-', '-', '-', '-', '-', '-', '-', '-', '-', '-', '-', '-', 'green', '-', '-', '-', '-', '-', '-', '-', '-', '-', 'purple', '-', 'grey', '-', '-', '-', '-', '-', '-', '-', '-', '-', 'green', '-', '-', '-', '-', '-', '-', '-', '-', '-', '-', '-', '-', '-', '-', '-', '-', '-', '-', '-', '-', '-', '-', '-', '-', '-', '-', '-', '-', '-', '-', '-', '-', '-', '-', 'green', '-', '-', '-', '-', '-', '-', '-', '-', '-', '-', '-', '-', '-', '-', '-', '-', '-', '-', '-', '-', '-', 'orange / white', '-', '-', '-', '-', '-', '-', '-', '-', '-', '-', '-', '-', '-', '-', '-', 'white', '-', '-', '-', '-', '-', '-', '-', 'gray', '-', '-', '-', '-', '-', '-', '-', '-', 'green', 'blue', 'pink', '-', '-', '-', 'red', 'red', '-', '-', '-', '-', '-', '-', '-', '-', '-', '-', 'green', '-', '-', '-', '-', '-', 'gold', '-', '-', 'blue-white', '-', '-', '-', '-', '-', '-', '-', '-', '-', '-', '-', '-', '-', '-', 'green', '-', '-', 'green', 'green', '-', '-', '-', '-', '-', '-', '-', '-', '-', '-', '-', '-', '-', '-', '-', '-', '-', 'green', '-', '-', '-', '-', '-', '-', '-', '-', '-', '-', '-', '-', '-', '-', '-', '-', '-', '-', '-', '-', '-', '-', '-', '-', '-', '-', '-', '-', '-', 'blue', '-', '-', '-', '-', '-', '-', 'blue', '-', '-', '-', '-', '-', '-', '-', '-', '-', 'gold', '-', '-', '-', '-', '-', '-', '-', '-', '-', '-', '-', '-', '-', '-', '-', '-', '-', '-', '-', '-', '-', '-', '-', '-', '-', 'green', '-', '-', '-', '-', '-', '-', '-', '-', '-', 'purple', '-', '-', '-', '-', '-', '-', '-', '-', '-', 'green', '-', '-', '-', '-', '-', 'red', '-', '-', '-', '-', '-', '-', '-', '-', '-', '-', '-', '-', '-', '-', '-', '-', '-', '-', '-', '-', '-', '-', '-', '-', '-', '-', '-', '-', '-', '-', '-', '-', '-', '-', '-', '-', '-', 'blue', '-', '-', '-', '-', '-', '-', '-', '-', '-', '-', '-', '-', 'silver', '-', '-', 'red', '-', '-', '-', '-', '-', '-', '-', '-', '-', '-', '-', 'white', '-', '-', '-', '-', '-', '-', '-', '-', '-', '-', '-', '-', '-', '-', '-', '-', '-', '-', 'orange', '-', '-', '-', '-', 'white', '-', '-', '-', '-', '-', '-', '-', 'green', 'yellow', '-', '-', 'silver', '-', '-', 'silver', '-', '-', 'purple', '-', '-', '-', '-', '-', '-', '-', '-', '-', '-', 'grey', '-', '-', '-', 'green', '-', '-', '-', '-', 'red', '-', 'green', '-', '-', 'silver', '-', '-', '-', '-', '-', '-', '-', '-', '-', '-', '-', '-', '-', '-', '-', '-', 'red', '-', '-', '-', '-', '-', '-', '-', '-', '-', '-', '-', '-', '-', '-', '-', '-', '-', '-', '-', '-', '-', '-', '-', '-', '-', '-', '-', '-', '-', '-', 'white', 'green', '-', '-']\n",
            "['good', 'good', 'good', 'bad', 'bad', 'bad', 'good', 'good', 'good', 'good', 'good', 'bad', 'bad', 'good', 'bad', 'good', 'good', 'bad', 'good', 'bad', 'bad', 'good', 'good', 'good', 'good', 'good', 'bad', 'good', 'bad', 'good', 'good', 'bad', 'bad', '-', 'bad', 'good', 'good', 'good', 'good', 'good', 'bad', 'good', 'good', 'good', 'good', 'good', 'good', 'good', 'bad', 'good', 'good', 'good', 'good', 'good', 'good', 'good', 'bad', 'good', 'good', 'bad', 'good', 'good', 'good', 'good', 'good', 'good', 'good', 'good', 'good', 'good', 'good', 'good', 'good', 'good', 'good', 'good', 'bad', 'good', 'good', 'good', 'bad', 'good', 'bad', 'good', 'bad', 'good', 'good', 'good', 'bad', 'bad', 'good', 'good', 'neutral', 'bad', 'bad', 'good', 'good', 'good', 'good', 'neutral', 'good', 'good', 'good', 'bad', 'bad', 'good', 'good', 'good', 'bad', 'bad', '-', 'good', 'good', 'good', 'good', 'bad', 'bad', 'bad', 'bad', 'bad', 'good', 'bad', 'good', 'good', 'good', 'good', 'bad', 'good', 'bad', 'good', 'good', 'good', 'good', 'good', 'good', 'bad', 'good', 'good', '-', 'good', 'bad', 'good', 'good', 'good', 'good', 'bad', 'good', 'good', 'good', 'good', 'good', 'neutral', 'good', 'good', 'good', 'good', 'good', 'good', 'good', 'good', 'good', 'bad', 'good', 'good', 'good', 'good', 'good', 'good', 'good', 'bad', 'bad', 'bad', 'bad', 'bad', 'bad', 'good', 'good', 'good', 'good', 'good', 'bad', 'bad', 'good', 'good', 'good', 'neutral', 'good', 'bad', 'good', 'good', 'good', 'bad', 'bad', 'good', 'bad', 'good', 'good', 'good', 'good', 'good', 'good', 'good', 'good', 'bad', 'bad', 'good', 'bad', 'bad', 'good', 'good', 'good', 'good', 'neutral', 'bad', 'good', 'neutral', 'bad', 'bad', 'bad', 'good', 'good', 'bad', 'bad', 'good', 'bad', 'good', 'good', 'good', 'good', 'bad', 'bad', 'bad', 'good', 'good', 'bad', 'good', 'bad', 'good', 'bad', 'good', 'good', 'good', 'good', 'good', 'good', 'neutral', 'bad', 'bad', 'bad', 'bad', 'good', 'bad', 'bad', 'good', 'good', 'good', 'good', 'good', 'good', 'good', 'good', 'bad', 'good', 'good', 'good', 'good', 'good', 'good', 'good', 'good', 'bad', 'good', 'neutral', 'good', 'good', 'good', 'good', 'bad', 'good', 'good', 'good', 'good', 'good', 'bad', 'neutral', 'bad', 'bad', 'bad', 'good', 'good', 'good', 'good', 'good', 'bad', 'bad', 'good', 'bad', 'good', 'bad', 'bad', 'good', 'good', 'good', 'good', 'good', 'good', 'good', 'good', 'bad', 'good', 'good', 'good', 'good', 'good', 'good', 'good', 'good', 'good', 'good', 'bad', 'bad', 'good', 'good', 'good', 'good', 'good', 'good', 'bad', 'good', 'good', 'good', 'good', 'good', 'good', 'good', 'good', 'bad', 'good', 'good', 'good', 'good', 'neutral', 'good', 'good', 'good', 'good', 'bad', 'good', 'good', 'good', 'good', 'good', 'good', 'good', 'good', 'good', 'good', 'good', 'good', 'good', 'good', 'good', 'bad', 'good', 'good', 'good', 'good', 'good', 'good', 'bad', 'good', 'good', 'good', 'neutral', 'bad', 'good', 'good', 'good', 'bad', 'good', 'good', 'good', 'good', 'good', 'good', 'good', 'bad', 'bad', 'good', 'good', 'bad', 'bad', 'bad', 'good', 'bad', 'bad', 'good', 'good', 'bad', 'bad', 'bad', 'bad', 'good', 'good', 'good', 'bad', 'good', 'good', 'bad', 'bad', 'neutral', 'good', 'bad', 'neutral', 'bad', 'good', 'good', 'bad', 'good', 'good', 'good', 'bad', 'good', 'bad', 'good', 'bad', '-', 'neutral', 'good', 'good', 'bad', 'good', 'good', 'good', 'good', 'good', 'bad', 'good', 'good', 'bad', 'good', 'good', 'good', 'bad', 'good', 'bad', 'good', 'good', 'good', 'good', 'good', 'good', 'good', 'good', 'good', 'good', 'good', 'bad', 'bad', 'bad', 'bad', 'bad', 'good', 'bad', 'good', 'good', 'bad', 'bad', 'good', 'good', 'good', 'bad', 'bad', 'good', 'bad', 'good', 'good', 'good', 'good', 'bad', 'bad', 'good', 'good', 'good', 'good', 'good', 'good', 'bad', 'good', 'good', 'good', 'good', 'good', 'good', 'good', 'good', 'good', 'good', 'good', 'good', 'bad', 'good', 'good', 'neutral', 'bad', 'good', 'good', 'bad', 'bad', 'bad', 'good', 'good', 'good', 'good', 'bad', 'good', 'good', 'good', 'good', 'bad', 'good', 'good', 'bad', 'bad', 'good', 'good', 'good', 'bad', 'good', 'bad', 'bad', 'good', 'good', 'bad', 'bad', '-', 'good', 'good', 'good', 'good', 'bad', 'good', 'good', 'good', 'neutral', 'good', 'bad', 'good', 'neutral', 'neutral', 'bad', 'good', 'bad', 'good', 'bad', 'bad', 'good', 'good', 'bad', 'bad', 'bad', 'good', 'good', 'good', 'good', 'good', 'good', 'neutral', 'good', 'good', 'good', 'good', 'bad', 'good', 'neutral', 'good', 'bad', 'good', 'bad', 'good', 'good', 'bad', 'bad', 'bad', 'bad', 'neutral', 'good', 'good', 'good', 'good', 'good', 'good', 'good', 'bad', 'good', 'good', 'good', 'good', 'good', 'good', 'good', 'good', 'good', 'neutral', 'bad', 'bad', 'bad', 'good', 'bad', 'good', 'good', 'bad', 'good', 'good', 'good', 'good', 'good', 'good', 'good', 'bad', 'good', 'good', 'good', 'good', 'good', 'good', 'good', 'good', 'bad', 'good', 'good', 'good', 'good', 'good', 'good', 'good', 'good', 'good', 'good', 'bad', 'good', 'bad', 'good', 'good', 'bad', 'good', 'good', 'bad', 'bad', 'bad', 'good', 'bad', 'bad', 'bad', 'bad', 'bad', 'good', 'bad', 'good', 'neutral', 'good', 'good', 'good', 'good', 'good', 'good', 'good', 'good', 'bad', 'good', 'bad', 'good', 'neutral', 'good', 'good', 'good', '-', 'bad', 'good', 'good', 'bad', 'good', 'bad', 'bad', 'good', 'good', 'good', 'bad', 'bad', 'bad', 'bad', 'bad', '-', 'good', 'good', 'good', 'good', 'bad', 'good', 'good', 'good', 'good', 'good', 'bad', 'bad', 'good', 'good', 'good', 'bad', 'good', 'good', 'good', 'bad', 'bad', 'good', 'good', 'good', 'good', 'good', 'good', 'good', 'good', 'good', 'good', 'good', 'good', 'good', 'bad', 'good', 'good', 'good', 'good', 'good', 'bad']\n",
            "[441.0, 65.0, 90.0, 441.0, -99.0, 122.0, -99.0, 88.0, 61.0, 81.0, 104.0, 108.0, 90.0, 90.0, -99.0, -99.0, 72.0, 169.0, -99.0, 173.0, 101.0, -99.0, 68.0, -99.0, 57.0, 54.0, -99.0, 83.0, 90.0, 122.0, 86.0, -99.0, -99.0, 358.0, 135.0, -99.0, 106.0, 146.0, 63.0, 68.0, 57.0, 98.0, 270.0, 59.0, 50.0, -99.0, -99.0, 101.0, 126.0, 68.0, -99.0, 54.0, 81.0, -99.0, 72.0, 63.0, 67.0, -99.0, -99.0, 180.0, 77.0, 54.0, -99.0, 57.0, -99.0, 52.0, -99.0, 61.0, 95.0, 77.0, 79.0, 133.0, -99.0, 63.0, 181.0, 68.0, -99.0, -99.0, 216.0, -99.0, 135.0, -99.0, 71.0, -99.0, -99.0, 54.0, -99.0, -99.0, -99.0, -99.0, -99.0, 124.0, 155.0, -99.0, 113.0, 95.0, 58.0, 59.0, 54.0, -99.0, -99.0, 86.0, 90.0, 52.0, 92.0, 90.0, 59.0, 61.0, 104.0, 86.0, 88.0, 97.0, -99.0, 68.0, 56.0, -99.0, -99.0, 77.0, 230.0, 495.0, -99.0, -99.0, -99.0, -99.0, 86.0, -99.0, -99.0, -99.0, -99.0, 55.0, -99.0, 97.0, -99.0, 110.0, -99.0, 135.0, 61.0, 99.0, -99.0, 52.0, 90.0, 59.0, -99.0, -99.0, 158.0, 74.0, -99.0, 81.0, 108.0, 90.0, 116.0, -99.0, -99.0, -99.0, 108.0, 74.0, 101.0, 74.0, -99.0, -99.0, -99.0, 86.0, 61.0, -99.0, 61.0, 62.0, 97.0, -99.0, 63.0, -99.0, 81.0, 50.0, 55.0, 54.0, 86.0, -99.0, 170.0, -99.0, -99.0, 70.0, 78.0, -99.0, -99.0, -99.0, 225.0, 67.0, 79.0, 99.0, -99.0, 104.0, 50.0, -99.0, -99.0, 173.0, -99.0, 88.0, 68.0, 52.0, -99.0, -99.0, 90.0, 81.0, -99.0, 817.0, -99.0, 56.0, -99.0, 135.0, 27.0, -99.0, 52.0, 90.0, 95.0, 91.0, 178.0, 101.0, 95.0, 383.0, 90.0, -99.0, 171.0, 187.0, 132.0, 89.0, 110.0, 81.0, 54.0, -99.0, 63.0, 412.0, 104.0, -99.0, -99.0, 306.0, -99.0, 56.0, 74.0, 59.0, -99.0, 80.0, 65.0, 57.0, -99.0, -99.0, -99.0, 203.0, 95.0, 106.0, 88.0, 96.0, 108.0, -99.0, -99.0, 50.0, -99.0, 18.0, 56.0, 99.0, 56.0, -99.0, 91.0, -99.0, 81.0, -99.0, 88.0, 86.0, 52.0, 81.0, 45.0, 92.0, 104.0, 167.0, 16.0, 81.0, 77.0, -99.0, -99.0, -99.0, 86.0, 99.0, -99.0, -99.0, -99.0, 630.0, 268.0, 50.0, nan, -99.0, 62.0, -99.0, -99.0, -99.0, 90.0, 270.0, 115.0, 79.0, -99.0, 88.0, 83.0, 77.0, 88.0, 79.0, 4.0, -99.0, 95.0, 90.0, 79.0, -99.0, 63.0, -99.0, 79.0, 89.0, 104.0, 57.0, 61.0, 88.0, 54.0, -99.0, 65.0, 81.0, 225.0, 158.0, 61.0, 81.0, 146.0, -99.0, -99.0, 83.0, -99.0, 48.0, 18.0, 630.0, 77.0, 59.0, 58.0, 77.0, 119.0, 207.0, 65.0, 65.0, 79.0, -99.0, 81.0, 54.0, 79.0, 191.0, 2.0, -99.0, -99.0, 79.0, 14.0, -99.0, 77.0, -99.0, -99.0, 52.0, -99.0, 55.0, -99.0, -99.0, 56.0, -99.0, 113.0, -99.0, -99.0, -99.0, -99.0, 90.0, 88.0, 86.0, 49.0, 52.0, -99.0, 855.0, -99.0, 81.0, -99.0, -99.0, 104.0, 72.0, -99.0, -99.0, -99.0, -99.0, -99.0, -99.0, 356.0, -99.0, 324.0, nan, -99.0, 203.0, 97.0, -99.0, 99.0, 106.0, 18.0, 79.0, -99.0, -99.0, 58.0, 63.0, -99.0, 59.0, -99.0, 95.0, 54.0, 65.0, 95.0, 360.0, -99.0, -99.0, 230.0, 288.0, 236.0, 36.0, 191.0, -99.0, 77.0, -99.0, -99.0, 79.0, 383.0, 86.0, -99.0, -99.0, -99.0, -99.0, 225.0, 90.0, 97.0, 52.0, 135.0, 56.0, 81.0, -99.0, -99.0, -99.0, 110.0, 72.0, -99.0, 59.0, 54.0, 140.0, 72.0, 90.0, 90.0, -99.0, 86.0, -99.0, -99.0, 77.0, 101.0, -99.0, -99.0, 61.0, 81.0, 86.0, -99.0, -99.0, 128.0, -99.0, 61.0, 338.0, -99.0, -99.0, -99.0, 248.0, 90.0, -99.0, 101.0, 59.0, 79.0, 79.0, 72.0, 70.0, 158.0, 61.0, 70.0, 79.0, 54.0, -99.0, 125.0, 85.0, 101.0, 54.0, -99.0, 83.0, -99.0, 99.0, 88.0, 79.0, -99.0, -99.0, -99.0, 83.0, 86.0, 59.0, 293.0, -99.0, 191.0, 65.0, 69.0, -99.0, 405.0, 59.0, -99.0, -99.0, -99.0, -99.0, 117.0, -99.0, -99.0, 89.0, 79.0, -99.0, -99.0, 54.0, 52.0, 87.0, -99.0, 80.0, 55.0, 50.0, 52.0, 81.0, -99.0, 234.0, 86.0, 81.0, -99.0, 70.0, 90.0, 74.0, 68.0, -99.0, -99.0, 83.0, 79.0, 56.0, 97.0, -99.0, 83.0, -99.0, 50.0, 70.0, 117.0, 83.0, 81.0, 630.0, -99.0, 56.0, 108.0, 146.0, -99.0, -99.0, -99.0, -99.0, 320.0, 85.0, -99.0, -99.0, 72.0, 79.0, 101.0, 56.0, 38.0, -99.0, 25.0, 54.0, 104.0, 63.0, 171.0, 61.0, 203.0, 900.0, -99.0, -99.0, 63.0, 74.0, 113.0, 59.0, -99.0, 310.0, -99.0, 87.0, 149.0, 54.0, 50.0, 79.0, 88.0, 315.0, 153.0, 79.0, 52.0, -99.0, 191.0, -99.0, -99.0, -99.0, 101.0, 50.0, -99.0, 92.0, 72.0, -99.0, 52.0, 180.0, -99.0, 49.0, -99.0, 437.0, 65.0, 113.0, 405.0, -99.0, -99.0, -99.0, -99.0, -99.0, 54.0, 56.0, 74.0, 77.0, 56.0, 59.0, -99.0, 55.0, 58.0, 81.0, 83.0, -99.0, 79.0, -99.0, 71.0, 62.0, 63.0, 131.0, -99.0, 91.0, 57.0, -99.0, 77.0, 68.0, 77.0, 54.0, 101.0, -99.0, 47.0, -99.0, 74.0, 146.0, 176.0, 198.0, 149.0, 99.0, 54.0, 443.0, -99.0, 101.0, 225.0, 288.0, 143.0, 101.0, -99.0, 74.0, 288.0, 158.0, 203.0, 81.0, 54.0, -99.0, 76.0, 97.0, 117.0, -99.0, 81.0, -99.0, 59.0, 86.0, 82.0, 105.0, 331.0, 58.0, 54.0, 56.0, 214.0, 79.0, 73.0, 117.0, 50.0, 334.0, -99.0, 52.0, 71.0, 54.0, -99.0, -99.0, 41.0, 135.0, 135.0, 63.0, -99.0, 79.0, 162.0, 95.0, 54.0, 108.0, 67.0, 158.0, 50.0, -99.0, -99.0, -99.0, 65.0, -99.0, 117.0, 39.0, 473.0, 135.0, 51.0, 171.0, 74.0, -99.0, 117.0, 50.0, 61.0, 95.0, 83.0, 52.0, -99.0, 17.0, 57.0, 81.0]\n"
          ]
        }
      ]
    },
    {
      "cell_type": "code",
      "source": [
        "['Male', 'Male', 'Male', 'Male', 'Male'].count('Male'),'Male sad Male'.lower(), 'Male sad Male'.split()"
      ],
      "metadata": {
        "colab": {
          "base_uri": "https://localhost:8080/"
        },
        "id": "Ie1-gG44Q9oR",
        "outputId": "42864077-8953-408a-f66c-061e6aed5eaa"
      },
      "execution_count": 8,
      "outputs": [
        {
          "output_type": "execute_result",
          "data": {
            "text/plain": [
              "(5, 'male sad male', ['Male', 'sad', 'Male'])"
            ]
          },
          "metadata": {},
          "execution_count": 8
        }
      ]
    },
    {
      "cell_type": "code",
      "source": [
        "s1 = {'fe':2, 'Ma':20}\n",
        "s={}\n",
        "s['gender'] = s1\n",
        "s"
      ],
      "metadata": {
        "colab": {
          "base_uri": "https://localhost:8080/"
        },
        "id": "7yJpXgYoTrR0",
        "outputId": "2a4f5733-cdc3-49ac-e515-c7e4c7366b1e"
      },
      "execution_count": 9,
      "outputs": [
        {
          "output_type": "execute_result",
          "data": {
            "text/plain": [
              "{'gender': {'Ma': 20, 'fe': 2}}"
            ]
          },
          "metadata": {},
          "execution_count": 9
        }
      ]
    },
    {
      "cell_type": "code",
      "source": [
        "# nested dictionary\n",
        "column_counts = dict()\n",
        "\n",
        "# Traverse through the columns in the heroes DataFrame\n",
        "for column_name, series in heroes.iteritems():\n",
        "    # Retrieve the values stored in series in a list form\n",
        "    values = list(series)\n",
        "    category_counts = dict()  \n",
        "    # Traverse through unique categories in values\n",
        "    for category in set(values):\n",
        "        # Count the appearance of category in values\n",
        "        category_counts[category] = values.count(category)\n",
        "    \n",
        "    column_counts[column_name] = category_counts\n",
        "    \n",
        "print(column_counts)"
      ],
      "metadata": {
        "colab": {
          "base_uri": "https://localhost:8080/"
        },
        "id": "vZjyWEE0fsAL",
        "outputId": "72fe7666-0037-4585-840e-537346e631f8"
      },
      "execution_count": null,
      "outputs": [
        {
          "output_type": "stream",
          "name": "stdout",
          "text": [
            "{'Unnamed: 0': {0: 1, 1: 1, 2: 1, 3: 1, 4: 1, 5: 1, 6: 1, 7: 1, 8: 1, 9: 1, 10: 1, 11: 1, 12: 1, 13: 1, 14: 1, 15: 1, 16: 1, 17: 1, 18: 1, 19: 1, 20: 1, 21: 1, 22: 1, 23: 1, 24: 1, 25: 1, 26: 1, 27: 1, 28: 1, 29: 1, 30: 1, 31: 1, 32: 1, 33: 1, 34: 1, 35: 1, 36: 1, 37: 1, 38: 1, 39: 1, 40: 1, 41: 1, 42: 1, 43: 1, 44: 1, 45: 1, 46: 1, 47: 1, 48: 1, 49: 1, 50: 1, 51: 1, 52: 1, 53: 1, 54: 1, 55: 1, 56: 1, 57: 1, 58: 1, 59: 1, 60: 1, 61: 1, 62: 1, 63: 1, 64: 1, 65: 1, 66: 1, 67: 1, 68: 1, 69: 1, 70: 1, 71: 1, 72: 1, 73: 1, 74: 1, 75: 1, 76: 1, 77: 1, 78: 1, 79: 1, 80: 1, 81: 1, 82: 1, 83: 1, 84: 1, 85: 1, 86: 1, 87: 1, 88: 1, 89: 1, 90: 1, 91: 1, 92: 1, 93: 1, 94: 1, 95: 1, 96: 1, 97: 1, 98: 1, 99: 1, 100: 1, 101: 1, 102: 1, 103: 1, 104: 1, 105: 1, 106: 1, 107: 1, 108: 1, 109: 1, 110: 1, 111: 1, 112: 1, 113: 1, 114: 1, 115: 1, 116: 1, 117: 1, 118: 1, 119: 1, 120: 1, 121: 1, 122: 1, 123: 1, 124: 1, 125: 1, 126: 1, 127: 1, 128: 1, 129: 1, 130: 1, 131: 1, 132: 1, 133: 1, 134: 1, 135: 1, 136: 1, 137: 1, 138: 1, 139: 1, 140: 1, 141: 1, 142: 1, 143: 1, 144: 1, 145: 1, 146: 1, 147: 1, 148: 1, 149: 1, 150: 1, 151: 1, 152: 1, 153: 1, 154: 1, 155: 1, 156: 1, 157: 1, 158: 1, 159: 1, 160: 1, 161: 1, 162: 1, 163: 1, 164: 1, 165: 1, 166: 1, 167: 1, 168: 1, 169: 1, 170: 1, 171: 1, 172: 1, 173: 1, 174: 1, 175: 1, 176: 1, 177: 1, 178: 1, 179: 1, 180: 1, 181: 1, 182: 1, 183: 1, 184: 1, 185: 1, 186: 1, 187: 1, 188: 1, 189: 1, 190: 1, 191: 1, 192: 1, 193: 1, 194: 1, 195: 1, 196: 1, 197: 1, 198: 1, 199: 1, 200: 1, 201: 1, 202: 1, 203: 1, 204: 1, 205: 1, 206: 1, 207: 1, 208: 1, 209: 1, 210: 1, 211: 1, 212: 1, 213: 1, 214: 1, 215: 1, 216: 1, 217: 1, 218: 1, 219: 1, 220: 1, 221: 1, 222: 1, 223: 1, 224: 1, 225: 1, 226: 1, 227: 1, 228: 1, 229: 1, 230: 1, 231: 1, 232: 1, 233: 1, 234: 1, 235: 1, 236: 1, 237: 1, 238: 1, 239: 1, 240: 1, 241: 1, 242: 1, 243: 1, 244: 1, 245: 1, 246: 1, 247: 1, 248: 1, 249: 1, 250: 1, 251: 1, 252: 1, 253: 1, 254: 1, 255: 1, 256: 1, 257: 1, 258: 1, 259: 1, 260: 1, 261: 1, 262: 1, 263: 1, 264: 1, 265: 1, 266: 1, 267: 1, 268: 1, 269: 1, 270: 1, 271: 1, 272: 1, 273: 1, 274: 1, 275: 1, 276: 1, 277: 1, 278: 1, 279: 1, 280: 1, 281: 1, 282: 1, 283: 1, 284: 1, 285: 1, 286: 1, 287: 1, 288: 1, 289: 1, 290: 1, 291: 1, 292: 1, 293: 1, 294: 1, 295: 1, 296: 1, 297: 1, 298: 1, 299: 1, 300: 1, 301: 1, 302: 1, 303: 1, 304: 1, 305: 1, 306: 1, 307: 1, 308: 1, 309: 1, 310: 1, 311: 1, 312: 1, 313: 1, 314: 1, 315: 1, 316: 1, 317: 1, 318: 1, 319: 1, 320: 1, 321: 1, 322: 1, 323: 1, 324: 1, 325: 1, 326: 1, 327: 1, 328: 1, 329: 1, 330: 1, 331: 1, 332: 1, 333: 1, 334: 1, 335: 1, 336: 1, 337: 1, 338: 1, 339: 1, 340: 1, 341: 1, 342: 1, 343: 1, 344: 1, 345: 1, 346: 1, 347: 1, 348: 1, 349: 1, 350: 1, 351: 1, 352: 1, 353: 1, 354: 1, 355: 1, 356: 1, 357: 1, 358: 1, 359: 1, 360: 1, 361: 1, 362: 1, 363: 1, 364: 1, 365: 1, 366: 1, 367: 1, 368: 1, 369: 1, 370: 1, 371: 1, 372: 1, 373: 1, 374: 1, 375: 1, 376: 1, 377: 1, 378: 1, 379: 1, 380: 1, 381: 1, 382: 1, 383: 1, 384: 1, 385: 1, 386: 1, 387: 1, 388: 1, 389: 1, 390: 1, 391: 1, 392: 1, 393: 1, 394: 1, 395: 1, 396: 1, 397: 1, 398: 1, 399: 1, 400: 1, 401: 1, 402: 1, 403: 1, 404: 1, 405: 1, 406: 1, 407: 1, 408: 1, 409: 1, 410: 1, 411: 1, 412: 1, 413: 1, 414: 1, 415: 1, 416: 1, 417: 1, 418: 1, 419: 1, 420: 1, 421: 1, 422: 1, 423: 1, 424: 1, 425: 1, 426: 1, 427: 1, 428: 1, 429: 1, 430: 1, 431: 1, 432: 1, 433: 1, 434: 1, 435: 1, 436: 1, 437: 1, 438: 1, 439: 1, 440: 1, 441: 1, 442: 1, 443: 1, 444: 1, 445: 1, 446: 1, 447: 1, 448: 1, 449: 1, 450: 1, 451: 1, 452: 1, 453: 1, 454: 1, 455: 1, 456: 1, 457: 1, 458: 1, 459: 1, 460: 1, 461: 1, 462: 1, 463: 1, 464: 1, 465: 1, 466: 1, 467: 1, 468: 1, 469: 1, 470: 1, 471: 1, 472: 1, 473: 1, 474: 1, 475: 1, 476: 1, 477: 1, 478: 1, 479: 1, 480: 1, 481: 1, 482: 1, 483: 1, 484: 1, 485: 1, 486: 1, 487: 1, 488: 1, 489: 1, 490: 1, 491: 1, 492: 1, 493: 1, 494: 1, 495: 1, 496: 1, 497: 1, 498: 1, 499: 1, 500: 1, 501: 1, 502: 1, 503: 1, 504: 1, 505: 1, 506: 1, 507: 1, 508: 1, 509: 1, 510: 1, 511: 1, 512: 1, 513: 1, 514: 1, 515: 1, 516: 1, 517: 1, 518: 1, 519: 1, 520: 1, 521: 1, 522: 1, 523: 1, 524: 1, 525: 1, 526: 1, 527: 1, 528: 1, 529: 1, 530: 1, 531: 1, 532: 1, 533: 1, 534: 1, 535: 1, 536: 1, 537: 1, 538: 1, 539: 1, 540: 1, 541: 1, 542: 1, 543: 1, 544: 1, 545: 1, 546: 1, 547: 1, 548: 1, 549: 1, 550: 1, 551: 1, 552: 1, 553: 1, 554: 1, 555: 1, 556: 1, 557: 1, 558: 1, 559: 1, 560: 1, 561: 1, 562: 1, 563: 1, 564: 1, 565: 1, 566: 1, 567: 1, 568: 1, 569: 1, 570: 1, 571: 1, 572: 1, 573: 1, 574: 1, 575: 1, 576: 1, 577: 1, 578: 1, 579: 1, 580: 1, 581: 1, 582: 1, 583: 1, 584: 1, 585: 1, 586: 1, 587: 1, 588: 1, 589: 1, 590: 1, 591: 1, 592: 1, 593: 1, 594: 1, 595: 1, 596: 1, 597: 1, 598: 1, 599: 1, 600: 1, 601: 1, 602: 1, 603: 1, 604: 1, 605: 1, 606: 1, 607: 1, 608: 1, 609: 1, 610: 1, 611: 1, 612: 1, 613: 1, 614: 1, 615: 1, 616: 1, 617: 1, 618: 1, 619: 1, 620: 1, 621: 1, 622: 1, 623: 1, 624: 1, 625: 1, 626: 1, 627: 1, 628: 1, 629: 1, 630: 1, 631: 1, 632: 1, 633: 1, 634: 1, 635: 1, 636: 1, 637: 1, 638: 1, 639: 1, 640: 1, 641: 1, 642: 1, 643: 1, 644: 1, 645: 1, 646: 1, 647: 1, 648: 1, 649: 1, 650: 1, 651: 1, 652: 1, 653: 1, 654: 1, 655: 1, 656: 1, 657: 1, 658: 1, 659: 1, 660: 1, 661: 1, 662: 1, 663: 1, 664: 1, 665: 1, 666: 1, 667: 1, 668: 1, 669: 1, 670: 1, 671: 1, 672: 1, 673: 1, 674: 1, 675: 1, 676: 1, 677: 1, 678: 1, 679: 1, 680: 1, 681: 1, 682: 1, 683: 1, 684: 1, 685: 1, 686: 1, 687: 1, 688: 1, 689: 1, 690: 1, 691: 1, 692: 1, 693: 1, 694: 1, 695: 1, 696: 1, 697: 1, 698: 1, 699: 1, 700: 1, 701: 1, 702: 1, 703: 1, 704: 1, 705: 1, 706: 1, 707: 1, 708: 1, 709: 1, 710: 1, 711: 1, 712: 1, 713: 1, 714: 1, 715: 1, 716: 1, 717: 1, 718: 1, 719: 1, 720: 1, 721: 1, 722: 1, 723: 1, 724: 1, 725: 1, 726: 1, 727: 1, 728: 1, 729: 1, 730: 1, 731: 1, 732: 1, 733: 1}, 'name': {'Blue Beetle II': 1, 'Fixer': 1, 'Alfred Pennyworth': 1, 'Brundlefly': 1, 'MODOK': 1, 'Fin Fang Foom': 1, 'Star-Lord': 1, 'Man-Wolf': 1, 'Tinkerer': 1, 'Rocket Raccoon': 1, 'Ethan Hunt': 1, 'Hobgoblin': 1, 'ERG-1': 1, 'Power Man': 1, 'Agent Bob': 1, 'Claire Bennet': 1, 'Atom II': 1, 'Greedo': 1, 'Scarecrow': 1, 'Animal Man': 1, 'Starfire': 1, 'Big Barda': 1, 'Nathan Petrelli': 1, 'Flash Gordon': 1, 'Silk': 1, 'Liz Sherman': 1, 'Silk Spectre': 1, 'Toxin': 2, 'Sasquatch': 1, 'Crimson Dynamo': 1, 'Darkseid': 1, 'General Zod': 1, 'Ego': 1, 'Mantis': 1, 'Kingpin': 1, 'Hawkwoman II': 1, 'Lady Bullseye': 1, 'Kid Flash': 1, 'Leonardo': 1, 'Hawkwoman III': 1, 'Ymir': 1, 'Monica Dawson': 1, 'Daredevil': 1, 'Katniss Everdeen': 1, 'Boomer': 1, 'Thunderbird II': 1, 'Wasp': 1, 'Hawkwoman': 1, 'Captain Mar-vell': 1, 'Shadow King': 1, 'Red Hood': 1, 'Brainiac': 1, 'Green Arrow': 1, 'Demogoblin': 1, 'X-23': 1, 'Captain Universe': 1, 'Arclight': 1, 'Copycat': 1, 'Dazzler': 1, 'Lex Luthor': 1, 'Shrinking Violet': 1, 'Amazo': 1, 'Cogliostro': 1, 'Living Tribunal': 1, 'Tigra': 1, 'Mogo': 1, 'Anti-Monitor': 1, 'Azrael': 1, 'Maverick': 1, 'Buffy': 1, 'Justice': 1, 'Destroyer': 1, 'Giant-Man II': 1, 'Agent Zero': 1, 'Jessica Cruz': 1, 'Legion': 1, 'Nick Fury': 1, 'One Punch Man': 1, 'Onslaught': 1, 'Meteorite': 1, 'Bomb Queen': 1, 'Elastigirl': 1, 'Paul Blart': 1, 'Miss Martian': 1, 'Spectre': 1, 'Bloodaxe': 1, 'Shriek': 1, 'Husk': 1, 'Medusa': 1, 'Black Goliath': 1, 'Firebird': 1, 'Captain Midnight': 1, 'Penance': 1, 'Violator': 1, 'Luna': 1, 'Cy-Gor': 1, 'Corsair': 1, 'Clock King': 1, 'Jessica Sanders': 1, 'Flash': 1, 'Ozymandias': 1, 'Hyperion': 1, 'Batgirl III': 1, 'Wonder Girl': 1, 'Tracy Strauss': 1, 'Winter Soldier': 1, 'Gary Bell': 1, 'John Constantine': 1, 'Maya Herrera': 1, 'Deadpool': 1, 'Feral': 1, 'Magneto': 1, 'Rambo': 1, 'Quantum': 1, 'Spider-Woman': 1, 'Violet Parr': 1, 'Vanisher': 1, 'Captain Marvel': 2, 'Monarch': 1, 'Exodus': 1, 'Misfit': 1, 'Mandarin': 1, 'Scarlet Spider II': 1, 'Flash III': 1, 'Banshee': 1, 'Beetle': 1, 'Hellboy': 1, 'Hybrid': 1, 'Mimic': 1, 'Micro Lad': 1, 'Bizarro': 1, 'Offspring': 1, 'Morph': 1, 'Metron': 1, 'Venom III': 1, 'Rick Flag': 1, 'Beast': 1, 'Cannonball': 1, 'Titan': 1, 'Sylar': 1, 'Redeemer II': 1, 'Master Chief': 1, 'Batman': 2, 'Ardina': 1, 'Invisible Woman': 1, 'Bullseye': 1, 'Cloak': 1, 'Atom': 2, 'Jar Jar Binks': 1, 'Razor-Fist II': 1, 'Siryn': 1, 'Stardust': 1, 'Bird-Brain': 1, 'Molten Man': 1, 'War Machine': 1, 'Black Flash': 1, 'Isis': 1, 'K-2SO': 1, 'Bill Harken': 1, 'Killer Frost': 1, 'Michelangelo': 1, 'Lizard': 1, 'Cerebra': 1, 'Dash': 1, 'Robin II': 1, 'Arsenal': 1, 'Captain Atom': 1, 'Red Arrow': 1, 'Batgirl VI': 1, 'Mister Fantastic': 1, 'Electro': 1, 'Elongated Man': 1, 'Osiris': 1, 'Howard the Duck': 1, 'Phantom Girl': 1, 'Deathstroke': 1, 'Booster Gold': 1, 'Martian Manhunter': 1, 'Hulk': 1, 'Swarm': 1, 'Annihilus': 1, 'Karate Kid': 1, 'Black Panther': 1, 'Enchantress': 1, 'Cameron Hicks': 1, 'Robin': 1, 'Blackout': 1, 'Blade': 1, 'Triton': 1, 'Metallo': 1, 'Static': 1, 'Niki Sanders': 1, 'The Cape': 1, 'Namorita': 1, 'Judge Dredd': 1, 'Flash II': 1, 'Maxima': 1, 'Box': 1, 'Light Lass': 1, 'Namor': 2, 'Yellowjacket': 1, 'Cypher': 1, 'Steppenwolf': 1, 'Superboy-Prime': 1, 'Adam Monroe': 1, 'Franklin Richards': 1, 'Power Girl': 1, 'Siren II': 1, 'Abomination': 1, 'Citizen Steel': 1, 'Stacy X': 1, 'Jesse Quick': 1, 'Captain Planet': 1, 'Plastic Lad': 1, 'Big Daddy': 1, \"Ra's Al Ghul\": 1, 'Plantman': 1, 'Callisto': 1, 'Diamondback': 1, 'James T. Kirk': 1, 'Punisher': 1, 'Cable': 1, 'Evilhawk': 1, 'Beta Ray Bill': 1, 'Donna Troy': 1, 'Mera': 1, 'Bird-Man': 1, 'Donatello': 1, 'John Stewart': 1, 'Mach-IV': 1, 'Luke Skywalker': 1, 'Chamber': 1, 'Bishop': 1, 'Scorpia': 1, 'Rorschach': 1, 'Jack of Hearts': 1, 'Mister Sinister': 1, 'Magog': 1, 'Black Widow II': 1, 'Sinestro': 1, 'Gamora': 1, 'Kang': 1, 'Captain Hindsight': 1, 'Black Manta': 1, 'Ant-Man': 1, 'Synch': 1, 'Galactus': 1, 'Ghost Rider': 1, 'Wonder Woman': 1, 'Captain Epic': 1, 'Chromos': 1, 'Mr Immortal': 1, 'Cyclops': 1, 'Penguin': 1, 'Jennifer Kale': 1, 'Blaquesmith': 1, 'Bolt': 1, 'Atom Girl': 1, 'Iron Fist': 1, 'Jean Grey': 1, 'Cyborg': 1, 'Jubilee': 1, 'Moses Magnum': 1, 'Space Ghost': 1, 'Kyle Rayner': 1, 'Jack Bauer': 1, 'Bling!': 1, 'Thundra': 1, 'Mysterio': 1, 'Blackwulf': 1, 'James Bond': 1, 'Apocalypse': 1, 'Cheetah III': 1, 'Cat II': 1, 'Drax the Destroyer': 1, 'Emma Frost': 1, 'Steel': 1, 'Cyborg Superman': 1, 'Snake-Eyes': 1, 'Darkstar': 1, 'Agent 13': 1, 'Iron Monger': 1, 'Ghost Rider II': 1, 'Doctor Strange': 1, 'Sunspot': 1, 'Abraxas': 1, 'Huntress': 1, 'Plastic Man': 1, 'Morlun': 1, 'Man-Bat': 1, 'Negasonic Teenage Warhead': 1, 'Penance I': 1, 'Green Goblin II': 1, 'Kool-Aid Man': 1, 'Wondra': 1, 'Indiana Jones': 1, 'Wyatt Wingfoot': 1, 'Elle Bishop': 1, 'X-Man': 1, 'Aquababy': 1, 'Red Mist': 1, 'Vision': 1, 'Black Widow': 1, 'Armor': 1, 'Abin Sur': 1, 'Changeling': 1, 'Ink': 1, 'Phantom': 1, 'Iceman': 1, 'T-X': 1, 'Mystique': 1, 'Han Solo': 1, 'Fabian Cortez': 1, 'Hellstorm': 1, 'Venom': 1, 'Hit-Girl': 1, 'Jim Powell': 1, 'Guy Gardner': 1, 'Vulture': 1, 'Ariel': 1, 'Nite Owl II': 1, 'Brainiac 5': 1, 'Sabretooth': 1, 'One-Above-All': 1, 'She-Hulk': 1, 'Ultragirl': 1, 'Robin III': 1, 'White Queen': 1, 'Skaar': 1, 'Vegeta': 1, 'Rip Hunter': 1, 'Spyke': 1, 'Phoenix': 1, 'Harry Potter': 1, 'Spider-Carnage': 1, 'Tempest': 1, 'Big Man': 1, 'Raven': 1, 'Hydro-Man': 1, 'Forge': 1, 'Moloch': 1, 'Brother Voodoo': 1, 'Kraven II': 1, 'Nebula': 1, 'Atom III': 1, 'Hal Jordan': 1, 'Harley Quinn': 1, 'Air-Walker': 1, 'Darkman': 1, 'Mockingbird': 1, 'Simon Baz': 1, 'Speedy': 2, 'Flash IV': 1, 'Batgirl IV': 1, 'Aurora': 1, 'Catwoman': 1, 'Professor X': 1, 'Scorpion': 1, 'Jessica Jones': 1, 'Ray': 1, 'Polaris': 1, 'Warpath': 1, 'Blizzard': 2, 'Spider-Woman II': 1, 'Siren': 1, 'Toad': 1, 'Cottonmouth': 1, 'Silk Spectre II': 1, 'Bantam': 1, 'Thor': 1, 'Frenzy': 1, 'Rhino': 1, 'Archangel': 1, 'Bionic Woman': 1, 'Spider-Woman IV': 1, 'Redeemer III': 1, 'Tiger Shark': 1, 'Thunderstrike': 1, 'Hawkeye': 1, 'Data': 1, 'Black Abbott': 1, 'Northstar': 1, 'Multiple Man': 1, 'Red Tornado': 1, 'Valerie Hart': 1, 'Jigsaw': 1, 'Luke Campbell': 1, 'Ant-Man II': 1, 'Robin VI': 1, 'Green Goblin': 1, 'Nina Theroux': 1, 'Blue Beetle III': 1, 'Impulse': 1, 'Wiz Kid': 1, 'Professor Zoom': 1, 'Azazel': 1, 'Swamp Thing': 1, 'Venompool': 1, 'Colin Wagner': 1, 'Lightning Lad': 1, 'Storm': 1, 'Evil Deadpool': 1, 'Stargirl': 1, 'Trigon': 1, 'Alex Woolsly': 1, 'Magus': 1, 'Leech': 1, 'Garbage Man': 1, 'Binary': 1, 'Match': 1, 'Mister Zsasz': 1, 'Metamorpho': 1, 'Cheetah': 1, 'Kylo Ren': 1, 'Ares': 1, 'Firestar': 1, 'Daphne Powell': 1, 'Klaw': 1, 'Predator': 1, 'Goliath IV': 1, 'Utgard-Loki': 1, 'Moonstone': 1, 'Warp': 1, 'Sage': 1, 'Black Cat': 1, 'Vibe': 1, 'Jolt': 1, 'Trickster': 1, 'Blizzard II': 1, 'Master Brood': 1, 'Sobek': 1, 'Captain Cold': 1, 'Supergirl': 1, 'Colossus': 1, 'Battlestar': 1, 'Frigga': 1, 'Naruto Uzumaki': 1, 'Spider-Man': 3, 'Red Robin': 1, 'Gog': 1, 'Renata Soliz': 1, 'Kid Flash II': 1, 'Colossal Boy': 1, 'Energy': 1, 'Doomsday': 1, 'Nightwing': 1, 'Hawkgirl': 1, 'Vindicator': 2, 'Angel Salvadore': 1, 'Goblin Queen': 1, 'Cecilia Reyes': 1, 'Man-Thing': 1, 'Purple Man': 1, 'Firelord': 1, 'Hawkeye II': 1, 'Pyro': 1, 'Omniscient': 1, 'King Shark': 1, 'Century': 1, 'Spider-Gwen': 1, 'Gravity': 1, 'Micah Sanders': 1, 'Bumbleboy': 1, 'Lady Deathstrike': 1, 'Jack-Jack': 1, 'Shadowcat': 1, 'Stormtrooper': 1, 'Boba Fett': 1, 'Overtkill': 1, 'Red Hulk': 1, 'Raphael': 1, 'Robin V': 1, 'Batwoman V': 1, 'Goku': 1, 'Kathryn Janeway': 1, 'DL Hawkins': 1, 'Lobo': 1, 'Hela': 1, 'Shatterstar': 1, 'Shocker': 1, 'Triplicate Girl': 1, 'Blob': 1, 'Anti-Venom': 1, 'Superman': 1, 'Firestorm': 2, 'Odin': 1, 'Green Goblin IV': 1, 'Psylocke': 1, 'Batgirl V': 1, 'Billy Kincaid': 1, 'Captain Britain': 1, 'Crystal': 1, 'Sauron': 1, 'Weapon XI': 1, 'Human Torch': 1, 'Curse': 1, 'Penance II': 1, 'Vagabond': 1, 'Giant-Man': 1, 'Anti-Spawn': 1, 'Batman II': 1, 'Luke Cage': 1, 'Arachne': 1, 'Solomon Grundy': 1, 'Mephisto': 1, 'Matt Parkman': 1, 'Killer Croc': 1, 'Mister Knife': 1, 'Ronin': 1, 'Vertigo II': 1, 'Shadow Lass': 1, 'Sif': 1, 'Fallen One II': 1, 'Granny Goodness': 1, 'Adam Strange': 1, 'Atlas': 2, 'Man of Miracles': 1, 'Nova': 2, 'Alan Scott': 1, 'Ajax': 1, 'Heat Wave': 1, 'Black Lightning': 1, 'Deadshot': 1, 'Alex Mercer': 1, 'Etrigan': 1, 'Black Knight III': 1, 'Beak': 1, 'The Comedian': 1, 'Giganta': 1, 'Spider-Girl': 1, 'Doctor Doom': 1, 'Parademon': 1, 'Hercules': 1, 'Omega Red': 1, 'Sandman': 1, 'Darth Maul': 1, 'Hellcat': 1, 'Astro Boy': 1, 'Havok': 1, 'Franklin Storm': 1, 'Carnage': 1, 'Boom-Boom': 1, 'Beast Boy': 1, 'Yellowjacket II': 1, 'Sentry': 1, 'Rachel Pirzad': 1, 'Hawkman': 1, 'Johann Krauss': 1, 'Bumblebee': 1, 'Q': 1, 'Groot': 1, 'Bushido': 1, 'Dr Manhattan': 1, 'Black Bolt': 1, 'Domino': 1, 'Ando Masahashi': 1, 'Beyonder': 1, 'Fighting Spirit': 1, 'Zoom': 1, 'Blue Beetle': 2, 'Green Goblin III': 1, 'Thing': 1, 'Ammo': 1, 'Junkpile': 1, 'Red Skull': 1, 'Lyja': 1, 'Chuck Norris': 1, 'Quicksilver': 1, 'Wolverine': 1, 'Gorilla Grodd': 1, 'Danny Cooper': 1, 'Lightning Lord': 1, 'Crimson Crusader': 1, 'Thanos': 1, 'Cat': 1, 'Machine Man': 1, 'Deadman': 1, 'Watcher': 1, 'Allan Quatermain': 1, 'Savage Dragon': 1, 'Riddler': 1, 'Spider-Woman III': 1, 'Speedball': 1, 'Aztar': 1, 'Juggernaut': 1, 'Thor Girl': 1, 'Batgirl': 2, 'Captain Marvel II': 1, 'Yoda': 1, 'Angel': 2, 'Rey': 1, 'Warlock': 1, 'Ms Marvel II': 1, 'JJ Powell': 1, 'Question': 1, 'Doppelganger': 1, 'Black Mamba': 1, 'Box IV': 1, 'Bird-Man II': 1, 'White Canary': 1, 'Zatanna': 1, 'Mohinder Suresh': 1, 'Taskmaster': 1, 'Two-Face': 1, 'Thunderbird': 1, 'Angela': 1, 'King Kong': 1, 'Poison Ivy': 1, 'Jason Bourne': 1, 'Walrus': 1, 'Wildfire': 1, 'Hope Summers': 1, 'She-Thing': 1, 'Living Brain': 1, 'Peter Petrelli': 1, 'Darkhawk': 1, 'Marvel Girl': 1, 'Sebastian Shaw': 1, 'Stephanie Powell': 1, 'Joker': 1, 'Hollow': 1, 'Doctor Doom II': 1, 'Vision II': 1, 'Goliath': 3, 'Guardian': 1, 'Jyn Erso': 1, 'A-Bomb': 1, 'Ripcord': 1, 'Vulcan': 1, 'Cheetah II': 1, 'Black Canary': 2, 'Oracle': 1, 'Doctor Octopus': 1, 'Quill': 1, 'Nightcrawler': 1, 'Wonder Man': 1, 'Blackwing': 1, 'Doc Samson': 1, 'Falcon': 1, 'Hiro Nakamura': 1, 'Rogue': 1, 'Kick-Ass': 1, 'Minna Murray': 1, 'Mister Freeze': 1, 'Elektra': 1, 'Krypto': 1, 'Blink': 1, 'Gambit': 1, 'Indigo': 1, 'Proto-Goblin': 1, 'Hancock': 1, 'Scarlet Spider': 1, 'Valkyrie': 1, 'Scarlet Witch': 1, 'Angel Dust': 1, 'Spawn': 1, 'Aqualad': 1, 'Captain America': 1, 'Longshot': 1, 'Ben 10': 1, 'Spock': 1, 'Black Adam': 1, 'Kilowog': 1, 'Dormammu': 1, 'Kevin 11': 1, 'Mr Incredible': 1, 'Thunderbird III': 1, 'Moon Knight': 1, 'Bloodhawk': 1, 'Shang-Chi': 1, 'Absorbing Man': 1, 'Dagger': 1, 'Loki': 1, 'Genesis': 1, 'Mister Mxyzptlk': 1, 'Jean-Luc Picard': 1, 'Plastique': 1, 'Songbird': 1, 'Deathlok': 1, 'Namora': 1, 'Chameleon': 1, 'Iron Man': 1, 'Silverclaw': 1, 'Silver Surfer': 1, 'Kraven the Hunter': 1, 'Clea': 1, 'Vixen': 1, 'Abe Sapien': 1, 'Atom IV': 1, 'Alien': 1, 'Darkside': 1, 'Warbird': 1, 'John Wraith': 1, 'Wolfsbane': 1, 'Box III': 1, 'Bloodwraith': 1, 'Darth Vader': 1, 'Gladiator': 1, 'Superboy': 1, 'Snowbird': 1, 'Hawk': 1, 'Yellow Claw': 1, 'Faora': 1, 'Godzilla': 1, 'Doctor Fate': 1, 'Leader': 1, 'Bane': 1, 'T-800': 1, 'Birdman': 1, 'T-850': 1, 'Meltdown': 1, 'T-1000': 1, 'Ultron': 1, 'Venom II': 1, 'Aquaman': 1}, 'Gender': {'-': 29, 'Female': 200, 'Male': 505}, 'Eye color': {'silver': 1, 'amber': 2, 'green': 73, 'yellow / red': 1, 'indigo': 1, 'blue / white': 1, 'violet': 2, 'white': 17, 'white / red': 1, 'yellow': 19, '-': 172, 'red': 46, 'purple': 4, 'black': 23, 'hazel': 6, 'grey': 6, 'yellow (without irises)': 2, 'yellow / blue': 1, 'brown': 127, 'blue': 225, 'gold': 3, 'green / blue': 1}, 'Race': {'Strontian': 1, 'Dathomirian Zabrak': 1, 'Mutant': 63, 'Human / Altered': 3, 'Human-Kree': 2, 'Flora Colossus': 1, 'Gorilla': 1, 'Yautja': 1, 'Inhuman': 4, 'Kryptonian': 7, 'Gungan': 1, 'Animal': 4, 'Eternal': 2, 'Zombie': 1, 'Icthyo Sapien': 1, 'Human': 208, 'Alpha': 5, 'New God': 3, 'Amazon': 2, 'Czarnian': 1, 'Clone': 1, 'Neyaphem': 1, 'Kakarantharaian': 1, 'Luphomoid': 1, 'Talokite': 1, 'Vampire': 2, 'Martian': 1, 'Alien': 7, 'Human-Spartoi': 1, 'Mutant / Clone': 1, 'Demi-God': 2, '-': 304, 'Human / Cosmic': 2, 'Saiyan': 2, \"Yoda's species\": 1, 'Tamaranean': 1, 'God / Eternal': 14, 'Human / Clone': 1, 'Kaiju': 1, 'Bolovaxian': 1, 'Human-Vuldarian': 1, 'Bizarro': 1, 'Android': 9, 'Planet': 1, 'Korugaran': 1, 'Cosmic Entity': 4, 'Rodian': 1, 'Demon': 6, 'Asgardian': 5, 'Cyborg': 11, 'Metahuman': 2, 'Xenomorph XX121': 1, 'Human-Vulcan': 1, 'Parademon': 1, 'Spartoi': 1, 'Frost Giant': 2, 'Maiar': 1, 'Human / Radiation': 11, 'Ungaran': 1, 'Symbiote': 9, 'Zen-Whoberian': 1, 'Atlantean': 5}, 'Hair color': {'White': 23, 'Green': 8, 'Red / White': 1, 'No Hair': 75, '-': 172, 'Blond': 99, 'Orange / White': 1, 'Indigo': 1, 'Strawberry Blond': 7, 'black': 3, 'Red / Orange': 1, 'Pink': 1, 'Gold': 1, 'Brown / Black': 1, 'blond': 3, 'Red': 51, 'Brown / White': 4, 'Silver': 4, 'Yellow': 2, 'Black': 158, 'Red / Grey': 1, 'Black / Blue': 1, 'Auburn': 13, 'Grey': 5, 'Orange': 2, 'Blue': 3, 'Brown': 87, 'Purple': 5, 'Magenta': 1}, 'Height': {257.0: 1, 259.0: 1, 137.0: 2, 267.0: 1, 140.0: 1, 142.0: 1, 15.2: 1, 279.0: 2, 155.0: 3, -99.0: 217, 30.5: 2, 157.0: 5, 287.0: 1, 160.0: 1, 163.0: 8, 165.0: 26, 168.0: 29, 297.0: 1, 170.0: 26, 173.0: 17, 175.0: 34, 304.8: 1, 305.0: 2, 178.0: 39, 180.0: 38, 183.0: 59, 185.0: 35, 188.0: 51, 61.0: 1, 62.5: 1, 191.0: 21, 701.0: 1, 193.0: 21, 64.0: 1, 66.0: 1, 196.0: 11, 198.0: 18, 71.0: 1, 201.0: 11, 203.0: 5, 206.0: 2, 975.0: 1, 79.0: 1, 211.0: 5, 213.0: 7, 218.0: 3, 226.0: 3, 229.0: 3, 234.0: 1, 876.0: 1, 108.0: 1, 366.0: 2, 244.0: 4, 122.0: 2}, 'Publisher': {nan: 15, 'Microsoft': 1, 'ABC Studios': 4, 'J. K. Rowling': 1, 'South Park': 1, 'Wildstorm': 3, 'NBC - Heroes': 19, 'Marvel Comics': 388, 'Universal Studios': 1, 'Shueisha': 4, 'Star Trek': 6, 'Team Epic TV': 5, 'Image Comics': 14, 'Icon Comics': 4, 'George Lucas': 14, 'Rebellion': 1, 'Hanna-Barbera': 1, 'HarperCollins': 6, 'IDW Publishing': 4, 'J. R. R. Tolkien': 1, 'DC Comics': 215, 'Sony Pictures': 2, 'Dark Horse Comics': 18, 'Titan Books': 1, 'SyFy': 5}, 'Skin color': {'red': 9, 'black': 1, 'purple': 3, 'orange / white': 1, 'gray': 1, 'orange': 1, 'white': 7, 'blue-white': 1, 'grey': 5, 'silver': 5, 'red / black': 1, 'blue': 9, 'yellow': 2, '-': 662, 'pink': 2, 'green': 21, 'gold': 3}, 'Alignment': {'neutral': 24, '-': 7, 'bad': 207, 'good': 496}, 'Weight': {nan: 1, nan: 1, 2.0: 1, 4.0: 1, 14.0: 1, 16.0: 1, 17.0: 1, 18.0: 3, 25.0: 1, 27.0: 1, 36.0: 1, 38.0: 1, 39.0: 1, 41.0: 1, 45.0: 1, 47.0: 1, 48.0: 1, 49.0: 2, 50.0: 12, 51.0: 1, 52.0: 15, 54.0: 23, 55.0: 5, 56.0: 13, 57.0: 7, 58.0: 5, 59.0: 14, 61.0: 13, 62.0: 3, 63.0: 11, 65.0: 9, 67.0: 3, 68.0: 8, 69.0: 1, 70.0: 5, 71.0: 3, 72.0: 8, 73.0: 1, 74.0: 10, 76.0: 1, 77.0: 13, 78.0: 1, 79.0: 23, 80.0: 2, 81.0: 22, 82.0: 1, 83.0: 10, 85.0: 2, 86.0: 15, 87.0: 2, 88.0: 11, 89.0: 3, 90.0: 19, 91.0: 3, 92.0: 3, 95.0: 10, 96.0: 1, 97.0: 7, 98.0: 1, 99.0: 7, 101.0: 12, 104.0: 8, 105.0: 1, 106.0: 3, 108.0: 6, 110.0: 3, 113.0: 4, 115.0: 1, 116.0: 1, 117.0: 6, 630.0: 3, 119.0: 1, 122.0: 2, 124.0: 1, 125.0: 1, 126.0: 1, 128.0: 1, 131.0: 1, 132.0: 1, 133.0: 1, 135.0: 8, 140.0: 1, 143.0: 1, 146.0: 4, 149.0: 2, 153.0: 1, 155.0: 1, 158.0: 5, 162.0: 1, 167.0: 1, 169.0: 1, 170.0: 1, 171.0: 3, 173.0: 2, 176.0: 1, 178.0: 1, 180.0: 2, 181.0: 1, 187.0: 1, 191.0: 4, 198.0: 1, 203.0: 4, 207.0: 1, 214.0: 1, 216.0: 1, 225.0: 4, 230.0: 2, 234.0: 1, 236.0: 1, 248.0: 1, 268.0: 1, 270.0: 2, 288.0: 3, 293.0: 1, 817.0: 1, 306.0: 1, 310.0: 1, 315.0: 1, 320.0: 1, 324.0: 1, 331.0: 1, 334.0: 1, 338.0: 1, 855.0: 1, 356.0: 1, 358.0: 1, 360.0: 1, 383.0: 2, 900.0: 1, 405.0: 2, 412.0: 1, -99.0: 237, 437.0: 1, 441.0: 2, 443.0: 1, 473.0: 1, 495.0: 1}}\n"
          ]
        }
      ]
    },
    {
      "cell_type": "markdown",
      "source": [
        "# Basic list comprehensions\n",
        "For this task, you will have to create a bag-of-words representation of the spam email stored in the spam variable (you can explore the content using the shell). Recall that bag-of-words is simply a counter of unique words in a given text. This representation can be further used for text classification, e.g. for spam detection (given enough training examples).\n",
        "\n",
        "We created a small auxiliary function create_word_list() to help you split a string into words, e.g. applying it to 'To infinity... and beyond!' will return ['To', 'infinity', 'and', 'beyond']."
      ],
      "metadata": {
        "id": "ST5jr1DGf4kD"
      }
    },
    {
      "cell_type": "code",
      "source": [
        "spam = 'Dear User,\\n\\nOur Administration Team needs to inform you that you are reaching the storage limit of your Mailbox account.\\nYou have to verify your account within the next 24 hours.\\nOtherwise, it will not be possible to use the service.\\nPlease, click on the link below to verify your account and continue using our service.\\n\\nYour Administration Team.'"
      ],
      "metadata": {
        "id": "NnhdraIJncq3"
      },
      "execution_count": 10,
      "outputs": []
    },
    {
      "cell_type": "code",
      "source": [
        "# Convert the text to lower case and create a word list\n",
        "word_set = set(spam.lower().split())\n",
        "word_ls = spam.lower().split()\n",
        "word_ls[1:5]\n",
        "# list(word_set).count('24')"
      ],
      "metadata": {
        "colab": {
          "base_uri": "https://localhost:8080/"
        },
        "id": "sV1q3Q4mnd-n",
        "outputId": "63feaa9f-b8ed-43d7-d549-bdda1a2c2955"
      },
      "execution_count": 11,
      "outputs": [
        {
          "output_type": "execute_result",
          "data": {
            "text/plain": [
              "['user,', 'our', 'administration', 'team']"
            ]
          },
          "metadata": {},
          "execution_count": 11
        }
      ]
    },
    {
      "cell_type": "code",
      "source": [
        "tuples = [(word, word_ls.count(word)) for word in word_set]\n",
        "word_counter = dict(tuples)\n",
        "word_counter"
      ],
      "metadata": {
        "colab": {
          "base_uri": "https://localhost:8080/"
        },
        "id": "lbeofAeZnd3S",
        "outputId": "693242eb-7a04-4d18-b5c0-e62039d7514b"
      },
      "execution_count": 18,
      "outputs": [
        {
          "output_type": "execute_result",
          "data": {
            "text/plain": [
              "{'24': 1,\n",
              " 'account': 2,\n",
              " 'account.': 1,\n",
              " 'administration': 2,\n",
              " 'and': 1,\n",
              " 'are': 1,\n",
              " 'be': 1,\n",
              " 'below': 1,\n",
              " 'click': 1,\n",
              " 'continue': 1,\n",
              " 'dear': 1,\n",
              " 'have': 1,\n",
              " 'hours.': 1,\n",
              " 'inform': 1,\n",
              " 'it': 1,\n",
              " 'limit': 1,\n",
              " 'link': 1,\n",
              " 'mailbox': 1,\n",
              " 'needs': 1,\n",
              " 'next': 1,\n",
              " 'not': 1,\n",
              " 'of': 1,\n",
              " 'on': 1,\n",
              " 'otherwise,': 1,\n",
              " 'our': 2,\n",
              " 'please,': 1,\n",
              " 'possible': 1,\n",
              " 'reaching': 1,\n",
              " 'service.': 2,\n",
              " 'storage': 1,\n",
              " 'team': 1,\n",
              " 'team.': 1,\n",
              " 'that': 1,\n",
              " 'the': 4,\n",
              " 'to': 4,\n",
              " 'use': 1,\n",
              " 'user,': 1,\n",
              " 'using': 1,\n",
              " 'verify': 2,\n",
              " 'will': 1,\n",
              " 'within': 1,\n",
              " 'you': 3,\n",
              " 'your': 4}"
            ]
          },
          "metadata": {},
          "execution_count": 18
        }
      ]
    },
    {
      "cell_type": "code",
      "source": [
        "# Printing words that appear more than once\n",
        "final_words = []\n",
        "\n",
        "for key, values in word_counter.items():\n",
        "  if values > 1:\n",
        "    final_words.append((values,key))\n",
        "\n",
        "final_words"
      ],
      "metadata": {
        "colab": {
          "base_uri": "https://localhost:8080/"
        },
        "id": "N1hEecenndZQ",
        "outputId": "d33ec591-f80b-4469-c2bc-6ebd6e77bb42"
      },
      "execution_count": 19,
      "outputs": [
        {
          "output_type": "execute_result",
          "data": {
            "text/plain": [
              "[(2, 'our'),\n",
              " (2, 'account'),\n",
              " (3, 'you'),\n",
              " (2, 'administration'),\n",
              " (2, 'verify'),\n",
              " (4, 'the'),\n",
              " (4, 'to'),\n",
              " (2, 'service.'),\n",
              " (4, 'your')]"
            ]
          },
          "metadata": {},
          "execution_count": 19
        }
      ]
    },
    {
      "cell_type": "markdown",
      "source": [
        "# Prime number sequence\n",
        "A prime number is a natural number that is divisible only by 1 or itself (e.g. 3, 7, 11 etc.). However, 1 is not a prime number.\n",
        "\n",
        "Your task is, given a list of candidate numbers cands, to filter only prime numbers in a new list primes.\n",
        "\n",
        "But first, you need to create a function is_prime() that returns True if the input number  is prime or False, otherwise. A number is prime if it is not divisible by any integer number from 2 to root(n) (any natural number  is not divisible by anything higher than root(n) ).\n",
        "\n",
        "Tip: you might need to use the % operator that calculates a remainder from a division (e.g. 8 % 3 is 2).\n",
        "\n",
        "The math module is already imported."
      ],
      "metadata": {
        "id": "f6wxB7TvzFYH"
      }
    },
    {
      "cell_type": "code",
      "source": [
        "cands = [1, 5, 9, 13, 17, 21, 25, 29, 33, 37, 41, 45, 49]"
      ],
      "metadata": {
        "id": "iGYqjM190KHI"
      },
      "execution_count": 20,
      "outputs": []
    },
    {
      "cell_type": "code",
      "source": [
        "from scipy import math"
      ],
      "metadata": {
        "id": "yyrepsmd0KFK"
      },
      "execution_count": 21,
      "outputs": []
    },
    {
      "cell_type": "code",
      "source": [
        "def is_prime(n):    \n",
        "    # Define the initial check\n",
        "    if n < 2:\n",
        "       return False\n",
        "    # Define the loop checking if a number is not prime\n",
        "    for i in range(2, int(math.sqrt(n)) + 1):\n",
        "        if n % i == 0:\n",
        "            return False\n",
        "    return True"
      ],
      "metadata": {
        "id": "MCxLFYFA0KAB"
      },
      "execution_count": 22,
      "outputs": []
    },
    {
      "cell_type": "code",
      "source": [
        "# Filter prime numbers into the new list\n",
        "primes = [num for num in cands if is_prime(num)]\n",
        "print(\"primes = \" + str(primes))"
      ],
      "metadata": {
        "colab": {
          "base_uri": "https://localhost:8080/"
        },
        "id": "b33tmCGi0J9z",
        "outputId": "34b0e1b4-8aa1-4097-c86c-6a6fe3a21403"
      },
      "execution_count": 23,
      "outputs": [
        {
          "output_type": "stream",
          "name": "stdout",
          "text": [
            "primes = [5, 13, 17, 29, 37, 41]\n"
          ]
        }
      ]
    },
    {
      "cell_type": "markdown",
      "source": [
        "# Coprime number sequence\n",
        "Two numbers  and  are coprime if their Greatest Common Divisor (GCD) is 1. GCD is the largest positive number that divides two given numbers  and . For example, the numbers 7 and 9 are coprime because their GCD is 1.\n",
        "\n",
        "Given two lists list1 and list2, your task is to create a new list coprimes that contains all the coprime pairs from list1 and list2.\n",
        "\n",
        "But first, you need to write a function for the GCD using the following algorithm:\n",
        "\n",
        "1-check if \n",
        "* if true, return  as the GCD between  and \n",
        "* if false, go to step 2\n",
        "\n",
        "2-make a substitution  and \n",
        "\n",
        "3- go back to step 1"
      ],
      "metadata": {
        "id": "0sAAMEK-0J7f"
      }
    },
    {
      "cell_type": "code",
      "source": [
        "def gcd(a, b):\n",
        "    # Define the while loop as described\n",
        "    while b != 0:\n",
        "        temp_a = a\n",
        "        a = b\n",
        "        b = temp_a % b   \n",
        "    # Complete the return statement\n",
        "    return a\n",
        "\n",
        "gcd(11,7)"
      ],
      "metadata": {
        "colab": {
          "base_uri": "https://localhost:8080/"
        },
        "id": "fMfjGzJ40J49",
        "outputId": "bfd21ae3-437b-43c9-f9cd-1dc5173e1fc3"
      },
      "execution_count": 24,
      "outputs": [
        {
          "output_type": "execute_result",
          "data": {
            "text/plain": [
              "1"
            ]
          },
          "metadata": {},
          "execution_count": 24
        }
      ]
    },
    {
      "cell_type": "code",
      "source": [
        "list1 = [5, 10, 15, 20, 25, 30, 35, 40, 45, 50, 55, 60, 65, 70]\n",
        "list2 = [7, 14, 21, 28, 35, 42, 49, 56, 63, 70, 77, 84, 91, 98]"
      ],
      "metadata": {
        "id": "7qjZnMbf80Hh"
      },
      "execution_count": 25,
      "outputs": []
    },
    {
      "cell_type": "code",
      "source": [
        "# Create a list of tuples defining pairs of coprime numbers\n",
        "coprimes = [(i,j) for i in list1 \n",
        "                 for j in list2 if gcd(i, j)==1]\n",
        "print(coprimes)"
      ],
      "metadata": {
        "colab": {
          "base_uri": "https://localhost:8080/"
        },
        "id": "RVNfVkas-GBg",
        "outputId": "4ded0a27-9c34-4094-c069-354dcfa94b6b"
      },
      "execution_count": 26,
      "outputs": [
        {
          "output_type": "stream",
          "name": "stdout",
          "text": [
            "[(5, 7), (5, 14), (5, 21), (5, 28), (5, 42), (5, 49), (5, 56), (5, 63), (5, 77), (5, 84), (5, 91), (5, 98), (10, 7), (10, 21), (10, 49), (10, 63), (10, 77), (10, 91), (15, 7), (15, 14), (15, 28), (15, 49), (15, 56), (15, 77), (15, 91), (15, 98), (20, 7), (20, 21), (20, 49), (20, 63), (20, 77), (20, 91), (25, 7), (25, 14), (25, 21), (25, 28), (25, 42), (25, 49), (25, 56), (25, 63), (25, 77), (25, 84), (25, 91), (25, 98), (30, 7), (30, 49), (30, 77), (30, 91), (40, 7), (40, 21), (40, 49), (40, 63), (40, 77), (40, 91), (45, 7), (45, 14), (45, 28), (45, 49), (45, 56), (45, 77), (45, 91), (45, 98), (50, 7), (50, 21), (50, 49), (50, 63), (50, 77), (50, 91), (55, 7), (55, 14), (55, 21), (55, 28), (55, 42), (55, 49), (55, 56), (55, 63), (55, 84), (55, 91), (55, 98), (60, 7), (60, 49), (60, 77), (60, 91), (65, 7), (65, 14), (65, 21), (65, 28), (65, 42), (65, 49), (65, 56), (65, 63), (65, 77), (65, 84), (65, 98)]\n"
          ]
        }
      ]
    },
    {
      "cell_type": "markdown",
      "source": [
        "# Combining iterable objects\n",
        "You are given the list wlist that contains lists of different words. Your task is to create a new iterable object, where each element represents a tuple. Each tuple should contain a list from the wlist, the length of this list, and the longest word within this list. If there is ambiguity in choosing the longest word, the word with the lowest index in the considered list should be taken into account. For example, given the list"
      ],
      "metadata": {
        "id": "3O--zRCrBlx4"
      }
    },
    {
      "cell_type": "code",
      "source": [
        "wlist = [['Python', 'creativity', 'universe'], ['interview', 'study', 'job', 'university', 'lecture'], ['task', 'objective', 'aim', 'subject', 'programming', 'test', 'research']]"
      ],
      "metadata": {
        "id": "H_Nk6zLiDidC"
      },
      "execution_count": 27,
      "outputs": []
    },
    {
      "cell_type": "code",
      "source": [
        "# Define a function searching for the longest word # Gives the longest string in a list of strings\n",
        "def get_longest_word(words):\n",
        "    longest_word = ''\n",
        "    for word in words:\n",
        "        if len(word) > len(longest_word):\n",
        "            longest_word = word\n",
        "    return longest_word"
      ],
      "metadata": {
        "id": "lVEumNrdDiaR"
      },
      "execution_count": 28,
      "outputs": []
    },
    {
      "cell_type": "code",
      "source": [
        "# Create a list of the lengths of each list in wlist\n",
        "lengths = [len(item) for item in wlist]\n",
        "lengths"
      ],
      "metadata": {
        "colab": {
          "base_uri": "https://localhost:8080/"
        },
        "id": "ur-GBfsmDiYN",
        "outputId": "31461476-6763-4604-b2d0-b2462e0e8dd5"
      },
      "execution_count": 29,
      "outputs": [
        {
          "output_type": "execute_result",
          "data": {
            "text/plain": [
              "[3, 5, 7]"
            ]
          },
          "metadata": {},
          "execution_count": 29
        }
      ]
    },
    {
      "cell_type": "code",
      "source": [
        "# Create a list of the longest words in each list in wlist\n",
        "words = [get_longest_word(item) for item in wlist]\n",
        "words"
      ],
      "metadata": {
        "colab": {
          "base_uri": "https://localhost:8080/"
        },
        "id": "YQ-kasySDiVe",
        "outputId": "9bf9feb2-f86d-4261-9e05-41c4b3341647"
      },
      "execution_count": 30,
      "outputs": [
        {
          "output_type": "execute_result",
          "data": {
            "text/plain": [
              "['creativity', 'university', 'programming']"
            ]
          },
          "metadata": {},
          "execution_count": 30
        }
      ]
    },
    {
      "cell_type": "code",
      "source": [
        "# Combine the resulting data into one iterable object\n",
        "for item in zip(wlist, lengths, words):\n",
        "    print(item)"
      ],
      "metadata": {
        "colab": {
          "base_uri": "https://localhost:8080/"
        },
        "id": "grA7ixnoDiPy",
        "outputId": "b9e6bfc4-4452-4b72-b272-8497c8d49eec"
      },
      "execution_count": 31,
      "outputs": [
        {
          "output_type": "stream",
          "name": "stdout",
          "text": [
            "(['Python', 'creativity', 'universe'], 3, 'creativity')\n",
            "(['interview', 'study', 'job', 'university', 'lecture'], 5, 'university')\n",
            "(['task', 'objective', 'aim', 'subject', 'programming', 'test', 'research'], 7, 'programming')\n"
          ]
        }
      ]
    },
    {
      "cell_type": "markdown",
      "source": [
        "# Extracting tuples\n",
        "In the previous exercise, you used two list comprehensions to create lists lengths and words that, respectively, refer to the lengths of the constituent lists in wlist and the longest words stored in those lists. In this exercise, you'll create them in a slightly different way. First, you'll need to put the same calculations into one list comprehension, which should result in a list of tuples. Second, apply the unzip operation to generate two distinct tuples, resembling lengths and words from the previous exercise.\n",
        "\n",
        "The list wlist and the function get_longest_word() are already available in your workspace."
      ],
      "metadata": {
        "id": "OogtGwzZDiNA"
      }
    },
    {
      "cell_type": "code",
      "source": [
        "# Create a list of tuples with lengths and longest words\n",
        "result = [(get_longest_word(item), len(item)) for item in wlist]\n",
        "result"
      ],
      "metadata": {
        "colab": {
          "base_uri": "https://localhost:8080/"
        },
        "id": "VfNMoU1lKNjR",
        "outputId": "cb9ec230-82a6-414f-c473-5f42020fa52f"
      },
      "execution_count": 32,
      "outputs": [
        {
          "output_type": "execute_result",
          "data": {
            "text/plain": [
              "[('creativity', 3), ('university', 5), ('programming', 7)]"
            ]
          },
          "metadata": {},
          "execution_count": 32
        }
      ]
    },
    {
      "cell_type": "code",
      "source": [
        "# Unzip the result    \n",
        "lengths, words = zip(*result)\n",
        "\n",
        "for item in zip(wlist, lengths, words):\n",
        "    print(item)"
      ],
      "metadata": {
        "colab": {
          "base_uri": "https://localhost:8080/"
        },
        "id": "2K_JImqEKNhO",
        "outputId": "84ebc887-0f33-438e-f15a-d383a3f39b0c"
      },
      "execution_count": null,
      "outputs": [
        {
          "output_type": "stream",
          "name": "stdout",
          "text": [
            "(['Python', 'creativity', 'universe'], 'creativity', 3)\n",
            "(['interview', 'study', 'job', 'university', 'lecture'], 'university', 5)\n",
            "(['task', 'objective', 'aim', 'subject', 'programming', 'test', 'research'], 'programming', 7)\n"
          ]
        }
      ]
    },
    {
      "cell_type": "markdown",
      "source": [
        "# Creating a DataFrame\n",
        "Your last task in this lesson is to create a DataFrame from a dictionary supplied by a zip object. You have to take each single word stored in the list wlist and calculate its length. This data should be stored in two separate tuples that are supplied to the zip() initializer. The resulting zip object should be used to construct a DataFrame where the first column will store words and the second column will store their lengths.\n",
        "\n",
        "The module pandas is already imported for you as pd."
      ],
      "metadata": {
        "id": "CJR-PAsdKNcX"
      }
    },
    {
      "cell_type": "code",
      "source": [
        "[(i[j], len(i[j])) for i in wlist for j in range(0, len(i)) ]"
      ],
      "metadata": {
        "colab": {
          "base_uri": "https://localhost:8080/"
        },
        "id": "VYtbotVJKNXp",
        "outputId": "de35fef5-5f43-4f28-870f-6ca3b3f44546"
      },
      "execution_count": 34,
      "outputs": [
        {
          "output_type": "execute_result",
          "data": {
            "text/plain": [
              "[('Python', 6),\n",
              " ('creativity', 10),\n",
              " ('universe', 8),\n",
              " ('interview', 9),\n",
              " ('study', 5),\n",
              " ('job', 3),\n",
              " ('university', 10),\n",
              " ('lecture', 7),\n",
              " ('task', 4),\n",
              " ('objective', 9),\n",
              " ('aim', 3),\n",
              " ('subject', 7),\n",
              " ('programming', 11),\n",
              " ('test', 4),\n",
              " ('research', 8)]"
            ]
          },
          "metadata": {},
          "execution_count": 34
        }
      ]
    },
    {
      "cell_type": "code",
      "source": [
        "word_lengths = [(item, len(item)) for items in wlist for item in items]\n",
        "word_lengths"
      ],
      "metadata": {
        "colab": {
          "base_uri": "https://localhost:8080/"
        },
        "id": "jEsNfA_mKNVj",
        "outputId": "5be086a3-3bb1-4a01-9a1b-18bb761a9e7c"
      },
      "execution_count": 37,
      "outputs": [
        {
          "output_type": "execute_result",
          "data": {
            "text/plain": [
              "[('Python', 6),\n",
              " ('creativity', 10),\n",
              " ('universe', 8),\n",
              " ('interview', 9),\n",
              " ('study', 5),\n",
              " ('job', 3),\n",
              " ('university', 10),\n",
              " ('lecture', 7),\n",
              " ('task', 4),\n",
              " ('objective', 9),\n",
              " ('aim', 3),\n",
              " ('subject', 7),\n",
              " ('programming', 11),\n",
              " ('test', 4),\n",
              " ('research', 8)]"
            ]
          },
          "metadata": {},
          "execution_count": 37
        }
      ]
    },
    {
      "cell_type": "code",
      "source": [
        "# Unwrap the word_lengths\n",
        "words, lengths = zip(*word_lengths)\n",
        "\n",
        "# Create a zip object\n",
        "col_names = ['word', 'length']\n",
        "result = zip(col_names, [words, lengths])\n",
        "\n",
        "# Convert the result to a dictionary and build a DataFrame\n",
        "data_frame = pd.DataFrame(dict(result))\n",
        "print(data_frame)"
      ],
      "metadata": {
        "colab": {
          "base_uri": "https://localhost:8080/"
        },
        "id": "oIJaWzAAKNTm",
        "outputId": "08fb9e17-c16d-4aa8-9bff-f24b1d9bd5be"
      },
      "execution_count": 36,
      "outputs": [
        {
          "output_type": "stream",
          "name": "stdout",
          "text": [
            "           word  length\n",
            "0        Python       6\n",
            "1    creativity      10\n",
            "2      universe       8\n",
            "3     interview       9\n",
            "4         study       5\n",
            "5           job       3\n",
            "6    university      10\n",
            "7       lecture       7\n",
            "8          task       4\n",
            "9     objective       9\n",
            "10          aim       3\n",
            "11      subject       7\n",
            "12  programming      11\n",
            "13         test       4\n",
            "14     research       8\n"
          ]
        }
      ]
    },
    {
      "cell_type": "markdown",
      "source": [
        "# Shift a string\n",
        "You're going to create a **generator** that, given a string, produces a sequence of constituent characters shifted by a specified number of positions shift. For example, the string 'sushi' produces the sequence 'h', 'i', 's', 'u', 's' when we shift by 2 positions to the right (shift = 2). When we shift by 2 positions to the left (shift = -2), the resulting sequence will be 's', 'h', 'i', 's', 'u'.\n",
        "\n",
        "**Tip**: use the % operator to cycle through the valid indices. Applying it to a positive or negative number gives a non-negative remainder, which can be helpful when shifting your index.\n",
        "\n",
        "For example, consider the following variable string = 'python', holding a string of 6 characters:\n",
        "\n",
        "* 2 % 6 = 2 (thus, string[2 % 6] is t)\n",
        "* 0 % 6 = 0 (thus, string[0 % 6] is p)\n",
        "* -2 % 6 = 4 (thus, string[-2 % 6] is o)"
      ],
      "metadata": {
        "id": "JoNBScaFKNRT"
      }
    },
    {
      "cell_type": "code",
      "source": [
        "def shift_string(string, shift):\n",
        "    len_string = len(string)\n",
        "    # Loop over the indices of a string\n",
        "    for idx in range(0, len_string):\n",
        "        # Find which character will correspond to the index.\n",
        "        yield string[(idx - shift) % len_string]\n",
        "       \n",
        "# Create a generator\n",
        "gen = shift_string('Data', 5)\n",
        "\n",
        "# Create a new string using the generator and print it out\n",
        "string_shifted = ''.join(gen)\n",
        "print(string_shifted)"
      ],
      "metadata": {
        "colab": {
          "base_uri": "https://localhost:8080/"
        },
        "id": "lgcXB6YNKNOT",
        "outputId": "4ce9167a-c613-4c04-98a2-3b95de60930d"
      },
      "execution_count": 38,
      "outputs": [
        {
          "output_type": "stream",
          "name": "stdout",
          "text": [
            "aDat\n"
          ]
        }
      ]
    },
    {
      "cell_type": "code",
      "source": [
        "def shift_st(string, shift):\n",
        "\n",
        "  if shift <= len(string):\n",
        "    part1 = string[-shift:]\n",
        "    part2 = string[:len(string)-shift]\n",
        "\n",
        "  elif shift > len(string):\n",
        "    shift = shift - len(string) \n",
        "    part1 = string[-shift:]\n",
        "    part2 = string[:len(string)-shift]\n",
        "\n",
        "  return part1+part2"
      ],
      "metadata": {
        "id": "B11azMPfeupJ"
      },
      "execution_count": 39,
      "outputs": []
    },
    {
      "cell_type": "markdown",
      "source": [
        "# Throw a dice\n",
        "Let's create an infinite generator! Your task is to define the simulate_dice_throws() generator. It generates the outcomes of a 6-sided dice tosses in the form of a dictionary out. Each key is a possible outcome (1, 2, 3, 4, 5, 6). Each value is a list: the first value is the amount of realizations of an outcome and the second, the ratio of realizations to the total number of tosses total.\n",
        "\n",
        "Tip: use the randint() function from the random module (already imported). It generates a random integer in the specified interval (e.g. randint(1, 2) can be 1 or 2)."
      ],
      "metadata": {
        "id": "bnToy_IGfLBw"
      }
    },
    {
      "cell_type": "code",
      "source": [
        "dict([(i, [0, 0]) for i in range(1, 7)])"
      ],
      "metadata": {
        "colab": {
          "base_uri": "https://localhost:8080/"
        },
        "id": "pISS9dgwlRo_",
        "outputId": "f7be9608-69b4-4d6f-f766-e3a5fcf3fc12"
      },
      "execution_count": 40,
      "outputs": [
        {
          "output_type": "execute_result",
          "data": {
            "text/plain": [
              "{1: [0, 0], 2: [0, 0], 3: [0, 0], 4: [0, 0], 5: [0, 0], 6: [0, 0]}"
            ]
          },
          "metadata": {},
          "execution_count": 40
        }
      ]
    },
    {
      "cell_type": "code",
      "source": [
        "import random\n",
        "def simulate_dice_throws():\n",
        "    total, out = 0, dict([(i, [0, 0]) for i in range(1, 7)])\n",
        "    while True:\n",
        "        # Simulate a single toss to get a new number\n",
        "        num = random.randint(1, 6)\n",
        "        total += 1\n",
        "        # Update the number and the ratio of realizations\n",
        "        out[num][0] = out[num][0] + 1\n",
        "        for j in range(1, 7):\n",
        "        \tout[j][1] = round(out[j][0]/total, 2)\n",
        "        # Yield the updated dictionary\n",
        "        yield out\n",
        "\n",
        "# Create the generator and simulate 1000 tosses\n",
        "dice_simulator = simulate_dice_throws()\n",
        "for i in range(1, 4):\n",
        "    print(str(i) + ': ' + str(next(dice_simulator)))"
      ],
      "metadata": {
        "colab": {
          "base_uri": "https://localhost:8080/"
        },
        "id": "gxIS-ZOdfN_e",
        "outputId": "59c87988-59ec-4913-c095-7d6c35c34ff8"
      },
      "execution_count": 41,
      "outputs": [
        {
          "output_type": "stream",
          "name": "stdout",
          "text": [
            "1: {1: [0, 0.0], 2: [0, 0.0], 3: [1, 1.0], 4: [0, 0.0], 5: [0, 0.0], 6: [0, 0.0]}\n",
            "2: {1: [0, 0.0], 2: [0, 0.0], 3: [2, 1.0], 4: [0, 0.0], 5: [0, 0.0], 6: [0, 0.0]}\n",
            "3: {1: [0, 0.0], 2: [0, 0.0], 3: [3, 1.0], 4: [0, 0.0], 5: [0, 0.0], 6: [0, 0.0]}\n"
          ]
        }
      ]
    },
    {
      "cell_type": "markdown",
      "source": [
        "# Generator comprehensions\n",
        "Rewrite func1() as a generator comprehension with  = 10."
      ],
      "metadata": {
        "id": "rOnQJV54q_lt"
      }
    },
    {
      "cell_type": "code",
      "source": [
        "def func1(n):\n",
        "  for i in range(0, n):\n",
        "    yield i**2"
      ],
      "metadata": {
        "id": "yKXXSP4Cq_jf"
      },
      "execution_count": 42,
      "outputs": []
    },
    {
      "cell_type": "code",
      "source": [
        "result = func1(3)"
      ],
      "metadata": {
        "id": "MDzP2M10q_gn"
      },
      "execution_count": 43,
      "outputs": []
    },
    {
      "cell_type": "code",
      "source": [
        "# Rewrite func1() as a generator comprehension\n",
        "gen = (i**2 for i in range(0,10))\n",
        "\n",
        "for item in zip(gen, func1(10)):\n",
        "    print(item)\n"
      ],
      "metadata": {
        "colab": {
          "base_uri": "https://localhost:8080/"
        },
        "id": "OhIm61oSq_d8",
        "outputId": "d0922e92-6221-4e34-a494-c8d30da67f33"
      },
      "execution_count": 44,
      "outputs": [
        {
          "output_type": "stream",
          "name": "stdout",
          "text": [
            "(0, 0)\n",
            "(1, 1)\n",
            "(4, 4)\n",
            "(9, 9)\n",
            "(16, 16)\n",
            "(25, 25)\n",
            "(36, 36)\n",
            "(49, 49)\n",
            "(64, 64)\n",
            "(81, 81)\n"
          ]
        }
      ]
    },
    {
      "cell_type": "code",
      "source": [
        "def func2(n):\n",
        "  for i in range(0, n):\n",
        "     if i%2 == 0:\n",
        "       yield 2*i\n",
        "\n",
        "gen = (2*i for i in range(0,20) if i%2==0)\n",
        "\n",
        "for item in zip(gen, func2(20)):\n",
        "    print(item)"
      ],
      "metadata": {
        "colab": {
          "base_uri": "https://localhost:8080/"
        },
        "id": "0177isrnq-n8",
        "outputId": "ae61a954-b4d0-4b0b-e040-8b5749a17ed7"
      },
      "execution_count": 45,
      "outputs": [
        {
          "output_type": "stream",
          "name": "stdout",
          "text": [
            "(0, 0)\n",
            "(4, 4)\n",
            "(8, 8)\n",
            "(12, 12)\n",
            "(16, 16)\n",
            "(20, 20)\n",
            "(24, 24)\n",
            "(28, 28)\n",
            "(32, 32)\n",
            "(36, 36)\n"
          ]
        }
      ]
    },
    {
      "cell_type": "code",
      "source": [
        "def func3(n, m):\n",
        "  for i in func1(n):\n",
        "    for j in func2(m):\n",
        "      yield ((i, j), i + j)\n",
        "\n",
        "# Rewrite func3() as a generator comprehension\n",
        "gen = (((i, j), i + j) for i in func1(8) for j in func2(10))\n",
        "\n",
        "for item in zip(gen, func3(8, 10)):\n",
        "    print(item)\n",
        " "
      ],
      "metadata": {
        "colab": {
          "base_uri": "https://localhost:8080/"
        },
        "id": "SHPVL5ULrmnS",
        "outputId": "87c678b3-2248-48f6-f9b0-b653334860f2"
      },
      "execution_count": 46,
      "outputs": [
        {
          "output_type": "stream",
          "name": "stdout",
          "text": [
            "(((0, 0), 0), ((0, 0), 0))\n",
            "(((0, 4), 4), ((0, 4), 4))\n",
            "(((0, 8), 8), ((0, 8), 8))\n",
            "(((0, 12), 12), ((0, 12), 12))\n",
            "(((0, 16), 16), ((0, 16), 16))\n",
            "(((1, 0), 1), ((1, 0), 1))\n",
            "(((1, 4), 5), ((1, 4), 5))\n",
            "(((1, 8), 9), ((1, 8), 9))\n",
            "(((1, 12), 13), ((1, 12), 13))\n",
            "(((1, 16), 17), ((1, 16), 17))\n",
            "(((4, 0), 4), ((4, 0), 4))\n",
            "(((4, 4), 8), ((4, 4), 8))\n",
            "(((4, 8), 12), ((4, 8), 12))\n",
            "(((4, 12), 16), ((4, 12), 16))\n",
            "(((4, 16), 20), ((4, 16), 20))\n",
            "(((9, 0), 9), ((9, 0), 9))\n",
            "(((9, 4), 13), ((9, 4), 13))\n",
            "(((9, 8), 17), ((9, 8), 17))\n",
            "(((9, 12), 21), ((9, 12), 21))\n",
            "(((9, 16), 25), ((9, 16), 25))\n",
            "(((16, 0), 16), ((16, 0), 16))\n",
            "(((16, 4), 20), ((16, 4), 20))\n",
            "(((16, 8), 24), ((16, 8), 24))\n",
            "(((16, 12), 28), ((16, 12), 28))\n",
            "(((16, 16), 32), ((16, 16), 32))\n",
            "(((25, 0), 25), ((25, 0), 25))\n",
            "(((25, 4), 29), ((25, 4), 29))\n",
            "(((25, 8), 33), ((25, 8), 33))\n",
            "(((25, 12), 37), ((25, 12), 37))\n",
            "(((25, 16), 41), ((25, 16), 41))\n",
            "(((36, 0), 36), ((36, 0), 36))\n",
            "(((36, 4), 40), ((36, 4), 40))\n",
            "(((36, 8), 44), ((36, 8), 44))\n",
            "(((36, 12), 48), ((36, 12), 48))\n",
            "(((36, 16), 52), ((36, 16), 52))\n",
            "(((49, 0), 49), ((49, 0), 49))\n",
            "(((49, 4), 53), ((49, 4), 53))\n",
            "(((49, 8), 57), ((49, 8), 57))\n",
            "(((49, 12), 61), ((49, 12), 61))\n",
            "(((49, 16), 65), ((49, 16), 65))\n"
          ]
        }
      ]
    }
  ]
}
