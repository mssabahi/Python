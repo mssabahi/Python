{
  "nbformat": 4,
  "nbformat_minor": 0,
  "metadata": {
    "colab": {
      "name": "ch_01.ipynb",
      "provenance": [],
      "collapsed_sections": [],
      "mount_file_id": "13g7oCGSI8A5yroqLV7siIERsKn9La-O9",
      "authorship_tag": "ABX9TyM7YgD38A6ud8h0TNDf38nC",
      "include_colab_link": true
    },
    "kernelspec": {
      "name": "python3",
      "display_name": "Python 3"
    },
    "language_info": {
      "name": "python"
    }
  },
  "cells": [
    {
      "cell_type": "markdown",
      "metadata": {
        "id": "view-in-github",
        "colab_type": "text"
      },
      "source": [
        "<a href=\"https://colab.research.google.com/github/mssabahi/Python/blob/master/ch_01.ipynb\" target=\"_parent\"><img src=\"https://colab.research.google.com/assets/colab-badge.svg\" alt=\"Open In Colab\"/></a>"
      ]
    },
    {
      "cell_type": "code",
      "source": [
        "import numpy as np\n",
        "import pandas as pd\n",
        "import matplotlib.pyplot as plt\n",
        "import seaborn as sns"
      ],
      "metadata": {
        "id": "AZ7z-IY6KyFk"
      },
      "execution_count": 58,
      "outputs": []
    },
    {
      "cell_type": "markdown",
      "source": [
        "# List methods\n",
        "Let's practice list methods!\n",
        "\n",
        "Let's imagine a situation: you went to the market and filled your baskets (basket1 and basket2) with fruits. You wanted to have one of each kind but realized that some fruits were put in both baskets.\n",
        "\n",
        "Task 1. Your first task is to remove everything from basket2 that is already present in basket1.\n",
        "\n",
        "Task 2. After the removal it is reasonable to anticipate that one of the baskets might weigh more compared to the another (all fruit kinds weight the same). Therefore, the second task is to transfer some fruits from a heavier basket to the lighter one to get approximately the same weight/amount of fruits."
      ],
      "metadata": {
        "id": "pIBLQBONFDnr"
      }
    },
    {
      "cell_type": "code",
      "execution_count": 24,
      "metadata": {
        "colab": {
          "base_uri": "https://localhost:8080/"
        },
        "id": "GMhCJ4fWrKg3",
        "outputId": "1e54e894-6581-4bb8-a722-4366fce43288"
      },
      "outputs": [
        {
          "output_type": "execute_result",
          "data": {
            "text/plain": [
              "([4, 5, 55, 7, 8, 9, 10, 11, 12, 13, 14], 6)"
            ]
          },
          "metadata": {},
          "execution_count": 24
        }
      ],
      "source": [
        "ls = list(range(4,16))\n",
        "no = ls.pop(2) # will remove based on indices and the removed number will be saved in no variable.\n",
        "ls.remove(15) # will remove the number\n",
        "\n",
        "ls.insert(2,55) # to add with index\n",
        "\n",
        "ls, no\n"
      ]
    },
    {
      "cell_type": "code",
      "source": [
        "basket1 = ['banana', 'kiwifruits', 'grapefruits', 'apples', 'apricots', 'nectarines', 'oranges', 'peaches', 'pears', 'lemons']\n",
        "basket2 = ['apples', 'grapes', 'apricots', 'dragonfruits', 'peaches', 'pears', 'limes', 'papaya']"
      ],
      "metadata": {
        "id": "n7VkZXiEF-lb"
      },
      "execution_count": 25,
      "outputs": []
    },
    {
      "cell_type": "code",
      "source": [
        "# Remove fruits from basket2 that are present in basket1\n",
        "for item in basket1:\n",
        "    if item in basket2:\n",
        "        basket2.remove(item)\n",
        "\n",
        "print('Basket 1: ' + str(basket1))\n",
        "print('Basket 2: ' + str(basket2))\n",
        "\n",
        "# Transfer fruits from basket1 to basket2\n",
        "while len(basket1) > len(basket2):\n",
        "    item_to_transfer = basket1.pop()\n",
        "    basket2.append(item_to_transfer)\n",
        "\n",
        "print('Basket 1: ' + str(basket1))\n",
        "print('Basket 2: ' + str(basket2))"
      ],
      "metadata": {
        "colab": {
          "base_uri": "https://localhost:8080/"
        },
        "id": "F89mfcqVuVxu",
        "outputId": "57c3a6db-381b-469b-fea7-185a45ceff1f"
      },
      "execution_count": 26,
      "outputs": [
        {
          "output_type": "stream",
          "name": "stdout",
          "text": [
            "Basket 1: ['banana', 'kiwifruits', 'grapefruits', 'apples', 'apricots', 'nectarines', 'oranges', 'peaches', 'pears', 'lemons']\n",
            "Basket 2: ['grapes', 'dragonfruits', 'limes', 'papaya']\n",
            "Basket 1: ['banana', 'kiwifruits', 'grapefruits', 'apples', 'apricots', 'nectarines', 'oranges']\n",
            "Basket 2: ['grapes', 'dragonfruits', 'limes', 'papaya', 'lemons', 'pears', 'peaches']\n"
          ]
        }
      ]
    },
    {
      "cell_type": "code",
      "source": [
        "A = {1, 2, 3, 4, 5, 6, 7}\n",
        "B = {5, 7, 9, 11, 13, 15}\n",
        "C = {1, 2, 8, 10, 11, 12, 13, 14, 15, 16, 17}\n",
        "D = {1, 3, 5, 7, 9, 11, 12, 13, 14, 15, 16, 17, 18, 19, 20}\n",
        "E = {9, 10, 11, 12, 13, 14, 15}\n",
        "\n",
        "A.union(B.intersection(C))-(D.intersection(C))"
      ],
      "metadata": {
        "colab": {
          "base_uri": "https://localhost:8080/"
        },
        "id": "ybN0v7BzuWss",
        "outputId": "56247aa2-e78c-4ffd-e693-70f639620bed"
      },
      "execution_count": 27,
      "outputs": [
        {
          "output_type": "execute_result",
          "data": {
            "text/plain": [
              "{2, 3, 4, 5, 6, 7}"
            ]
          },
          "metadata": {},
          "execution_count": 27
        }
      ]
    },
    {
      "cell_type": "markdown",
      "source": [
        "# Storing data in a dictionary\n",
        "\n",
        "It can be described by the following equation:\n",
        " X^2/a+Y^2/b=z\n",
        " \n",
        "Let's set the coefficient  to 1. Therefore, the radius at each cut will be equal to root(z)\n",
        "\n",
        "Your task is to create a dictionary that stores the mapping from the pair of coordinates  to the  coordinate (the lists storing considered ranges for  and  are given: range_x and range_y, respectively)."
      ],
      "metadata": {
        "id": "rASaDPc6LlMa"
      }
    },
    {
      "cell_type": "code",
      "source": [
        "range_x = [0.0, 0.2, 0.4, 0.6, 0.8, 1.0, 1.2, 1.4, 1.6, 1.8, 2.0]\n",
        "range_y = [0.0, 0.2, 0.4, 0.6, 0.8, 1.0, 1.2, 1.4, 1.6, 1.8, 2.0]\n",
        "\n",
        "circ_parab = dict()\n",
        "\n",
        "for x in range_x:\n",
        "    for y in range_y:        \n",
        "        # Calculate the value for z\n",
        "        z = x**2 + y**2\n",
        "        # Create a new key for the dictionary\n",
        "        key = (x,y)\n",
        "        # Create a new key-value pair      \n",
        "        circ_parab[key] = z\n",
        "circ_parab        "
      ],
      "metadata": {
        "id": "M06luFDuy7Ig"
      },
      "execution_count": null,
      "outputs": []
    },
    {
      "cell_type": "markdown",
      "source": [
        "# String indexing and concatenation\n",
        "You are presented with one of the earliest known encryption techniques - Caesar cipher. It is based on a simple shift of each letter in a message by a certain number of positions down the given alphabet. For example, given the English alphabet, a shift of 1 for 'xyz' would imply 'yza' and vice versa in case of decryption. Notice that 'z' becomes 'a' in this case.\n",
        "\n",
        "Thus, encryption/decryption requires two arguments: text and an integer key denoting the shift (key = 1 for the example above).\n",
        "\n",
        "Your task is to create an encryption function given the English alphabet stored in the alphabet string."
      ],
      "metadata": {
        "id": "kM9PeJM_MLj0"
      }
    },
    {
      "cell_type": "code",
      "source": [
        "alphabet='abcdefghijklmnopqrstuvwxyz'\n",
        "def encrypt(text, key):\n",
        "  \n",
        "    encrypted_text = ''\n",
        "\n",
        "    # Fill in the blanks to create an encrypted text\n",
        "    for char in text.lower():\n",
        "        if char==' ':\n",
        "          encrypted_text = encrypted_text + ' '\n",
        "        else:\n",
        "\n",
        "          idx = (alphabet.index(char) + key) % len(alphabet)\n",
        "          encrypted_text = encrypted_text + alphabet[idx]\n",
        "\n",
        "    return encrypted_text\n",
        "\n",
        "# Check the encryption function with the shift equals to 10\n",
        "print(encrypt(\"abcd efg\", 1))"
      ],
      "metadata": {
        "colab": {
          "base_uri": "https://localhost:8080/"
        },
        "id": "YKMV9p9h2lko",
        "outputId": "0295a55f-1415-40e2-c77e-2cb4b9bfed24"
      },
      "execution_count": 41,
      "outputs": [
        {
          "output_type": "stream",
          "name": "stdout",
          "text": [
            "bcde fgh\n"
          ]
        }
      ]
    },
    {
      "cell_type": "code",
      "source": [
        "alphabet='abcdefghijklmnopqrstuvwxyz'\n",
        "def dycrypt(text, key):\n",
        "  \n",
        "    dycrypted_text = ''\n",
        "\n",
        "    # Fill in the blanks to create an encrypted text\n",
        "    for char in text.lower():\n",
        "        if char==' ':\n",
        "          dycrypted_text = dycrypted_text + ' '\n",
        "        else:\n",
        "\n",
        "          idx = (alphabet.index(char) - key) % len(alphabet)\n",
        "          dycrypted_text =dycrypted_text + alphabet[idx]\n",
        "\n",
        "    return dycrypted_text\n",
        "\n",
        "# Check the encryption function with the shift equals to 10\n",
        "print(dycrypt(\"bcde fgh\", 1))"
      ],
      "metadata": {
        "colab": {
          "base_uri": "https://localhost:8080/"
        },
        "id": "WkOWTZ3T7euz",
        "outputId": "4ca0587d-3f9d-4492-b0bc-d4b0bdcaf864"
      },
      "execution_count": 42,
      "outputs": [
        {
          "output_type": "stream",
          "name": "stdout",
          "text": [
            "abcd efg\n"
          ]
        }
      ]
    },
    {
      "cell_type": "code",
      "source": [
        "4%6"
      ],
      "metadata": {
        "colab": {
          "base_uri": "https://localhost:8080/"
        },
        "id": "4bedj71BMwKB",
        "outputId": "ad1054ca-8ba5-4254-cec9-b526a46d5a39"
      },
      "execution_count": 36,
      "outputs": [
        {
          "output_type": "execute_result",
          "data": {
            "text/plain": [
              "4"
            ]
          },
          "metadata": {},
          "execution_count": 36
        }
      ]
    },
    {
      "cell_type": "code",
      "source": [
        "def bubble_sort(nums):\n",
        "    # We set swapped to True so the loop looks runs at least once\n",
        "    swapped = True\n",
        "    while swapped:\n",
        "        swapped = False\n",
        "        for i in range(len(nums) - 1):\n",
        "            if nums[i] > nums[i + 1]:\n",
        "                # Swap the elements\n",
        "                nums[i], nums[i + 1] = nums[i + 1], nums[i]\n",
        "                # Set the flag to True so we'll loop again\n",
        "                swapped = True\n",
        "\n",
        "\n",
        "# Verify it works\n",
        "random_list_of_nums = [5, 2, 1, 8, 4]\n",
        "bubble_sort(random_list_of_nums)\n",
        "print(random_list_of_nums)"
      ],
      "metadata": {
        "colab": {
          "base_uri": "https://localhost:8080/"
        },
        "id": "k0fxS_10szRu",
        "outputId": "00a9e010-454f-4128-c96b-affa35918ec1"
      },
      "execution_count": 57,
      "outputs": [
        {
          "output_type": "stream",
          "name": "stdout",
          "text": [
            "[1, 2, 4, 5, 8]\n"
          ]
        }
      ]
    },
    {
      "cell_type": "markdown",
      "source": [
        "# Operations on strings\n",
        "You are given the variable text storing the following string 'StRing ObJeCts haVe mANy inTEResting pROPerTies'.\n",
        "\n",
        "Your task is to modify this string in such a way that would result in 'string OBJECTS have MANY interesting PROPERTIES' (every other word in text is lowercased and uppercased, otherwise). You will obtain this result in three steps."
      ],
      "metadata": {
        "id": "WHkQZ99VUcyf"
      }
    },
    {
      "cell_type": "code",
      "source": [
        "text = 'StRing ObJeCts haVe mANy inTEResting pROPerTies'\n",
        "# Create a word list from the string stored in 'text'\n",
        "word_list = text.split()\n",
        "\n",
        "# Make every other word lowercased; otherwise - uppercased\n",
        "for i in range(len(word_list)):\n",
        "    if (i + 1) % 2 == 0:\n",
        "        word_list[i] = word_list[i].upper()\n",
        "    else:\n",
        "        word_list[i] = word_list[i].lower()\n",
        "\n",
        "print(word_list)\n",
        "\n",
        "# Join the words back and form a new string\n",
        "new_text = ' '.join(word_list)\n",
        "print(new_text)"
      ],
      "metadata": {
        "colab": {
          "base_uri": "https://localhost:8080/"
        },
        "id": "BpRdW6H-uafG",
        "outputId": "b818ced8-6f48-4ab2-f2b6-e1d5187e7eea"
      },
      "execution_count": 56,
      "outputs": [
        {
          "output_type": "stream",
          "name": "stdout",
          "text": [
            "['string', 'OBJECTS', 'have', 'MANY', 'interesting', 'PROPERTIES']\n",
            "string OBJECTS have MANY interesting PROPERTIES\n"
          ]
        }
      ]
    },
    {
      "cell_type": "code",
      "source": [
        "text = 'salman asdas'\n",
        "\n",
        "for char in text.lower():\n",
        "  print(char)"
      ],
      "metadata": {
        "colab": {
          "base_uri": "https://localhost:8080/"
        },
        "id": "8hiIhwudvB_P",
        "outputId": "1213f3a5-119b-4e0f-949e-f507976e4876"
      },
      "execution_count": 45,
      "outputs": [
        {
          "output_type": "stream",
          "name": "stdout",
          "text": [
            "s\n",
            "a\n",
            "l\n",
            "m\n",
            "a\n",
            "n\n",
            " \n",
            "a\n",
            "s\n",
            "d\n",
            "a\n",
            "s\n"
          ]
        }
      ]
    },
    {
      "cell_type": "code",
      "source": [
        "' ' .join(text.split())"
      ],
      "metadata": {
        "id": "RSFry_VxuQD0",
        "colab": {
          "base_uri": "https://localhost:8080/",
          "height": 35
        },
        "outputId": "4c8c2d5b-3b85-4f01-d1fa-48d7d033610a"
      },
      "execution_count": 55,
      "outputs": [
        {
          "output_type": "execute_result",
          "data": {
            "application/vnd.google.colaboratory.intrinsic+json": {
              "type": "string"
            },
            "text/plain": [
              "'salman asdas'"
            ]
          },
          "metadata": {},
          "execution_count": 55
        }
      ]
    },
    {
      "cell_type": "markdown",
      "source": [
        "# Fixing string errors in a DataFrame\n",
        "You are given the heroes dataset containing the information on different comic book heroes. However, you'll need to make some refinements in order to use this dataset further.\n",
        "\n",
        "Comparing Eye color, Hair color, and Skin color columns, you can see that strings in the Hair color columns are capitalized, whereas in other two the strings are lowercased.\n",
        "\n",
        "Moreover, some rows in the Gender column contain a spelling error (Fmale instead of Female).\n",
        "\n",
        "Your task is to make the strings in the Hair color column lowercased and to fix the spelling error in the Gender column."
      ],
      "metadata": {
        "id": "4ENg4GYruQAv"
      }
    },
    {
      "cell_type": "code",
      "source": [
        "heroes = pd.read_csv('/content/drive/MyDrive/Colab_Notebooks/Data_Camp/Python_Interview/Chapter_01/heroes_information.csv')\n",
        "heroes.head()"
      ],
      "metadata": {
        "id": "DDnkrcy1uP-D",
        "colab": {
          "base_uri": "https://localhost:8080/",
          "height": 302
        },
        "outputId": "ebae18eb-3145-4033-b98f-c5eb50b55155"
      },
      "execution_count": 59,
      "outputs": [
        {
          "output_type": "execute_result",
          "data": {
            "text/html": [
              "\n",
              "  <div id=\"df-e15ea386-7679-42ae-835b-04785d7c91f2\">\n",
              "    <div class=\"colab-df-container\">\n",
              "      <div>\n",
              "<style scoped>\n",
              "    .dataframe tbody tr th:only-of-type {\n",
              "        vertical-align: middle;\n",
              "    }\n",
              "\n",
              "    .dataframe tbody tr th {\n",
              "        vertical-align: top;\n",
              "    }\n",
              "\n",
              "    .dataframe thead th {\n",
              "        text-align: right;\n",
              "    }\n",
              "</style>\n",
              "<table border=\"1\" class=\"dataframe\">\n",
              "  <thead>\n",
              "    <tr style=\"text-align: right;\">\n",
              "      <th></th>\n",
              "      <th>Unnamed: 0</th>\n",
              "      <th>name</th>\n",
              "      <th>Gender</th>\n",
              "      <th>Eye color</th>\n",
              "      <th>Race</th>\n",
              "      <th>Hair color</th>\n",
              "      <th>Height</th>\n",
              "      <th>Publisher</th>\n",
              "      <th>Skin color</th>\n",
              "      <th>Alignment</th>\n",
              "      <th>Weight</th>\n",
              "    </tr>\n",
              "  </thead>\n",
              "  <tbody>\n",
              "    <tr>\n",
              "      <th>0</th>\n",
              "      <td>0</td>\n",
              "      <td>A-Bomb</td>\n",
              "      <td>Male</td>\n",
              "      <td>yellow</td>\n",
              "      <td>Human</td>\n",
              "      <td>No Hair</td>\n",
              "      <td>203.0</td>\n",
              "      <td>Marvel Comics</td>\n",
              "      <td>-</td>\n",
              "      <td>good</td>\n",
              "      <td>441.0</td>\n",
              "    </tr>\n",
              "    <tr>\n",
              "      <th>1</th>\n",
              "      <td>1</td>\n",
              "      <td>Abe Sapien</td>\n",
              "      <td>Male</td>\n",
              "      <td>blue</td>\n",
              "      <td>Icthyo Sapien</td>\n",
              "      <td>No Hair</td>\n",
              "      <td>191.0</td>\n",
              "      <td>Dark Horse Comics</td>\n",
              "      <td>blue</td>\n",
              "      <td>good</td>\n",
              "      <td>65.0</td>\n",
              "    </tr>\n",
              "    <tr>\n",
              "      <th>2</th>\n",
              "      <td>2</td>\n",
              "      <td>Abin Sur</td>\n",
              "      <td>Male</td>\n",
              "      <td>blue</td>\n",
              "      <td>Ungaran</td>\n",
              "      <td>No Hair</td>\n",
              "      <td>185.0</td>\n",
              "      <td>DC Comics</td>\n",
              "      <td>red</td>\n",
              "      <td>good</td>\n",
              "      <td>90.0</td>\n",
              "    </tr>\n",
              "    <tr>\n",
              "      <th>3</th>\n",
              "      <td>3</td>\n",
              "      <td>Abomination</td>\n",
              "      <td>Male</td>\n",
              "      <td>green</td>\n",
              "      <td>Human / Radiation</td>\n",
              "      <td>No Hair</td>\n",
              "      <td>203.0</td>\n",
              "      <td>Marvel Comics</td>\n",
              "      <td>-</td>\n",
              "      <td>bad</td>\n",
              "      <td>441.0</td>\n",
              "    </tr>\n",
              "    <tr>\n",
              "      <th>4</th>\n",
              "      <td>4</td>\n",
              "      <td>Abraxas</td>\n",
              "      <td>Male</td>\n",
              "      <td>blue</td>\n",
              "      <td>Cosmic Entity</td>\n",
              "      <td>Black</td>\n",
              "      <td>-99.0</td>\n",
              "      <td>Marvel Comics</td>\n",
              "      <td>-</td>\n",
              "      <td>bad</td>\n",
              "      <td>-99.0</td>\n",
              "    </tr>\n",
              "  </tbody>\n",
              "</table>\n",
              "</div>\n",
              "      <button class=\"colab-df-convert\" onclick=\"convertToInteractive('df-e15ea386-7679-42ae-835b-04785d7c91f2')\"\n",
              "              title=\"Convert this dataframe to an interactive table.\"\n",
              "              style=\"display:none;\">\n",
              "        \n",
              "  <svg xmlns=\"http://www.w3.org/2000/svg\" height=\"24px\"viewBox=\"0 0 24 24\"\n",
              "       width=\"24px\">\n",
              "    <path d=\"M0 0h24v24H0V0z\" fill=\"none\"/>\n",
              "    <path d=\"M18.56 5.44l.94 2.06.94-2.06 2.06-.94-2.06-.94-.94-2.06-.94 2.06-2.06.94zm-11 1L8.5 8.5l.94-2.06 2.06-.94-2.06-.94L8.5 2.5l-.94 2.06-2.06.94zm10 10l.94 2.06.94-2.06 2.06-.94-2.06-.94-.94-2.06-.94 2.06-2.06.94z\"/><path d=\"M17.41 7.96l-1.37-1.37c-.4-.4-.92-.59-1.43-.59-.52 0-1.04.2-1.43.59L10.3 9.45l-7.72 7.72c-.78.78-.78 2.05 0 2.83L4 21.41c.39.39.9.59 1.41.59.51 0 1.02-.2 1.41-.59l7.78-7.78 2.81-2.81c.8-.78.8-2.07 0-2.86zM5.41 20L4 18.59l7.72-7.72 1.47 1.35L5.41 20z\"/>\n",
              "  </svg>\n",
              "      </button>\n",
              "      \n",
              "  <style>\n",
              "    .colab-df-container {\n",
              "      display:flex;\n",
              "      flex-wrap:wrap;\n",
              "      gap: 12px;\n",
              "    }\n",
              "\n",
              "    .colab-df-convert {\n",
              "      background-color: #E8F0FE;\n",
              "      border: none;\n",
              "      border-radius: 50%;\n",
              "      cursor: pointer;\n",
              "      display: none;\n",
              "      fill: #1967D2;\n",
              "      height: 32px;\n",
              "      padding: 0 0 0 0;\n",
              "      width: 32px;\n",
              "    }\n",
              "\n",
              "    .colab-df-convert:hover {\n",
              "      background-color: #E2EBFA;\n",
              "      box-shadow: 0px 1px 2px rgba(60, 64, 67, 0.3), 0px 1px 3px 1px rgba(60, 64, 67, 0.15);\n",
              "      fill: #174EA6;\n",
              "    }\n",
              "\n",
              "    [theme=dark] .colab-df-convert {\n",
              "      background-color: #3B4455;\n",
              "      fill: #D2E3FC;\n",
              "    }\n",
              "\n",
              "    [theme=dark] .colab-df-convert:hover {\n",
              "      background-color: #434B5C;\n",
              "      box-shadow: 0px 1px 3px 1px rgba(0, 0, 0, 0.15);\n",
              "      filter: drop-shadow(0px 1px 2px rgba(0, 0, 0, 0.3));\n",
              "      fill: #FFFFFF;\n",
              "    }\n",
              "  </style>\n",
              "\n",
              "      <script>\n",
              "        const buttonEl =\n",
              "          document.querySelector('#df-e15ea386-7679-42ae-835b-04785d7c91f2 button.colab-df-convert');\n",
              "        buttonEl.style.display =\n",
              "          google.colab.kernel.accessAllowed ? 'block' : 'none';\n",
              "\n",
              "        async function convertToInteractive(key) {\n",
              "          const element = document.querySelector('#df-e15ea386-7679-42ae-835b-04785d7c91f2');\n",
              "          const dataTable =\n",
              "            await google.colab.kernel.invokeFunction('convertToInteractive',\n",
              "                                                     [key], {});\n",
              "          if (!dataTable) return;\n",
              "\n",
              "          const docLinkHtml = 'Like what you see? Visit the ' +\n",
              "            '<a target=\"_blank\" href=https://colab.research.google.com/notebooks/data_table.ipynb>data table notebook</a>'\n",
              "            + ' to learn more about interactive tables.';\n",
              "          element.innerHTML = '';\n",
              "          dataTable['output_type'] = 'display_data';\n",
              "          await google.colab.output.renderOutput(dataTable, element);\n",
              "          const docLink = document.createElement('div');\n",
              "          docLink.innerHTML = docLinkHtml;\n",
              "          element.appendChild(docLink);\n",
              "        }\n",
              "      </script>\n",
              "    </div>\n",
              "  </div>\n",
              "  "
            ],
            "text/plain": [
              "   Unnamed: 0         name Gender  ... Skin color Alignment Weight\n",
              "0           0       A-Bomb   Male  ...          -      good  441.0\n",
              "1           1   Abe Sapien   Male  ...       blue      good   65.0\n",
              "2           2     Abin Sur   Male  ...        red      good   90.0\n",
              "3           3  Abomination   Male  ...          -       bad  441.0\n",
              "4           4      Abraxas   Male  ...          -       bad  -99.0\n",
              "\n",
              "[5 rows x 11 columns]"
            ]
          },
          "metadata": {},
          "execution_count": 59
        }
      ]
    },
    {
      "cell_type": "code",
      "source": [
        "# Make all the values in the 'Hair color' column lowercased\n",
        "heroes['Hair color'] = heroes['Hair color'].str.lower()\n",
        "  \n",
        "# Check the values in the 'Hair color' column\n",
        "print(heroes['Hair color'].value_counts())"
      ],
      "metadata": {
        "id": "0A3qvGHkuP7C",
        "colab": {
          "base_uri": "https://localhost:8080/"
        },
        "outputId": "78168a11-4c43-417a-c75b-d7d48126e2b2"
      },
      "execution_count": 60,
      "outputs": [
        {
          "output_type": "stream",
          "name": "stdout",
          "text": [
            "-                   172\n",
            "black               161\n",
            "blond               102\n",
            "brown                87\n",
            "no hair              75\n",
            "red                  51\n",
            "white                23\n",
            "auburn               13\n",
            "green                 8\n",
            "strawberry blond      7\n",
            "grey                  5\n",
            "purple                5\n",
            "brown / white         4\n",
            "silver                4\n",
            "blue                  3\n",
            "yellow                2\n",
            "orange                2\n",
            "magenta               1\n",
            "red / orange          1\n",
            "pink                  1\n",
            "orange / white        1\n",
            "red / grey            1\n",
            "brown / black         1\n",
            "black / blue          1\n",
            "gold                  1\n",
            "indigo                1\n",
            "red / white           1\n",
            "Name: Hair color, dtype: int64\n"
          ]
        }
      ]
    },
    {
      "cell_type": "code",
      "source": [
        "# Substitute 'Fmale' with 'Female' in the 'Gender' column\n",
        "heroes['Gender'] = heroes['Gender'].replace('Fmale','Female')\n",
        "\n",
        "# Check if there is no occurences of 'Fmale'\n",
        "print(heroes['Gender'].value_counts())"
      ],
      "metadata": {
        "id": "sSn4PvE-vxl1",
        "colab": {
          "base_uri": "https://localhost:8080/"
        },
        "outputId": "3bddc3f7-989f-4686-9aa6-6ebd98a058b4"
      },
      "execution_count": 61,
      "outputs": [
        {
          "output_type": "stream",
          "name": "stdout",
          "text": [
            "Male      505\n",
            "Female    200\n",
            "-          29\n",
            "Name: Gender, dtype: int64\n"
          ]
        }
      ]
    },
    {
      "cell_type": "code",
      "source": [
        ""
      ],
      "metadata": {
        "id": "R9r7EZsqYEQ_"
      },
      "execution_count": null,
      "outputs": []
    }
  ]
}